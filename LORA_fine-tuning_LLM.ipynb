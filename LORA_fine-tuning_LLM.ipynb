{
 "cells": [
  {
   "cell_type": "markdown",
   "metadata": {
    "id": "sJ7KdY1wCZGO"
   },
   "source": [
    "# LORA fine tuning for LLM extractive question answering\n",
    "\n",
    "In this tutorial, you will fine-tune an LLM using LORA. The dataset being used is from https://www.kaggle.com/datasets/jpmiller/layoutlm?select=medquad.csv however, it has been adapted for an extractive question-answering task. Extractive question answering, assumes a question $q \\in Q$ and a context $c \\in C$ is given to the model $f$ and the model must output an answer $a \\subseteq c$ which is contained in the context. A concrete usecase of such a setup is a traditional FAQ with a free text input. Whilst there are numerous other ways to develop such a product (e.g., RAG), we'll focus on extractive Q&A by finetuning an LLM as an example use of LORA. However, this task will demonstrate the ambiguity/challenge of text based metrics for evaluation which remains an active research area."
   ]
  },
  {
   "cell_type": "markdown",
   "metadata": {
    "id": "w4233aPHDlkc"
   },
   "source": [
    "## Load dependancies"
   ]
  },
  {
   "cell_type": "code",
   "execution_count": 1,
   "metadata": {
    "colab": {
     "base_uri": "https://localhost:8080/"
    },
    "executionInfo": {
     "elapsed": 43044,
     "status": "ok",
     "timestamp": 1734071222480,
     "user": {
      "displayName": "Joshua Spear",
      "userId": "05726166776749736519"
     },
     "user_tz": 0
    },
    "id": "bqXsG9Vgk_mm",
    "outputId": "acd84c6e-2c42-4960-b13e-ca1941dc37ef"
   },
   "outputs": [
    {
     "name": "stdout",
     "output_type": "stream",
     "text": [
      "Requirement already satisfied: accelerate in /usr/local/lib/python3.10/dist-packages (1.1.1)\n",
      "Collecting evaluate\n",
      "  Downloading evaluate-0.4.3-py3-none-any.whl.metadata (9.2 kB)\n",
      "Collecting datasets\n",
      "  Downloading datasets-3.2.0-py3-none-any.whl.metadata (20 kB)\n",
      "Requirement already satisfied: peft in /usr/local/lib/python3.10/dist-packages (0.13.2)\n",
      "Requirement already satisfied: huggingface-hub>=0.21.0 in /usr/local/lib/python3.10/dist-packages (from accelerate) (0.26.5)\n",
      "Requirement already satisfied: numpy<3.0.0,>=1.17 in /usr/local/lib/python3.10/dist-packages (from accelerate) (1.26.4)\n",
      "Requirement already satisfied: packaging>=20.0 in /usr/local/lib/python3.10/dist-packages (from accelerate) (24.2)\n",
      "Requirement already satisfied: psutil in /usr/local/lib/python3.10/dist-packages (from accelerate) (5.9.5)\n",
      "Requirement already satisfied: pyyaml in /usr/local/lib/python3.10/dist-packages (from accelerate) (6.0.2)\n",
      "Requirement already satisfied: safetensors>=0.4.3 in /usr/local/lib/python3.10/dist-packages (from accelerate) (0.4.5)\n",
      "Requirement already satisfied: torch>=1.10.0 in /usr/local/lib/python3.10/dist-packages (from accelerate) (2.5.1+cu121)\n",
      "Collecting dill (from evaluate)\n",
      "  Downloading dill-0.3.9-py3-none-any.whl.metadata (10 kB)\n",
      "Requirement already satisfied: pandas in /usr/local/lib/python3.10/dist-packages (from evaluate) (2.2.2)\n",
      "Requirement already satisfied: requests>=2.19.0 in /usr/local/lib/python3.10/dist-packages (from evaluate) (2.32.3)\n",
      "Requirement already satisfied: tqdm>=4.62.1 in /usr/local/lib/python3.10/dist-packages (from evaluate) (4.66.6)\n",
      "Collecting xxhash (from evaluate)\n",
      "  Downloading xxhash-3.5.0-cp310-cp310-manylinux_2_17_x86_64.manylinux2014_x86_64.whl.metadata (12 kB)\n",
      "Collecting multiprocess (from evaluate)\n",
      "  Downloading multiprocess-0.70.17-py310-none-any.whl.metadata (7.2 kB)\n",
      "Requirement already satisfied: fsspec>=2021.05.0 in /usr/local/lib/python3.10/dist-packages (from fsspec[http]>=2021.05.0->evaluate) (2024.10.0)\n",
      "Requirement already satisfied: filelock in /usr/local/lib/python3.10/dist-packages (from datasets) (3.16.1)\n",
      "Requirement already satisfied: pyarrow>=15.0.0 in /usr/local/lib/python3.10/dist-packages (from datasets) (17.0.0)\n",
      "Collecting dill (from evaluate)\n",
      "  Downloading dill-0.3.8-py3-none-any.whl.metadata (10 kB)\n",
      "Collecting multiprocess (from evaluate)\n",
      "  Downloading multiprocess-0.70.16-py310-none-any.whl.metadata (7.2 kB)\n",
      "Collecting fsspec>=2021.05.0 (from fsspec[http]>=2021.05.0->evaluate)\n",
      "  Downloading fsspec-2024.9.0-py3-none-any.whl.metadata (11 kB)\n",
      "Requirement already satisfied: aiohttp in /usr/local/lib/python3.10/dist-packages (from datasets) (3.11.10)\n",
      "Requirement already satisfied: transformers in /usr/local/lib/python3.10/dist-packages (from peft) (4.46.3)\n",
      "Requirement already satisfied: aiohappyeyeballs>=2.3.0 in /usr/local/lib/python3.10/dist-packages (from aiohttp->datasets) (2.4.4)\n",
      "Requirement already satisfied: aiosignal>=1.1.2 in /usr/local/lib/python3.10/dist-packages (from aiohttp->datasets) (1.3.1)\n",
      "Requirement already satisfied: async-timeout<6.0,>=4.0 in /usr/local/lib/python3.10/dist-packages (from aiohttp->datasets) (4.0.3)\n",
      "Requirement already satisfied: attrs>=17.3.0 in /usr/local/lib/python3.10/dist-packages (from aiohttp->datasets) (24.2.0)\n",
      "Requirement already satisfied: frozenlist>=1.1.1 in /usr/local/lib/python3.10/dist-packages (from aiohttp->datasets) (1.5.0)\n",
      "Requirement already satisfied: multidict<7.0,>=4.5 in /usr/local/lib/python3.10/dist-packages (from aiohttp->datasets) (6.1.0)\n",
      "Requirement already satisfied: propcache>=0.2.0 in /usr/local/lib/python3.10/dist-packages (from aiohttp->datasets) (0.2.1)\n",
      "Requirement already satisfied: yarl<2.0,>=1.17.0 in /usr/local/lib/python3.10/dist-packages (from aiohttp->datasets) (1.18.3)\n",
      "Requirement already satisfied: typing-extensions>=3.7.4.3 in /usr/local/lib/python3.10/dist-packages (from huggingface-hub>=0.21.0->accelerate) (4.12.2)\n",
      "Requirement already satisfied: charset-normalizer<4,>=2 in /usr/local/lib/python3.10/dist-packages (from requests>=2.19.0->evaluate) (3.4.0)\n",
      "Requirement already satisfied: idna<4,>=2.5 in /usr/local/lib/python3.10/dist-packages (from requests>=2.19.0->evaluate) (3.10)\n",
      "Requirement already satisfied: urllib3<3,>=1.21.1 in /usr/local/lib/python3.10/dist-packages (from requests>=2.19.0->evaluate) (2.2.3)\n",
      "Requirement already satisfied: certifi>=2017.4.17 in /usr/local/lib/python3.10/dist-packages (from requests>=2.19.0->evaluate) (2024.8.30)\n",
      "Requirement already satisfied: networkx in /usr/local/lib/python3.10/dist-packages (from torch>=1.10.0->accelerate) (3.4.2)\n",
      "Requirement already satisfied: jinja2 in /usr/local/lib/python3.10/dist-packages (from torch>=1.10.0->accelerate) (3.1.4)\n",
      "Requirement already satisfied: sympy==1.13.1 in /usr/local/lib/python3.10/dist-packages (from torch>=1.10.0->accelerate) (1.13.1)\n",
      "Requirement already satisfied: mpmath<1.4,>=1.1.0 in /usr/local/lib/python3.10/dist-packages (from sympy==1.13.1->torch>=1.10.0->accelerate) (1.3.0)\n",
      "Requirement already satisfied: python-dateutil>=2.8.2 in /usr/local/lib/python3.10/dist-packages (from pandas->evaluate) (2.8.2)\n",
      "Requirement already satisfied: pytz>=2020.1 in /usr/local/lib/python3.10/dist-packages (from pandas->evaluate) (2024.2)\n",
      "Requirement already satisfied: tzdata>=2022.7 in /usr/local/lib/python3.10/dist-packages (from pandas->evaluate) (2024.2)\n",
      "Requirement already satisfied: regex!=2019.12.17 in /usr/local/lib/python3.10/dist-packages (from transformers->peft) (2024.9.11)\n",
      "Requirement already satisfied: tokenizers<0.21,>=0.20 in /usr/local/lib/python3.10/dist-packages (from transformers->peft) (0.20.3)\n",
      "Requirement already satisfied: six>=1.5 in /usr/local/lib/python3.10/dist-packages (from python-dateutil>=2.8.2->pandas->evaluate) (1.17.0)\n",
      "Requirement already satisfied: MarkupSafe>=2.0 in /usr/local/lib/python3.10/dist-packages (from jinja2->torch>=1.10.0->accelerate) (3.0.2)\n",
      "Downloading evaluate-0.4.3-py3-none-any.whl (84 kB)\n",
      "\u001b[2K   \u001b[90m━━━━━━━━━━━━━━━━━━━━━━━━━━━━━━━━━━━━━━━━\u001b[0m \u001b[32m84.0/84.0 kB\u001b[0m \u001b[31m6.3 MB/s\u001b[0m eta \u001b[36m0:00:00\u001b[0m\n",
      "\u001b[?25hDownloading datasets-3.2.0-py3-none-any.whl (480 kB)\n",
      "\u001b[2K   \u001b[90m━━━━━━━━━━━━━━━━━━━━━━━━━━━━━━━━━━━━━━━━\u001b[0m \u001b[32m480.6/480.6 kB\u001b[0m \u001b[31m29.0 MB/s\u001b[0m eta \u001b[36m0:00:00\u001b[0m\n",
      "\u001b[?25hDownloading dill-0.3.8-py3-none-any.whl (116 kB)\n",
      "\u001b[2K   \u001b[90m━━━━━━━━━━━━━━━━━━━━━━━━━━━━━━━━━━━━━━━━\u001b[0m \u001b[32m116.3/116.3 kB\u001b[0m \u001b[31m9.5 MB/s\u001b[0m eta \u001b[36m0:00:00\u001b[0m\n",
      "\u001b[?25hDownloading fsspec-2024.9.0-py3-none-any.whl (179 kB)\n",
      "\u001b[2K   \u001b[90m━━━━━━━━━━━━━━━━━━━━━━━━━━━━━━━━━━━━━━━━\u001b[0m \u001b[32m179.3/179.3 kB\u001b[0m \u001b[31m16.3 MB/s\u001b[0m eta \u001b[36m0:00:00\u001b[0m\n",
      "\u001b[?25hDownloading multiprocess-0.70.16-py310-none-any.whl (134 kB)\n",
      "\u001b[2K   \u001b[90m━━━━━━━━━━━━━━━━━━━━━━━━━━━━━━━━━━━━━━━━\u001b[0m \u001b[32m134.8/134.8 kB\u001b[0m \u001b[31m11.8 MB/s\u001b[0m eta \u001b[36m0:00:00\u001b[0m\n",
      "\u001b[?25hDownloading xxhash-3.5.0-cp310-cp310-manylinux_2_17_x86_64.manylinux2014_x86_64.whl (194 kB)\n",
      "\u001b[2K   \u001b[90m━━━━━━━━━━━━━━━━━━━━━━━━━━━━━━━━━━━━━━━━\u001b[0m \u001b[32m194.1/194.1 kB\u001b[0m \u001b[31m16.6 MB/s\u001b[0m eta \u001b[36m0:00:00\u001b[0m\n",
      "\u001b[?25hInstalling collected packages: xxhash, fsspec, dill, multiprocess, datasets, evaluate\n",
      "  Attempting uninstall: fsspec\n",
      "    Found existing installation: fsspec 2024.10.0\n",
      "    Uninstalling fsspec-2024.10.0:\n",
      "      Successfully uninstalled fsspec-2024.10.0\n",
      "\u001b[31mERROR: pip's dependency resolver does not currently take into account all the packages that are installed. This behaviour is the source of the following dependency conflicts.\n",
      "gcsfs 2024.10.0 requires fsspec==2024.10.0, but you have fsspec 2024.9.0 which is incompatible.\u001b[0m\u001b[31m\n",
      "\u001b[0mSuccessfully installed datasets-3.2.0 dill-0.3.8 evaluate-0.4.3 fsspec-2024.9.0 multiprocess-0.70.16 xxhash-3.5.0\n",
      "Collecting git+https://github.com/huggingface/transformers\n",
      "  Cloning https://github.com/huggingface/transformers to /tmp/pip-req-build-kmk_zsxb\n",
      "  Running command git clone --filter=blob:none --quiet https://github.com/huggingface/transformers /tmp/pip-req-build-kmk_zsxb\n",
      "  Resolved https://github.com/huggingface/transformers to commit 31f9a289a6207be6cae746e009d8e0db523be203\n",
      "  Installing build dependencies ... \u001b[?25l\u001b[?25hdone\n",
      "  Getting requirements to build wheel ... \u001b[?25l\u001b[?25hdone\n",
      "  Preparing metadata (pyproject.toml) ... \u001b[?25l\u001b[?25hdone\n",
      "Requirement already satisfied: filelock in /usr/local/lib/python3.10/dist-packages (from transformers==4.48.0.dev0) (3.16.1)\n",
      "Requirement already satisfied: huggingface-hub<1.0,>=0.24.0 in /usr/local/lib/python3.10/dist-packages (from transformers==4.48.0.dev0) (0.26.5)\n",
      "Requirement already satisfied: numpy>=1.17 in /usr/local/lib/python3.10/dist-packages (from transformers==4.48.0.dev0) (1.26.4)\n",
      "Requirement already satisfied: packaging>=20.0 in /usr/local/lib/python3.10/dist-packages (from transformers==4.48.0.dev0) (24.2)\n",
      "Requirement already satisfied: pyyaml>=5.1 in /usr/local/lib/python3.10/dist-packages (from transformers==4.48.0.dev0) (6.0.2)\n",
      "Requirement already satisfied: regex!=2019.12.17 in /usr/local/lib/python3.10/dist-packages (from transformers==4.48.0.dev0) (2024.9.11)\n",
      "Requirement already satisfied: requests in /usr/local/lib/python3.10/dist-packages (from transformers==4.48.0.dev0) (2.32.3)\n",
      "Collecting tokenizers<0.22,>=0.21 (from transformers==4.48.0.dev0)\n",
      "  Downloading tokenizers-0.21.0-cp39-abi3-manylinux_2_17_x86_64.manylinux2014_x86_64.whl.metadata (6.7 kB)\n",
      "Requirement already satisfied: safetensors>=0.4.1 in /usr/local/lib/python3.10/dist-packages (from transformers==4.48.0.dev0) (0.4.5)\n",
      "Requirement already satisfied: tqdm>=4.27 in /usr/local/lib/python3.10/dist-packages (from transformers==4.48.0.dev0) (4.66.6)\n",
      "Requirement already satisfied: fsspec>=2023.5.0 in /usr/local/lib/python3.10/dist-packages (from huggingface-hub<1.0,>=0.24.0->transformers==4.48.0.dev0) (2024.9.0)\n",
      "Requirement already satisfied: typing-extensions>=3.7.4.3 in /usr/local/lib/python3.10/dist-packages (from huggingface-hub<1.0,>=0.24.0->transformers==4.48.0.dev0) (4.12.2)\n",
      "Requirement already satisfied: charset-normalizer<4,>=2 in /usr/local/lib/python3.10/dist-packages (from requests->transformers==4.48.0.dev0) (3.4.0)\n",
      "Requirement already satisfied: idna<4,>=2.5 in /usr/local/lib/python3.10/dist-packages (from requests->transformers==4.48.0.dev0) (3.10)\n",
      "Requirement already satisfied: urllib3<3,>=1.21.1 in /usr/local/lib/python3.10/dist-packages (from requests->transformers==4.48.0.dev0) (2.2.3)\n",
      "Requirement already satisfied: certifi>=2017.4.17 in /usr/local/lib/python3.10/dist-packages (from requests->transformers==4.48.0.dev0) (2024.8.30)\n",
      "Downloading tokenizers-0.21.0-cp39-abi3-manylinux_2_17_x86_64.manylinux2014_x86_64.whl (3.0 MB)\n",
      "\u001b[2K   \u001b[90m━━━━━━━━━━━━━━━━━━━━━━━━━━━━━━━━━━━━━━━━\u001b[0m \u001b[32m3.0/3.0 MB\u001b[0m \u001b[31m75.8 MB/s\u001b[0m eta \u001b[36m0:00:00\u001b[0m\n",
      "\u001b[?25hBuilding wheels for collected packages: transformers\n",
      "  Building wheel for transformers (pyproject.toml) ... \u001b[?25l\u001b[?25hdone\n",
      "  Created wheel for transformers: filename=transformers-4.48.0.dev0-py3-none-any.whl size=10187859 sha256=cc646802972b3dafd7e7c74884791c662e26a322bcc7b5f3e0dc8492b9a8c708\n",
      "  Stored in directory: /tmp/pip-ephem-wheel-cache-2bv1mtdg/wheels/c0/14/d6/6c9a5582d2ac191ec0a483be151a4495fe1eb2a6706ca49f1b\n",
      "Successfully built transformers\n",
      "Installing collected packages: tokenizers, transformers\n",
      "  Attempting uninstall: tokenizers\n",
      "    Found existing installation: tokenizers 0.20.3\n",
      "    Uninstalling tokenizers-0.20.3:\n",
      "      Successfully uninstalled tokenizers-0.20.3\n",
      "  Attempting uninstall: transformers\n",
      "    Found existing installation: transformers 4.46.3\n",
      "    Uninstalling transformers-4.46.3:\n",
      "      Successfully uninstalled transformers-4.46.3\n",
      "Successfully installed tokenizers-0.21.0 transformers-4.48.0.dev0\n",
      "Collecting git+https://github.com/joshuaspear/pymlrf.git\n",
      "  Cloning https://github.com/joshuaspear/pymlrf.git to /tmp/pip-req-build-1ugqd516\n",
      "  Running command git clone --filter=blob:none --quiet https://github.com/joshuaspear/pymlrf.git /tmp/pip-req-build-1ugqd516\n",
      "  Resolved https://github.com/joshuaspear/pymlrf.git to commit 2e86313edd7900c1b5621b4e31368a36328b69f8\n",
      "  Preparing metadata (setup.py) ... \u001b[?25l\u001b[?25hdone\n",
      "Building wheels for collected packages: pymlrf\n",
      "  Building wheel for pymlrf (setup.py) ... \u001b[?25l\u001b[?25hdone\n",
      "  Created wheel for pymlrf: filename=pymlrf-1.0.0-py3-none-any.whl size=20447 sha256=8aeaf5a569e1fe6dc6b90edd8306ba87056d81e2ad3f4ca4b0d615f5de5d9b44\n",
      "  Stored in directory: /tmp/pip-ephem-wheel-cache-l5_mwkqs/wheels/b5/e9/53/587b30108dd50ceffb743ada10dd85037096182424fb2c907e\n",
      "Successfully built pymlrf\n",
      "Installing collected packages: pymlrf\n",
      "Successfully installed pymlrf-1.0.0\n"
     ]
    }
   ],
   "source": [
    "!pip install accelerate evaluate datasets peft\n",
    "# Load from transformers from github due to issue:\n",
    "# https://github.com/huggingface/transformers/issues/34701\n",
    "!pip install git+https://github.com/huggingface/transformers\n",
    "!pip install --force-reinstall git+https://github.com/joshuaspear/pymlrf.git"
   ]
  },
  {
   "cell_type": "code",
   "execution_count": 2,
   "metadata": {
    "colab": {
     "base_uri": "https://localhost:8080/"
    },
    "executionInfo": {
     "elapsed": 19729,
     "status": "ok",
     "timestamp": 1734071242205,
     "user": {
      "displayName": "Joshua Spear",
      "userId": "05726166776749736519"
     },
     "user_tz": 0
    },
    "id": "WVOcC7wWDq2F",
    "outputId": "968cb960-2d09-4522-dc73-b8413f9a6f87"
   },
   "outputs": [
    {
     "name": "stdout",
     "output_type": "stream",
     "text": [
      "Mounted at /content/drive\n"
     ]
    }
   ],
   "source": [
    "from google.colab import drive\n",
    "drive.mount('/content/drive')"
   ]
  },
  {
   "cell_type": "code",
   "execution_count": 3,
   "metadata": {
    "colab": {
     "base_uri": "https://localhost:8080/"
    },
    "executionInfo": {
     "elapsed": 16676,
     "status": "ok",
     "timestamp": 1734071261161,
     "user": {
      "displayName": "Joshua Spear",
      "userId": "05726166776749736519"
     },
     "user_tz": 0
    },
    "id": "BuIQvfEzpN5K",
    "outputId": "bcf2817a-9cb6-464b-904d-f2d8b64c1be7"
   },
   "outputs": [
    {
     "name": "stderr",
     "output_type": "stream",
     "text": [
      "\u001b[33;20m2024-12-13 06:27:23,244 - pymlrf - WARNING - pymlrf environment variable not set. Logging to file will not be performed (__init__.py:47)\u001b[0m\n",
      "WARNING:pymlrf:pymlrf environment variable not set. Logging to file will not be performed\n"
     ]
    }
   ],
   "source": [
    "from pymlrf.FileSystem import DirectoryHandler\n",
    "from sklearn.model_selection import train_test_split\n",
    "import torch\n",
    "import matplotlib.pyplot as plt\n",
    "import pandas as pd\n",
    "import re\n",
    "from typing import List, Dict, overload\n",
    "import wandb\n",
    "import os\n",
    "from tqdm import tqdm\n",
    "import transformers\n",
    "import accelerate\n",
    "import peft\n",
    "from transformers import AutoTokenizer\n",
    "from transformers import AutoModelForQuestionAnswering, TrainingArguments, Trainer\n",
    "from transformers import pipeline\n",
    "import evaluate\n",
    "import random\n",
    "from peft import LoraConfig, get_peft_model\n",
    "import pyarrow as pa\n",
    "import pyarrow.dataset as ds\n",
    "from datasets import Dataset\n",
    "from transformers.pipelines.pt_utils import KeyDataset\n",
    "import numpy as np\n",
    "import copy\n",
    "import json"
   ]
  },
  {
   "cell_type": "markdown",
   "metadata": {
    "id": "upcOWUcDEFGM"
   },
   "source": [
    "## Setup\n",
    "For training and validation, we'll use the HuggingFace API. Additionally, we'll save the best model to your HuggingFace profile. To do this, you'll need to sign into HuggingFace using ```notebook_login()``` below. The Trainer API from HuggingFace abstracts away a number of infrastructure challanges e.g., half-precisions. To alter the wandb parameters of the Trainer API, we will use environment variables which are defined using ```os.environ```"
   ]
  },
  {
   "cell_type": "code",
   "execution_count": 4,
   "metadata": {
    "executionInfo": {
     "elapsed": 6,
     "status": "ok",
     "timestamp": 1734071261161,
     "user": {
      "displayName": "Joshua Spear",
      "userId": "05726166776749736519"
     },
     "user_tz": 0
    },
    "id": "oeXsPqv7_7nO"
   },
   "outputs": [],
   "source": [
    "os.environ[\"WANDB_PROJECT\"] = \"week10_tutorial_llm_BERT\"\n",
    "os.environ[\"WANDB_LOG_MODEL\"] = \"checkpoint\""
   ]
  },
  {
   "cell_type": "code",
   "execution_count": 5,
   "metadata": {
    "colab": {
     "base_uri": "https://localhost:8080/",
     "height": 17,
     "referenced_widgets": [
      "0894fc19ccb44ea68c0f67b548c7d298",
      "5801553410cd44cdbf2176ef90e0833b",
      "bc2ea656326a42929974c9a01bb929bc",
      "59f64dac49384d6fbd2bf99e95327c10",
      "01153b3f11584263b6a28bca7269f562",
      "40ff7110a3e14a19a36da7c56ac58db6",
      "66b6bdcbf9f74a118db75bc8f42889b6",
      "ad715d468c82449997890dec6b8a5624",
      "b8b00391067248dfbd9b0fae79ebf8aa",
      "59870fcdde98454b9de2d4f84ed14990",
      "8f4ee136f97149e18b33ef290834e384",
      "73227299340a493599b32d5bda5eeda3",
      "17a93a6d849544e58a2ea58ddb9d1a16",
      "8b4dec01bbfb4444ab7315bfdbd05af3",
      "8b92afa4eae94f87ace55f99b3ca42b3",
      "4c478d8a265748fab729f6076775d53e",
      "a6e75ef27a114e91828dddfa631b770b",
      "5db814815d72440c8a9fabc65080a493",
      "7442295d2e6647799818fd789f404f7a",
      "a72ce6745d1742059a9434ca1badc66f"
     ]
    },
    "executionInfo": {
     "elapsed": 7,
     "status": "ok",
     "timestamp": 1734071261162,
     "user": {
      "displayName": "Joshua Spear",
      "userId": "05726166776749736519"
     },
     "user_tz": 0
    },
    "id": "ygA_6D3ouAqM",
    "outputId": "dcc1e0f8-a20b-4952-87d3-02e646b814bc"
   },
   "outputs": [
    {
     "data": {
      "application/vnd.jupyter.widget-view+json": {
       "model_id": "0894fc19ccb44ea68c0f67b548c7d298",
       "version_major": 2,
       "version_minor": 0
      },
      "text/plain": [
       "VBox(children=(HTML(value='<center> <img\\nsrc=https://huggingface.co/front/assets/huggingface_logo-noborder.sv…"
      ]
     },
     "metadata": {},
     "output_type": "display_data"
    }
   ],
   "source": [
    "from huggingface_hub import notebook_login\n",
    "notebook_login()"
   ]
  },
  {
   "cell_type": "markdown",
   "metadata": {
    "id": "_VCBpA3x2_26"
   },
   "source": [
    "## LORA overview\n",
    "The aim of LORA is to reduce the memory and computational requirements of finetuning. When niavely training a model (i.e., without additional tricks), the entire model is placed on a GPU. However, since training requires computing gradients, this gradient information additionally needs to be stored on the GPU, further reducing the model size that can be trained. For a specific downstream task, LORA posits that additional updates to the weights of a network are defined by a subspace of the weights with rank significantly lower than the full weight matrix. Alternatively, for a specific downstream task, we are only interested in updating the weights in a subset of directions. A such, LORA posits freezing the base model weights and training an additional set of weights that will be added to the original weights. For a given weight matrix, the computation becomes: $h = W_{0}x + \\Delta Wx = W_{0}x + \\Delta BAx$ where $W_{0}$ is the original weight matrix and $W$ is the LORA weight, decomposed into $BA$. If $W_{0}\\in \\mathbb{R}^{d\\times  k}$ then $B\\in \\mathbb{R}^{d\\times  r}, A\\in \\mathbb{R}^{r\\times  k}$. $r$ thus defines the rank of the LORA weight and defines a trade off between lower memory and higher computational speed (decreasing $r$) with increased learning capacity (increasing $r$). LORA additionally includes an $\\alpha$ parameter which scales the learned weights ($BA$) when adding them to the base weights. This is generally set equal to the LORA rank however, a higher $\\alpha$ will place greater emphasis on the learned weights."
   ]
  },
  {
   "cell_type": "markdown",
   "metadata": {
    "id": "s-qYInBtcZu9"
   },
   "source": [
    "## Import and setup data"
   ]
  },
  {
   "cell_type": "code",
   "execution_count": 6,
   "metadata": {
    "executionInfo": {
     "elapsed": 381,
     "status": "ok",
     "timestamp": 1734071271945,
     "user": {
      "displayName": "Joshua Spear",
      "userId": "05726166776749736519"
     },
     "user_tz": 0
    },
    "id": "j5sdHGFspCVj"
   },
   "outputs": [],
   "source": [
    "ROOT_DIR = \"drive/MyDrive/comp0188_2425/Tutorials/Josh\"\n",
    "#data_dh = DirectoryHandler(loc=os.path.join(ROOT_DIR,\"med_quad\"))\n",
    "data_dh = DirectoryHandler(loc=ROOT_DIR)"
   ]
  },
  {
   "cell_type": "code",
   "execution_count": 7,
   "metadata": {
    "colab": {
     "base_uri": "https://localhost:8080/",
     "height": 329
    },
    "executionInfo": {
     "elapsed": 3254,
     "status": "ok",
     "timestamp": 1734071276453,
     "user": {
      "displayName": "Joshua Spear",
      "userId": "05726166776749736519"
     },
     "user_tz": 0
    },
    "id": "o2TZVdETw7o6",
    "outputId": "1486a3cc-0742-432c-e7cb-bac8306bf5c3"
   },
   "outputs": [
    {
     "name": "stdout",
     "output_type": "stream",
     "text": [
      "(2019, 3)\n",
      "(2019, 3)\n"
     ]
    },
    {
     "data": {
      "application/vnd.google.colaboratory.intrinsic+json": {
       "summary": "{\n  \"name\": \"all_data\",\n  \"rows\": 2019,\n  \"fields\": [\n    {\n      \"column\": \"question\",\n      \"properties\": {\n        \"dtype\": \"string\",\n        \"num_unique_values\": 1973,\n        \"samples\": [\n          \"What are some challenges associated with using media and social media to capture information about an emerging epidemic?\",\n          \"What are the structural regions of the enterovirus polyprotein in this study?\",\n          \"How many people have come in contact and how many of these are in observation?\"\n        ],\n        \"semantic_type\": \"\",\n        \"description\": \"\"\n      }\n    },\n    {\n      \"column\": \"answer\",\n      \"properties\": {\n        \"dtype\": \"string\",\n        \"num_unique_values\": 1995,\n        \"samples\": [\n          \"protein misfolding\",\n          \"infections will increase (dependent on how much greater than 1 the reproduction number is)\",\n          \"the Pyrenees\"\n        ],\n        \"semantic_type\": \"\",\n        \"description\": \"\"\n      }\n    },\n    {\n      \"column\": \"context\",\n      \"properties\": {\n        \"dtype\": \"category\",\n        \"num_unique_values\": 147,\n        \"samples\": [\n          \"The Extent of Transmission of Novel Coronavirus in Wuhan, China, 2020\\n\\nhttps://doi.org/10.3390/jcm9020330\\n\\nSHA: 919c524f19f79213e6f81aa38502c70287d273dc\\n\\nAuthors: Nishiura, Hiroshi; Jung, Sung-mok; Linton, Natalie M.; Kinoshita, Ryo; Yang, Yichi; Hayashi, Katsuma; Kobayashi, Tetsuro; Yuan, Baoyin; Akhmetzhanov, Andrei R.\\nDate: 2020\\nDOI: 10.3390/jcm9020330\\nLicense: cc-by\\n\\nAbstract: A cluster of pneumonia cases linked to a novel coronavirus (2019-nCoV) was reported by China in late December 2019. Reported case incidence has now reached the hundreds, but this is likely an underestimate. As of 24 January 2020, with reports of thirteen exportation events, we estimate the cumulative incidence in China at 5502 cases (95% confidence interval: 3027, 9057). The most plausible number of infections is in the order of thousands, rather than hundreds, and there is a strong indication that untraced exposures other than the one in the epidemiologically linked seafood market in Wuhan have occurred.\\n\\nText: Since the announcement of a cluster of pneumonia cases of unknown etiology in Wuhan, Hubei Province, China, was made on 31 December 2019, many rapid virological, clinical, and epidemiological research responses have taken place [1, 2] . The causative agent of the pneumonia is suggested to be a novel coronavirus (2019-nCoV) of the same lineage (but genetically distinct) from the coronavirus causing severe acute respiratory syndrome (SARS) [1] . Cases in the initial cluster reported a common exposure-a seafood market in Wuhan where wild animals were served at a restaurant-indicating that a point-source zoonotic (animal-to-human) route was likely the main mode of transmission for those cases [2] .\\n\\nAlthough early reports from Wuhan [3] stated that (i) there were only tens of cases in the cluster and (ii) no human-to-human transmission was directly observed, the scientific community was alert to the possibility that the novel coronavirus would spread to other geographic locations-including other countries-via direct human-to-human transmission. In early January, the outbreak began to escalate rapidly with hundreds of cases now confirmed along with the presence of a few household clusters [4] [5] [6] [7] .\\n\\nAs of 24 January 2020, the cumulative incidence in China is 830 cases, of which 549 cases were diagnosed in Hubei, 26 in Beijing, 20 in Shanghai, and 53 in Guangdong. Additionally, twenty-six deaths have been linked to the outbreak [6, 8] , and thirteen cases were exported to Japan, Singapore, South Korea, Taiwan, Thailand, Vietnam and the United States as of 22 January 2020. Considering that enhanced surveillance has been underway in these importing countries, case ascertainment has been perhaps better in exported case data.\\n\\nUsing a spatial back-calculation method and analyzing exported cases, we estimate the cumulative incidence of 2019-nCoV cases in China in real time, allowing us to update and discuss the extent of transmission at the source. Table 1 shows the incidence of exported cases by date of hospitalization and report. Due to the initial difficulty of diagnosis in the absence of established primer for polymerase chain reaction testing, the time lag between hospitalization and reporting was longer for early cases compared with that of more recent cases. Among the seven locations reporting importation, the total volume of inbound passengers from China was m = 63.1 million per year in 2017 [9] , of which 100q = 2.1% were from Wuhan [10] , a home of n = 19.0 million people as the catchment population of Wuhan airport. Two other locations with confirmed cases, i.e., Macau and Hong Kong, were excluded from the analysis, because it is commutable by land transporation and the first case in Hong Kong was indeed not via airtravel. As we already know from elsewhere [11] [12] [13] , given the observed cumulative count of c exported cases, we have a balance equation of the cumulative risk of infection:\\n\\nwhere T is the sum of incubation and infectious periods, and here is assumed to be 3.2 and 9.3 days [14] , respectively, assuming that these periods are similar to those of other coronaviruses, and thus, T = 12.5 days. The estimated incidence in China is then given bypn. With an ad-hoc assumption that the data are generated following the binomial sampling process among travelers from Wuhan, the cumulative incidence is then estimated using a maximum likelihood method. Table 1 also shows the estimated incidence in China. The first exportation event in Thailand suggests 423 cases with the upper confidence limit of 1863 cases. The estimated cumulative incidence has grown as additional cases have been reported. As of 24 January 2020, with reports of thirteen exportation events, the cumulative incidence in China is estimated at 5502 cases (95% confidence interval: 3027, 9057).\\n\\nOur latest estimate is comparable to a preliminary report posted by a research group at Imperial College London (ICL) on their own homepage on 22 January 2020 [26] that estimated the incidence based on three importation events at 4000 cases (95% CI: 1000, 9700). Possible reasons for the slight difference include (i) the number of travelers in the previous study was derived from airline passenger data [27] and (ii) the assumed length of T was different. Two other estimates have also been published: a preliminary study by a Northeastern University group estimated 1250 cases (95% CI: 350, 3000) as of 17 January 2020 [28] and a University of Hong Kong group estimated 1343 cases (95% CI: 547, 3446) as of 17 January 2020 [29] . The former study from the United States assumes that the catchment area population is 10 million (we use 11.1 million).\\n\\nThe number of reported 2019-nCoV infections continues to grow as surveillance and detection methods improve. Our estimate and others [26, 28, 29] agree that the actual number of cases is likely in the order of thousands, rather than hundreds, and there is a strong indication that untraced exposures other than that of the originally linked seafood market in Wuhan have occurred. Such exposures are expected to include human-to-human transmission, but the levels of transmissibility have yet to be quantified. It is still plausible that a substantial number of human infections arose from animal-to-human exposures, such as was the case during the first outbreak of highly pathogenic influenza (H7N9) in China, 2013, and the human-to-human transmissibility has yet to be quantified in an explicit manner.\\n\\nDespite initially restricting what information on the outbreak was shared publicly, the Chinese government has begun to respectfully provide updates on the situation on a daily basis. This encourages the real-time release of information by means of regularly updated situation reports, including epidemiological information with dates of exposure, illness onset, and hospitalization among cases.\\n\\nFor researchers to be able to contribute to control efforts by improving situation awareness via an explicit risk assessment, it is crucial that detailed epidemiological data are posted to a public domain in real-time. Such datasets should include not only a deidentified line list of cases but also updates on the infection status of traced contacts. Information on exposure period and illness onset can assist with the estimation of important natural history parameters such as the incubation period. It is critical for the public health community and the public at large to understand more about the process of case ascertainment, including the current case definition and reporting system mechanisms. \\n\\nThe authors declare no conflicts of interest.\",\n          \"Efficient generation of recombinant RNA viruses using targeted recombination-mediated mutagenesis of bacterial artificial chromosomes containing full-length cDNA\\n\\nhttps://www.ncbi.nlm.nih.gov/pmc/articles/PMC3840674/\\n\\nSHA: ef38ed2f4cc96e16ce011623cc5d15d2d8ca58c3\\n\\nAuthors: Rasmussen, Thomas Bruun; Risager, Peter Christian; Fahn\\u00f8e, Ulrik; Friis, Martin Barfred; Belsham, Graham J; H\\u00f6per, Dirk; Reimann, Ilona; Beer, Martin\\nDate: 2013-11-22\\nDOI: 10.1186/1471-2164-14-819\\nLicense: cc-by\\n\\nAbstract: BACKGROUND: Infectious cDNA clones are a prerequisite for directed genetic manipulation of RNA viruses. Here, a strategy to facilitate manipulation and rescue of classical swine fever viruses (CSFVs) from full-length cDNAs present within bacterial artificial chromosomes (BACs) is described. This strategy allows manipulation of viral cDNA by targeted recombination-mediated mutagenesis within bacteria. RESULTS: A new CSFV-BAC (pBeloR26) derived from the Riems vaccine strain has been constructed and subsequently modified in the E2 coding sequence, using the targeted recombination strategy to enable rescue of chimeric pestiviruses (vR26_E2gif and vR26_TAV) with potential as new marker vaccine candidates. Sequencing of the BACs revealed a high genetic stability during passages within bacteria. The complete genome sequences of rescued viruses, after extensive passages in mammalian cells showed that modifications in the E2 protein coding sequence were stably maintained. A single amino acid substitution (D3431G) in the RNA dependent RNA polymerase was observed in the rescued viruses vR26_E2gif and vR26, which was reversion to the parental Riems sequence. CONCLUSIONS: These results show that targeted recombination-mediated mutagenesis provides a powerful tool for expediting the construction of novel RNA genomes and should be applicable to the manipulation of other RNA viruses.\\n\\nText: Bacterial artificial chromosomes (BACs) are ideally suited for the stable maintenance of large DNA sequences derived from viral genomes [1] . A considerable number of BAC systems have been established for large DNA viruses; in particular many different herpesvirus genomes have been cloned into BACs (for review see [2] ). The first BAC systems using RNA virus cDNAs were described for coronaviruses [3] [4] [5] [6] and recently the first BAC containing a full-length cDNA for a negative-stranded RNA virus was described [7] . Similarly, cDNAs corresponding to the full-length genomes of members of the Flaviviridae family (Japanese encephalitis virus [8] and Dengue virus [9] ) have been inserted into BACs.\\n\\nBACs containing full-length cDNAs of pestiviruses (also within the Flaviviridae), including bovine viral diarrhea virus (BVDV) and classical swine fever virus (CSFV) have recently been established [10, 11] . Infectious pestiviruses can be rescued using RNA transcripts derived from these BACs. The pestiviruses have single stranded positive sense RNA genomes, about 12.3 kb in length, which includes a single long open reading frame, encoding a large polyprotein, flanked by 5\\u2032 and 3\\u2032 untranslated regions (UTRs) that are critical for autonomous replication of the genome [12, 13] . The polyprotein is cleaved by cellular and viral proteases into four structural proteins (nucleocapsid protein C, envelope glycoproteins E rns , E1 and E2) and eight nonstructural proteins (N pro , p7, NS2, NS3, NS4A, NS4B, NS5A and NS5B). The availability of genetically defined and stable pestivirus BACs facilitates the functional study of viral proteins or RNA structures and also the development of new marker vaccine candidates. Several CSFV vaccines with marker properties based on chimeric pestiviruses have been developed over the years [14] . In particular, chimeric pestiviruses with substitution of the entire E2 protein have been described [15] [16] [17] but also mutants with more subtle modifications, such as the modification of the important TAV-epitope [18] within the CSFV-E2 protein [19, 20] are promising marker vaccine candidates.\\n\\nManipulation of BACs using traditional cloning procedures can be difficult (e.g. because of a lack of convenient restriction enzyme sites) and thus a range of methodologies that apply bacterial genetics, including homologous recombination (e.g. Red/ET homologous recombineering) within the E. coli host, have been developed (for review, see [21] ). The use of homologous recombination allows site-directed mutagenesis of BACs [22] and, by employing a counterselection scheme, specific modifications can be obtained without leaving residual \\\"foreign\\\" sequences [23] . The main advantage of this method is that there are no target limitations (e.g. based on size or location) and no need for suitable restriction sites. The integration of the modified sequence is performed in vivo (within E. coli) thereby potentially being more accurate than in vitro approaches like PCR-based methods. Although in vitro cloning approaches based on the use of high-fidelity polymerases for PCR amplification have significantly improved in recent years, the use of in vivo approaches should allow a more accurate method of mutagenesis due to the use of the cells own high-fidelity replication system which includes proof reading. Whereas BAC recombination has been commonly used for modifying DNA viruses, there are only very few reports about the use of this technology for RNA viruses [7, 24, 25] .\\n\\nHere, a generally applicable strategy for the manipulation and rescue of chimeric pestiviruses from BACs is described as a model, and the flexibility of this approach is demonstrated by generating different modifications in the viral cDNA of the new CSFV-BAC, pBeloR26, derived from the modified live vaccine strain \\\"C-strain Riems\\\". The targeted recombination-mediated mutagenesis described here includes the substitution of the 9 amino acid (aa) linear TAV-epitope (TAVSPTTLR) present in the E2 protein with the corresponding region (TTVSTSTLA) of a heterologous pestivirus (border disease virus, BDV, strain \\\"Gifhorn\\\") and also the replacement of the entire CSFV E2 protein coding region with the whole E2 coding region from the same BDV, to generate marked vaccine viruses that can be discriminated using specific anti-E2 monoclonal antibodies. The genetic stabilities of both the BAC constructs (within E. coli) and the rescued viruses have also been assessed.\\n\\nPorcine kidney (PK15) and sheep fetal thymoid (SFT-R) cells were grown at 37\\u00b0C (with 5% (v/v) CO 2 ) in Dulbecco's minimal essential medium (DMEM) supplemented with 5% (v/v) pestivirus-free fetal calf serum. Virus from a bait containing the modified live vaccine CSFV \\\"C-strain Riems\\\" (Riemser Arzneimittel AG, Germany) was propagated once in PK15 cells and termed vRiemser. RNA obtained from BDV strain \\\"Gifhorn\\\" [26] was used for amplification of the Gifhorn E2-coding sequence.\\n\\nOligonucleotide primers used are listed in Additional file 1: Table S1 .\\n\\nThe BAC construct, pBeloR26, was constructed using the long RT-PCR method as previously described [11] using RNA derived from the \\\"C-strain Riems\\\". Briefly, full-length viral cDNAs flanked by NotI sites were amplified by long RT-PCR using primers 5\\u2032Cstrain_T7_Not1 (which includes a T7 promotor for in vitro transcription, a NotI site and a region corresponding to the first 44 nt of the genome) and 3\\u2032CSFV_Not1 (that contains a NotI site and sequence complementary to the 3\\u2032-terminal 35 nt of the genome that are conserved among many CSFVs including the Cstrain). The product (ca. 12.3 kbp) was digested with NotI and inserted into similarly digested pBeloBAC11 (New England Biolabs, GenBank accession U51113). All BACs were modified and maintained in E. coli DH10B cells (Invitrogen) grown at 37\\u00b0C in LB medium containing chloramphenicol (Cam, 15 \\u03bcg/ml). The electroporation of bacteria was performed in 0.1 cm cuvettes using 1 pulse at 1800 V, 25 \\u03bcF and 200 \\u03a9 in a Gene Pulser Xcell (Bio-Rad). BACs to be used as templates for long PCR or for screening by restriction enzyme digestion were purified from 4 ml overnight cultures of E. coli DH10B using the ZR BAC DNA Miniprep Kit (Zymo Research). BACs required for direct genome sequencing were purified from 500 ml cultures using the Large-construct kit (Qiagen).\\n\\nModifications to the full-length CSFV cDNA were accomplished in E. coli DH10B (streptomycin resistant, Strep R ) using the Counter Selection BAC Modification Kit (Gene Bridges, Heidelberg, Germany).\\n\\nThe Red/ET recombination involved three steps (i-iii).\\n\\nStep i) the temperature-sensitive pRedET expression plasmid (Gene Bridges) was introduced into electroporationcompetent E.coli DH10B cells containing the parental BAC (phenotype Cam R , Strep R ). The pRedET expresses the phage lambda proteins red\\u03b1, red\\u03b2 and red\\u03b3, under control of the arabinose-inducible pBAD promoter, allowing homologous recombination to occur. Immediately after electroporation, pre-warmed LB medium without antibiotics (1 ml) was added to the cells which were then incubated at 30\\u00b0C for 1 hour, prior to spreading onto agar plates containing Cam (15 \\u03bcg/ml) and tetracycline (Tet) (3 \\u03bcg/ml) and then incubated at 30\\u00b0C overnight to maintain the pRedET. The presence of the pRedET plasmid (conferring Tet R ) was verified by visual inspection of BAC-DNA preparations from the Cam R /Tet R colonies using agarose gel electrophoresis.\\n\\nStep ii) counter-selection marker cassettes with an extra NotI site for screening purposes (rpsL-neo, 1325 bp) were amplified by PCR using primers with 30 nt or 50 nt extensions that were homologous to the target site in the BAC using the rpsL-neo plasmid (Gene Bridges) as template and the Phusion hot start II HF DNA polymerase (Thermo Scientific) with cycling conditions as follows: 98\\u00b0C for 30s, followed by 35 cycles of 98\\u00b0C for 10s, 60\\u00b0C for 20s, 72\\u00b0C for 60s, and 1 cycle at 72\\u00b0C for 4 min. The PCR products (ca. 1400 bp) were isolated on 1% (w/v) TBE agarose gels and purified using a GeneJET gel extraction kit (Thermo Scientific). Samples (30 \\u03bcl), from an E. coli culture containing pRedET and the parental BAC grown overnight at 30\\u00b0C in LB media (Cam, Tet), were used to inoculate 1.4 ml of fresh LB media with the same antibiotics to obtain exponentially growing bacteria at 30\\u00b0C. Red/ET recombination proteins were induced by adding 50 \\u03bcl of 10% (w/v) L-arabinose (Sigma). The PCR product (200 ng) containing the rpsL-neo cassette was introduced into these bacteria using electroporation (as above). Following electroporation, the cells were grown at 37\\u00b0C for 70 min (to allow recombination) and then selected on plates containing Cam (15 \\u03bcg/ml), Tet (3 \\u03bcg/ml) and kanamycin (Kan, 15 \\u03bcg/ml) overnight at 30\\u00b0C to maintain the pRedET. Note, the rpsL cassette confers Streptomycin sensitivity (Strep S ) onto the resistant DH10B strain and the neo confers Kanamycin resistance (Kan R ). The correct phenotype (Cam R , Kan R , Tet R , Strep S ) of the resulting colonies was confirmed by streaking the colonies onto plates containing Cam (15 \\u03bcg/ml), Tet (3 \\u03bcg/ml) and Kan (15 \\u03bcg/ml) and grown at 30\\u00b0C. Importantly, for the third step, the replacement of the rpsL-neo cassette (using counter-selection), the selected colonies were also streaked onto plates containing Cam (15 \\u03bcg/ml) plus Strep (50 \\u03bcg/ml) and shown to be Strep S indicating incorporation of a functional rpsL gene. The structures of the intermediate BACs were verified by restriction enzyme analysis and sequencing around the inserts.\\n\\nStep iii) the replacement of the rpsL-neo selection cassettes from the intermediate constructs using linear DNA fragments was achieved through counter-selection and Red/ET recombination. Again, the homologous sequences at the ends of the DNA fragment were used for Red/ET mediated recombination events to replace the rpsL-neo cassette with the sequence of interest. Counterselection against the rpsL-neo cassette (phenotype Cam R , Kan R , Tet R , Strep S ) was employed using media containing Cam (15 \\u03bcg/ml) and Strep (50 \\u03bcg/ml) to isolate the required derivatives (phenotype Cam R and Strep R ).\\n\\nInitially, the intermediate construct, pBeloR26_E2rpsLneo ( Figure 1 ), was generated using Red/ET recombination by insertion of the rpsL-neo cassette with an extra NotI site for screening purposes which was amplified using primers Criems-TAVfor and Criems-TAVrev (Additional file 1: Table S1 ) in place of the TAVSPTTLR coding sequence (27 nt) . Secondly, the rpsL-neo cassette in this intermediate construct was then replaced using counter-selection Red/ ET recombination using a single-stranded oligonucleotide, Riems_TAV_Gifhorn (Additional file 1: Table S1 ) with the same homology arms as used for the rpsL-neo cassette, to introduce the coding sequence for the BDV \\\"Gifhorn\\\" epitope sequence (TTVSTSTLA). The resulting construct was named pBeloR26_TAV (Figure 1 ). The initial intermediate construct (with rpsL-neo) was then used to produce the pBeloR26_E2gif construct ( Figure 1 ). For this, the E2 coding sequence was amplified from cDNA prepared from BDV \\\"Gifhorn\\\" RNA using two different primer pairs, one set with 50 nt homology arms (Criems_E2_gifFlong/Criems_ E2_gifRlong) and another with 30 nt homologous sequences (Criems_E2_gifF/Criems_E2_gifR).\\n\\nFor generation of BACs with substitution of the entire E2 coding sequences, PCR products consisting of the sequence of interest flanked with homology arms identical to the target area were generated by PCR (as for the rpsLneo cassette). For making constructs with substitution of shorter sequences (e.g. the TAV-epitope), the recombination was achieved using synthetic single stranded oligonucleotides rather than PCR products. Pre-heating of single stranded oligonucleotides at 95\\u00b0C for 2 min followed by snap-freezing, prior to electroporation, empirically showed the best results. In each case, the DNA molecules were introduced into E. coli containing the BAC derivatives including the rpsL-neo cassettes together with the pRedET plasmid by electroporation as described above. The structures of the modified BACs were verified by restriction enzyme analysis and subsequent full-genome sequencing (see below).\\n\\nBAC DNA (1 \\u03bcg) was linearized with NotI or 1 \\u03bcl BAC DNA was used as template for long PCR amplification using primers 5\\u2032C-strain_T7_Not1 and 3\\u2032CSFV (Additional file 1: Table S1 ). Linearized BACs or PCR products were purified with the GeneJet PCR purification kit (Thermo Scientific) and transcribed in vitro using a Megascript T7 kit (Invitrogen). Viruses were rescued from RNA transcripts (1 to 5 \\u03bcg) by electroporation of porcine (PK15) or ovine (SFT-R) cells essentially as described previously [24] . Cells were analysed using immunofluorescence microscopy (typically after 3 days) for the expression of NS3 and E2 proteins using specific monoclonal antibodies (mAbs), these were anti-NS3 (WB103/105, pan-pestivirus), anti-CSFV E2 (WH211, WH303, both CSFV specific) and anti-BDV E2 (WB166, BVDV/BDV specific) (AHVLA Scientific, United Kingdom) together with Alexa 488 conjugated goat antimouse IgG antibody (Molecular Probes, Invitrogen). The nuclei of cells were visualized using DAPI (Vector Laboratories) and images were recorded using a BX63 fluorescence microscope (Olympus). For peroxidase staining, cells were fixed and stained for the presence of pestivirus antigens using biotinylated pig anti-CSFV/BVDV polyclonal IgG followed by avidin-conjugated horseradish peroxidase (eBioscience) as previously described [27] . The same staining procedure was also performed using the anti-E2 mAbs. Samples containing virus-positive cells were passaged onto new cells. Virus growth curves were generated as previously described [24] . Briefly, PK15 or SFT-R cells were infected at a multiplicity of infection (MOI) of 0.1 pfu/cell and grown for three days. \\n\\nBAC DNAs (5 \\u03bcg), purified using the Large-construct kit (Qiagen), or PCR products (1 \\u03bcg) amplified from viral cDNA or from BACs using the long PCR method (as above) were consensus sequenced using a 454 FLX (Roche) or an Ion PGM (Life Technologies). Both Newbler (Roche) and the bwa.bwasw alignment algorithm [28] were used for mapping the reads to the expected sequence. A combination of Samtools [29] and LoFreq SNV-caller [30] was used for downstream single nucleotide variant (SNV) analysis. Finally, clone consensus sequences were aligned using MAFFT in the Geneious software platform (Biomatters).\\n\\nGeneration of a BAC containing full-length cDNA corresponding to the modified live vaccine \\\"C-strain Riems\\\"\\n\\nBACs containing the full-length cDNA corresponding to the parental vRiemser (\\\"C-strain Riems\\\") were constructed according to the method described previously for the \\\"Paderborn\\\" strain of CSFV [11] . BACs containing the complete CSFV cDNAs were identified by restriction Figure 1 Schematic representation of the CSFV genome organization and the BACs constructed and used in this study. Nucleotide (nt) and amino acid (aa) positions within R26 for the 5\\u2032 and 3\\u2032 termini together with the translational start and stop codons of the polyprotein coding region plus cleavage sites used to make the individual proteins (N pro , C, E rns , E1, E2, p7, NS2, NS3, NS4A, NS4B, NS5A and NS5B) are indicated. Insertion of the rpsL-neo in place of the TAV-epitope within CSFV E2 for the intermediate construct (R26_rpsLneo) and the subsequent replacement with the TTVSTSTLA sequence (R26_TAV) and the complete substitution of the E2 sequence (R26_E2gif) are shown. Names of BAC constructs begin with \\\"pBelo\\\" and rescued viruses with \\\"v\\\" (e.g. pBeloR26 and vR26). Cell culture passage no. of virus is indicated with \\\"/P\\\" (e.g. vR26/P-4).\\n\\ndigest analysis and following linearization by NotI, RNA transcripts were produced and electroporated into PK15 cells. This screening resulted in the identification of a BAC containing a cDNA insert of 12316 nt, pBeloR26 (Figure 1) , which yielded infectious virus, termed vR26, that could be propagated in SFT-R cells (Figure 2 , upper panels) and in PK15 cells (Figure 3 ). The rescued vR26 displayed higher growth rate at the early stage (about 10fold difference in virus yield at 24 h) compared to the parental vaccine virus, but after 48 hours similar virus titres were obtained (Figure 3 ). Full-genome sequencing of the cloned BAC template, pBeloR26, revealed a number of differences throughout the genome when compared to the full-length consensus sequence of the cDNA used for the cloning procedure (see Table 1 ). These differences are non-representative variants within the cDNA. Overall, the BAC sequence differed from the cDNA sequence in 18 positions, 9 of these lead to predicted amino acid substitutions within the polyprotein; one in each of N pro , E rns , E1, E2 and NS3 and four amino acid substitutions in NS5B (Table 1) . When compared to the published reference sequence (GenBank accession AY259122.1), the pBeloR26 BAC sequence differed at an additional 11 positions, 1 of these lead to a predicted amino acid substitution and there was one large insertion (27 nt) in the hypervariable region of the 3\\u2032-UTR (Additional file 2: Table S2 ).\\n\\nTo determine the utility of the targeted recombinationmediated mutagenesis system for pestiviruses, two different modifications of the E2 protein coding sequence within pBeloR26 were generated using the Red/ET recombination methodology. Initially, the sequence encoding the linear TAV-epitope (TAVSPTTLR) within the CSFV-E2 was substituted with the sequence encoding the corresponding region (encoding TTVSTSTLA) from the BDV strain \\\"Gifhorn\\\" as described in the Materials and Methods section. More than 90% of the colonies obtained using this procedure contained the required BAC\\n\\nAnti-CSFV E2 (WH211) Figure 2 Antibody reaction patterns of pestivirus infected cells. SFT-R cells were infected with vR26 and its two derivatives vR26_E2gif and vR26_TAV plus vGifhorn [26] . After 72 h, the cells were fixed and stained with monoclonal antibodies against the NS3 protein (WB103/105, left column), the CSFV E2 protein (WH303 and WH211, middle columns) and the BDV E2 protein (WB166, right column) as indicated and viewed using a fluorescence microscope. structure as determined by NotI digestions. The complete genome sequences of the CSFV cDNA within two selected BACs, designated pBeloR26_TAV have been verified (data not shown). In addition, the complete coding sequence (1119 nt) for the CSFV-E2 protein was substituted by the corresponding sequence from BDV \\\"Gifhorn\\\". Again more than 90% of the colonies obtained contained the required BAC and the same proportion of correctly recombined BACs was obtained using either 30 nt or 50 nt homology arms. The chimeric BAC was designated, pBeloR26_E2gif and the complete virus genome sequence (cDNA) was verified (data not shown).\\n\\nAfter electroporation with RNA transcripts derived from either pBeloR26_TAV or pBeloR26_E2gif a large number of CSFV NS3-positive cells could be observed (data not shown) and chimeric virus stocks, termed vR26_TAV and vR26_E2gif, were generated after further passages in cells. Cells infected with these viruses and with the parental vR26 and vGifhorn strains were all stained with mAbs directed against the NS3 protein ( Figure 2 ). However, in contrast to the parental vR26 virus, the chimeric viruses rescued from the recombined BACs were not recognized by anti-E2 mAbs specific for the CSFV-E2 proteins ( Figure 2 ) and thus, consistent with their structure, displayed the same antibody reaction pattern as vGifhorn. Two different anti-CSFV E2 mAbs, WH211 and WH303, were used for the staining and the latter has been shown previously to target the TAV-epitope [18] . As anticipated, cells infected with either the vGifhorn or with the chimeric vR26_E2gif could be shown to express the \\\"Gifhorn\\\" E2 protein using staining with an anti-BDV mAb ( Figure 2 ). The presence of the BDV epitope TTVSTSTLA in vR26_ TAV was insufficient to permit efficient recognition by this anti-BDV mab, although a weak signal was observed in some cells.\\n\\nThe BAC constructs pBeloR26 and pBeloR26_E2gif were analysed for the genetic stability of the cDNA to determine the suitability of the BAC vector for maintaining full-length pestivirus cDNAs. E. coli DH10B cells containing the BACs were passaged 15 times, by overnight growth, and the complete viral cDNAs within the BACs were sequenced after the 1st and the 15th passage. No mutations were observed within the 12316 nt virus cDNA sequences after this extensive propagation of the BACs in the bacterial host, indicating a highly stable system for the maintenance of complete pestivirus cDNA sequences.\\n\\nThe viruses, vR26 and vR26_E2gif, rescued from their respective BAC constructs, were also tested for their genetic stability within mammalian cells. Linearized BAC DNA was transcribed in vitro and the RNA was electroporated into PK15 cells. Three days after electroporation the cells were stained with the anti-NS3 antibody to detect the presence of replicating virus. Samples containing virus positive cells were passaged onto new cells, this process \\n\\n*Nt position 10665 in vR26/P-12 is reverted from A to G as in the parental cDNA.\\n\\nwas repeated for 12 separate passages (each of three days). The virus titre (as TCID 50 /ml) was determined for each passage. Passage of the rescued vR26_E2gif chimeric virus in PK15 cells resulted in rapidly decreasing virus titres and was discontinued after the 2nd passage ( Figure 4A ). Instead, further passage of this chimeric virus was performed in ovine SFT-R cells (the preferred cell type for BDV) and resulted in much higher titers of the chimeric virus. Virus titers reached more than 10 6 TCID 50 /ml after the 1st passage and remained stable for 12 passages ( Figure 4A ). The rescued vR26 was also efficiently propagated on the SFT-R cells but maintained a slightly lower titer than the vR26_E2gif chimeric virus ( Figure 4A ).\\n\\nTo check that the viruses retained their antibody reaction properties ( Figure 2 ) after these passages, cells were infected with viruses from the 12th SFT-R cell culture passage (termed vR26/P-12 and vR26_E2gif/P-12) and stained with a polyclonal anti-pestivirus serum and with specific mAbs directed against the CSFV-E2 and BDV-E2 proteins ( Figure 4B ). Cells infected with either the vR26/P-12 or the chimeric vR26_E2gif/P-12 were each detected by the polyclonal anti-pestivirus serum as expected. The anti-CSFV-E2 mAb specifically detected cells infected with vR26/P-12 but not cells infected by the chimeric virus containing the BDV-E2 protein (consistent with the results shown in Figure 2 ). In contrast, the anti-BDV-E2 mAb specifically detected infection by the vR26_E2gif/P-12 and did not recognize cells infected with vR26/P-12. Each result is in accord with the structure of the viruses. The 4th passage of vR26 (vR26/P-4) displayed a slower growth rate than the virus obtained after 12 passages (see Figure 5A ). It also had a reduced growth rate compared to both the vR26_E2gif/P-4 and vR26_E2gif/P-12. The fulllength sequence of pBeloR26 had revealed ten non-silent mutations compared to the reference sequence (AY25 9122.1) for this virus (Additional file 2: Table S2 ). Any of these mutations could be responsible for the impaired growth acting alone or in concert. For further investigation of this issue, full length cDNAs prepared from vR26/ P-4, vR26/P-12, vR26_E2gif/P-4 and vR26_E2gif/P-12 were deep-sequenced using both the 454 FLX and Ion PGM platforms for comparison and to determine the quasispecies distribution (Additional file 3: Figure S1 and Additional file 4: Figure S2 ). Sequencing data from both platforms revealed that both the vR26/P-12 and vR26_E2gif/P-12 were close to 100% changed at nt position A10665G compared to the BAC clones (resulting in the predicted amino acid substitution D3431G within the NS5B protein, the RNAdependent RNA polymerase, see Figure 5B ). This adaptation is a reversion back to the consensus cDNA sequence of the parental vaccine virus, vRiemser (Additional file 2: Table S2 ). Additionally, vR26/P-4 and vR26_E2gif/P-4 already showed evidence for this reversion being present within the population. For vR26/P-4, the level of reversion was 57%, while for vR26_E2gif/P-4 the extent of change was 73% (see Figure 5B ).\\n\\nIn this study, we have established the first BAC containing the full-length cDNA of a CSFV vaccine strain. The BAC differed from the parental cDNA sequence in 18 positions leading to 9 aa substitutions ( Table 1 ). The method that has been used for the generation of pBeloR26 is based on full genome amplification of cDNA followed by direct cloning to obtain the BACs [11] . This approach results in cDNA clones that reflect the quasispecies composition of the parental viral RNA and thus it is not guaranteed to obtain cDNA clones corresponding to the consensus sequence of the cDNA used. However, it is possible to correct the mutations using the BAC recombination approach if a consensus clone is needed. To demonstrate the utility of the Red/ET mediated recombination method we have generated a series of modified BACs derived from this CSFV full-length cDNA. These include BACs with substitution of the linear TAV-epitope present in the E2 protein and also BACs with substitution of the complete E2 protein with heterologous pestivirus sequences. We have also used the same approach for a range of different targeted modifications within CSFV BACs including specific deletions and substitutions in the 5\\u2032UTR of CSFV [24] and for insertions of heterologous reporter sequences into CSFV replicons [25] . Using Red/ET recombinationmediated mutagenesis for the targeted design, the work can be expedited and focused, in principal, on any sequence within the viral genome and is not dependent on the use of internal restriction sites. The results demonstrate that Red/ ET recombination-mediated mutagenesis of pestivirus BAC cDNAs provides a useful tool for advancing the construction of modified pestiviruses. Cells infected with the parental vR26 virus were recognized by the two anti-E2 mAbs (WH211 and WH303) specific for the CSFV-E2 proteins, in contrast cells infected with the modified viruses vR26_TAV and vR26_E2gif, rescued from the recombined BACs, were not detected by these mAbs. Furthermore, as expected, cells infected with the vR26_E2gif were recognized by the anti-BDV mAb (WB166) whereas no staining was observed with this antibody in vR26 infected cells or in cells with vR26_TAV. The mAb WH303 recognizes the CSFV TAV-epitope [18] and the difference in 4 aa between the TAV-epitope and the corresponding sequence from BDV strain \\\"Gifhorn\\\" is enough to completely abolish the recognition by this mAb. The lack of staining of vR26_TAV infected cells by the WH211 indicated that the TAV-sequence is also important for the epitope recognized by this mAb. Thus, the chimeric pestiviruses, vR26_TAV and vR26_E2gif, containing heterologous E2 sequences can be readily discriminated from the vR26 using specific anti-E2 monoclonal antibodies. These new chimeric pestiviruses represents Cstrain based marked vaccine candidates with the characteristics desired for safe and efficacious DIVA vaccines against CSFV. Indeed, vR26_E2gif vaccinated pigs could be efficiently discriminated from C-strain vaccinated pigs and from CSFV infected pigs using CSFV-E2 specific antibody ELISAs (Rasmussen et al., unpublished results).\\n\\nNucleotide sequence data for the pBeloR26 showed a number of changes from the published reference sequence for \\\"C-strain Riems\\\". Some of these differences are present in the cDNA derived from the vaccine stock at a detectable level whereas others may represent low-level variants within the cDNA or errors introduced by the RT-PCR amplification. Full-length sequencing revealed that no changes occurred in the cDNA during extensive propagation in E. coli DH10B of the pBeloR26 and the E2chimeric derivative, pBeloR26_E2gif, indicating a very high stability of these BAC-cloned CSFV cDNAs. This is essential if this system is to be useful for cloning and sequence manipulation, and contrasts with stability problems encountered with conventional plasmids containing fulllength pestivirus cDNAs [31] . The stability of these BACs is consistent with previous reports on the stability of BACs containing other viruses of the family Flaviviridae in E. coli [8, 10] .\\n\\nExtensive passaging of the rescued vR26 and the chimeric virus derivative, vR26_E2gif, resulted in a change at nucleotide position A10665G (resulting in the predicted aa\",\n          \"Estimating the Unreported Number of Novel Coronavirus (2019-nCoV) Cases in China in the First Half of January 2020: A Data-Driven Modelling Analysis of the Early Outbreak\\n\\nhttps://doi.org/10.3390/jcm9020388\\n\\nSHA: bf20dda99538a594eafc258553634fd9195104cb\\n\\nAuthors: Zhao, Shi; Musa, Salihu S.; Lin, Qianying; Ran, Jinjun; Yang, Guangpu; Wang, Weiming; Lou, Yijun; Yang, Lin; Gao, Daozhou; He, Daihai; Wang, Maggie H.\\nDate: 2020\\nDOI: 10.3390/jcm9020388\\nLicense: cc-by\\n\\nAbstract: Background: In December 2019, an outbreak of respiratory illness caused by a novel coronavirus (2019-nCoV) emerged in Wuhan, China and has swiftly spread to other parts of China and a number of foreign countries. The 2019-nCoV cases might have been under-reported roughly from 1 to 15 January 2020, and thus we estimated the number of unreported cases and the basic reproduction number, R0, of 2019-nCoV. Methods: We modelled the epidemic curve of 2019-nCoV cases, in mainland China from 1 December 2019 to 24 January 2020 through the exponential growth. The number of unreported cases was determined by the maximum likelihood estimation. We used the serial intervals (SI) of infection caused by two other well-known coronaviruses (CoV), Severe Acute Respiratory Syndrome (SARS) and Middle East Respiratory Syndrome (MERS) CoVs, as approximations of the unknown SI for 2019-nCoV to estimate R0. Results: We confirmed that the initial growth phase followed an exponential growth pattern. The under-reporting was likely to have resulted in 469 (95% CI: 403&minus;540) unreported cases from 1 to 15 January 2020. The reporting rate after 17 January 2020 was likely to have increased 21-fold (95% CI: 18&minus;25) in comparison to the situation from 1 to 17 January 2020 on average. We estimated the R0 of 2019-nCoV at 2.56 (95% CI: 2.49&minus;2.63). Conclusion: The under-reporting was likely to have occurred during the first half of January 2020 and should be considered in future investigation.\\n\\nText: A novel coronavirus (2019-nCoV) infected pneumonia infection, which is deadly [1] , was first identified in Wuhan, China in December 2019 [2] . The virus causes a range of symptoms including fever, cough, and shortness of breath [3] . The cumulative number of reported cases slowly increased to cumulative 41 cases by 1 January 2020, and rapidly increased after 16 January 2020. As of 26 January 2020, the still ongoing outbreak had resulted in 2066 (618 of them are in Wuhan) confirmed cases and 56 (45 of them were in Wuhan) deaths in mainland China [4] , and sporadic cases exported from Wuhan were reported in Thailand, Japan, Republic of Korea, Hong Kong, Taiwan, Australia, and the United States, please see the World Health Organization (WHO) news release via https://www.who.int/csr/don/en/ from 14 to 21 January 2020. Using the number of cases exported from Wuhan to other countries, a research group at Imperial College London estimated that there had been 4000 (95%CI: 1000-9700) cases in Wuhan with symptoms onset by 18 January 2020, and the basic reproduction number (R 0 ) was estimated at 2.6 (95%CI: 1.5-3.5) [5] . Leung et al. drew a similar conclusion and estimated the number of cases exported from Wuhan to other major cities in China [6] , and the potentials of travel related risks of disease spreading was also indicated by [7] .\\n\\nDue to an unknown reason, the cumulative number of cases remained at 41 from 1 to 15 January 2020 according to the official report, i.e., no new case was reported during these 15 days, which appears inconsistent with the following rapid growth of the epidemic curve since 16 January 2020. We suspect that the 2019-nCoV cases were under-reported roughly from 1 to 15 January 2020. In this study, we estimated the number of unreported cases and the basic reproduction number, R 0 , of 2019-nCoV in Wuhan from 1 to 15 January 2020 based on the limited data in the early outbreak.\\n\\nThe time series data of 2019-nCoV cases in mainland China were initially released by the Wuhan Municipal Health Commission from 10 to 20 January 2020 [8] , and later by the National Health Commission of China after 21 January 2020 [9] . The case time series data in December 2019 were obtained from a published study [3] . All cases were laboratory confirmed following the case definition by the national health commission of China [10] . We chose the data up to 24 January 2020 instead of to the present study completion date. Given the lag between timings of case confirmation and news release of new cases, the data of the most recent few days were most likely to be tentative, and thus they were excluded from the analysis to be consistent.\\n\\nWe suspected that there was a number of cases, denoted by \\u03be, under-reported from 1 to 15 January 2020. The cumulative total number of cases, denoted by C i , of the i-th day since 1 December 2019 is the summation of the cumulative reported, c i , and cumulative unreported cases, \\u039e i . We have C i = c i + \\u039e i , where c i is observed from the data, and \\u039e i is 0 for i before 1 January and \\u03be for i after 15 January 2020. Following previous studies [11, 12] , we modelled the epidemic curve, i.e., the C i series, as an exponential growing Poisson process. Since the data from 1 to 15 January 2020 appeared constant due to unclear reason(s), we removed these data from the fitting of exponential growth. The \\u03be and the intrinsic growth rate (\\u03b3) of the exponential growth were to be estimated based on the log-likelihood, denoted by , from the Poisson priors. The 95% confidence interval (95% CI) of \\u03be was estimated by the profile likelihood estimation framework with cutoff threshold determined by a Chi-square quantile [13] , \\u03c7 2 pr = 0.95, df = 1 . With \\u03b3 estimated, the basic reproduction number could be obtained by R 0 = 1/M(\\u2212\\u03b3) with 100% susceptibility for 2019-nCoV presumed at this early stage. Here, the function M(\\u00b7) was the Laplace transform, i.e., the moment generating function, of the probability distribution for the serial interval (SI) of the disease [11, 14] , denoted by h(k) and k is the mean SI. Since the transmission chain of 2019-nCoV remained unclear, we adopted the SI information from Severe Acute Respiratory Syndrome (SARS) and Middle East Respiratory Syndrome (MERS), which share the similar pathogen as 2019-nCoV [15] [16] [17] . We modelled h(k) as Gamma distributions with mean of 8.0 days and standard deviation (SD) of 3.6 days by averaging the SI mean and SD of SARS, mean of 7.6 days and SD of 3.4 days [18] , and MERS, mean of 8.4 days and SD of 3.8 days [19] .\\n\\nWe were also interested in inferring the patterns of the daily number of cases, denoted by \\u03b5 i for the i-th day, and thus it is obviously that C i = C i\\u22121 + \\u03b5 i . A simulation framework was developed for the iterative Poisson process such that E[\\n\\ndenoted the expectation. The simulation was implemented starting from 1 January 2020 with a cumulative number of cases seed of 40, the same as reported on 31 December 2019. We conducted 1000 samples and calculated the median and 95% CI.\\n\\nThe number of 2019-nCoV unreported cases was estimated at 469 (95% CI: 403-540), see Figure 1a , which was significantly larger than 0. This finding implied the occurrence of under-reporting between 1 and 15 January 2020. After accounting for the effect of under-reporting, the R 0 was estimated at 2.56 (95% CI: 2.49-2.63), see Figure 1b , which is consistent with many existing online preprints with range from 2 to 4 [5, [20] [21] [22] . With the R 0 of 2.56 and \\u03be of 469, the exponential growing framework fitted the cumulative total number of cases (C i ) remarkably well, see Figure 1c iterative Poisson process such that\\n\\ndenoted the expectation. The simulation was implemented starting from 1 January 2020 with a cumulative number of cases seed of 40, the same as reported on 31 December 2019. We conducted 1000 samples and calculated the median and 95% CI.\\n\\nThe number of 2019-nCoV unreported cases was estimated at 469 (95% CI: 403\\u2212540), see Figure  1a , which was significantly larger than 0. This finding implied the occurrence of under-reporting between 1 and 15 January 2020. After accounting for the effect of under-reporting, the R0 was estimated at 2.56 (95% CI: 2.49\\u22122.63), see Figure 1b , which is consistent with many existing online preprints with range from 2 to 4 [5, [20] [21] [22] . With the R0 of 2.56 and \\u03be of 469, the exponential growing framework fitted the cumulative total number of cases (Ci) remarkably well, see Figure 1c , referring to McFadden's pseudo-R-squared of 0.99. show the exponential growth fitting results of the cumulative number of cases (Ci) and the daily number of cases (\\u03b5i) respectively. In panels (c) and (d), the gold squares are the reported cases, the blue bold curve represents the median of the fitting results, the dashed blue curves are the 95% CI of the fitting results, and the purple shading area represents the time window from 1 to 15 January 2020. In panel (c), the blue dots are the cumulative total, i.e., reported and unreported, number of cases. In panel (d), the grey curves are the 1000 simulation samples.\\n\\nOur estimation of R0 rely on the SI of 2019-nCoV, which remains unknown as of 26 January 2020. In this work, we employed the SIs of SARS and MERS as approximations to that of 2019-nCoV. The determination of SI requires the knowledge of the chain of disease transmission that needs a sufficient number of patient samples and periods of time for follow-up [23] , and thus this is unlikely to be achieved shortly. However, using SIs of SARS and MERS as approximation could provide an panels (a,b) , the green shading area represents the 95% CI (on the horizontal axis), and the vertical green line represents the maximum likelihood estimate (MLE) of the number of unreported cases. With the MLE of R 0 at 2.56, panels (c,d) show the exponential growth fitting results of the cumulative number of cases (C i ) and the daily number of cases (\\u03b5 i ) respectively. In panels (c,d), the gold squares are the reported cases, the blue bold curve represents the median of the fitting results, the dashed blue curves are the 95% CI of the fitting results, and the purple shading area represents the time window from 1 to 15 January 2020. In panel (c), the blue dots are the cumulative total, i.e., reported and unreported, number of cases. In panel (d), the grey curves are the 1000 simulation samples.\\n\\nOur estimation of R 0 rely on the SI of 2019-nCoV, which remains unknown as of 26 January 2020. In this work, we employed the SIs of SARS and MERS as approximations to that of 2019-nCoV.\\n\\nThe determination of SI requires the knowledge of the chain of disease transmission that needs a sufficient number of patient samples and periods of time for follow-up [23] , and thus this is unlikely to be achieved shortly. However, using SIs of SARS and MERS as approximation could provide an insight into the transmission potential of 2019-nCoV at the early outbreak. We note that slightly varying the mean and SD of SI would not affect our main conclusions. The R 0 of 2019-nCoV was estimated at 2.56 (95% CI: 2.49-2.63), and it is generally in line with those of SARS, i.e., 2-5 [19, 24, 25] , and MERS, i.e., 2.7-3.9 [26] .\\n\\nFor the simulated daily number of cases (\\u03b5 i ), see Figure 1d , we found that \\u03b5 i matched the observed daily number after 17 January 2020, but was significantly larger than the observations from 1 to 17 January 2020. This finding implied that under-reporting was likely to have occurred in the first half of January 2020. We estimated that the reporting rate after 17 January 2020 increased 21-fold (95% CI: [18] [19] [20] [21] [22] [23] [24] [25] compared to the situation from 1 to 17 January 2020 on average. One of the possible reasons was that the official diagnostic protocol was released by WHO on 17 January 2020 [27] , and the diagnosis and reporting efforts of 2019-nCoV infections probably increased. Thereafter, the daily number of newly reported cases started increasing rapidly after 17 January 2020, see Figure 1d . We conducted additional sensitivity analysis by varying the starting date of the under-reporting time window, e.g., 1 January 2020 in the main results, from 2 December 2019 to 3 January 2020, and we report our estimates largely hold. The exact value of the reporting rate was difficult to determine due to lack of serological surveillance data. The reporting rate can be determined if serological surveillance data are available for a population; we would know who was infected (seropositive) and who was not (seronegative), with high confidence. The reporting rate is the ratio of reported cases over the number of seropositive individuals. It was statistically evident that increasing in reporting was likely, and thus it should be considered in the future investigation of this outbreak.\\n\\nPrevious preprint suggested cumulative cases of 1723 (95% CI: 427-4471) as of 12 January 2020, and 4000 (95% CI: 1000-9700) as of 18 January 2020 based on the aggregated international export cases [5] . Our analysis yielded cumulative cases of 280 (95% CI: 128-613) as of 12 January 2020, and 609 (95% CI: 278-1333) as of 18 January 2020 based on the exponential growing mechanistic in the early outbreak. Although our estimate case number appeared to have a lower mean than those estimated by Imai et al. [5] , they are not statistically different. This study applied a different screening effort to detect the 2019-nCoV cases from that in Imai et al. [5] . Imai et al. assumed the average screening effort at overseas airports that covered travelers arriving from Wuhan. Whereas we assumed a constant screening effort applied in Wuhan at the same point of time, and then a number of cases (i.e., \\u03be) should have been reported yet failed to be reported in the first half of January 2020 due to all sorts of reasons. It is not surprising that different assumptions yielded different results, and this difference in screening effort also partly explained why the detected cases out of China mainly presented mild symptoms. Thus, it was reasonable that our estimates appeared lower than those estimated by Imai et al. [5] . It must be emphasized that such a gap in the knowledge would be resolved by serological survey study (for a large population to approximate the actual positive rate) or an explicit estimation of the actual reporting rate.\\n\\nUnder-reporting was likely to have occurred and resulted in 469 (95% CI: 403-540) unreported cases from 1 to 15 January 2020. The reporting rate after 17 January 2020 was likely to have increased 21-fold (95% CI: 18-25) compared with the situation from 1 to 17 January 2020 on average, and it should be considered in future investigation. We estimated the R 0 at 2019-nCoV to be 2.56 (95% CI: 2.49-2.63).\\n\\nAuthor Contributions: All authors conceived the study, carried out the analysis, discussed the results, drafted the first manuscript. All authors have read and agreed to the published version of the manuscript.\"\n        ],\n        \"semantic_type\": \"\",\n        \"description\": \"\"\n      }\n    },\n    {\n      \"column\": \"answer_start\",\n      \"properties\": {\n        \"dtype\": \"number\",\n        \"std\": 10565,\n        \"min\": 0,\n        \"max\": 69043,\n        \"num_unique_values\": 1904,\n        \"samples\": [\n          5867,\n          4098,\n          8751\n        ],\n        \"semantic_type\": \"\",\n        \"description\": \"\"\n      }\n    },\n    {\n      \"column\": \"answer_end\",\n      \"properties\": {\n        \"dtype\": \"number\",\n        \"std\": 10580,\n        \"min\": 8,\n        \"max\": 69108,\n        \"num_unique_values\": 1879,\n        \"samples\": [\n          1767,\n          7927,\n          19347\n        ],\n        \"semantic_type\": \"\",\n        \"description\": \"\"\n      }\n    },\n    {\n      \"column\": \"id\",\n      \"properties\": {\n        \"dtype\": \"number\",\n        \"std\": 582,\n        \"min\": 1,\n        \"max\": 2019,\n        \"num_unique_values\": 1973,\n        \"samples\": [\n          529,\n          595,\n          285\n        ],\n        \"semantic_type\": \"\",\n        \"description\": \"\"\n      }\n    }\n  ]\n}",
       "type": "dataframe",
       "variable_name": "all_data"
      },
      "text/html": [
       "\n",
       "  <div id=\"df-9fa7a3e0-598e-4913-a640-f2b16a213fa1\" class=\"colab-df-container\">\n",
       "    <div>\n",
       "<style scoped>\n",
       "    .dataframe tbody tr th:only-of-type {\n",
       "        vertical-align: middle;\n",
       "    }\n",
       "\n",
       "    .dataframe tbody tr th {\n",
       "        vertical-align: top;\n",
       "    }\n",
       "\n",
       "    .dataframe thead th {\n",
       "        text-align: right;\n",
       "    }\n",
       "</style>\n",
       "<table border=\"1\" class=\"dataframe\">\n",
       "  <thead>\n",
       "    <tr style=\"text-align: right;\">\n",
       "      <th></th>\n",
       "      <th>question</th>\n",
       "      <th>answer</th>\n",
       "      <th>context</th>\n",
       "      <th>answer_start</th>\n",
       "      <th>answer_end</th>\n",
       "      <th>id</th>\n",
       "    </tr>\n",
       "  </thead>\n",
       "  <tbody>\n",
       "    <tr>\n",
       "      <th>0</th>\n",
       "      <td>What is the main cause of HIV-1 infection in c...</td>\n",
       "      <td>Mother-to-child transmission (MTCT) is the mai...</td>\n",
       "      <td>Functional Genetic Variants in DC-SIGNR Are As...</td>\n",
       "      <td>370</td>\n",
       "      <td>466</td>\n",
       "      <td>1239</td>\n",
       "    </tr>\n",
       "    <tr>\n",
       "      <th>1</th>\n",
       "      <td>What plays the crucial role in the Mother to C...</td>\n",
       "      <td>DC-SIGNR plays a crucial role in MTCT of HIV-1...</td>\n",
       "      <td>Functional Genetic Variants in DC-SIGNR Are As...</td>\n",
       "      <td>2003</td>\n",
       "      <td>2129</td>\n",
       "      <td>1471</td>\n",
       "    </tr>\n",
       "    <tr>\n",
       "      <th>2</th>\n",
       "      <td>How many children were infected by HIV-1 in 20...</td>\n",
       "      <td>more than 400,000 children were infected world...</td>\n",
       "      <td>Functional Genetic Variants in DC-SIGNR Are As...</td>\n",
       "      <td>2291</td>\n",
       "      <td>2408</td>\n",
       "      <td>248</td>\n",
       "    </tr>\n",
       "    <tr>\n",
       "      <th>3</th>\n",
       "      <td>What is the role of C-C Motif Chemokine Ligand...</td>\n",
       "      <td>High copy numbers of CCL3L1, a potent HIV-1 su...</td>\n",
       "      <td>Functional Genetic Variants in DC-SIGNR Are As...</td>\n",
       "      <td>28143</td>\n",
       "      <td>28323</td>\n",
       "      <td>1314</td>\n",
       "    </tr>\n",
       "    <tr>\n",
       "      <th>4</th>\n",
       "      <td>What is DC-GENR and where is  it expressed?</td>\n",
       "      <td>Dendritic cell-specific ICAM-grabbing non-inte...</td>\n",
       "      <td>Functional Genetic Variants in DC-SIGNR Are As...</td>\n",
       "      <td>3207</td>\n",
       "      <td>3479</td>\n",
       "      <td>926</td>\n",
       "    </tr>\n",
       "  </tbody>\n",
       "</table>\n",
       "</div>\n",
       "    <div class=\"colab-df-buttons\">\n",
       "\n",
       "  <div class=\"colab-df-container\">\n",
       "    <button class=\"colab-df-convert\" onclick=\"convertToInteractive('df-9fa7a3e0-598e-4913-a640-f2b16a213fa1')\"\n",
       "            title=\"Convert this dataframe to an interactive table.\"\n",
       "            style=\"display:none;\">\n",
       "\n",
       "  <svg xmlns=\"http://www.w3.org/2000/svg\" height=\"24px\" viewBox=\"0 -960 960 960\">\n",
       "    <path d=\"M120-120v-720h720v720H120Zm60-500h600v-160H180v160Zm220 220h160v-160H400v160Zm0 220h160v-160H400v160ZM180-400h160v-160H180v160Zm440 0h160v-160H620v160ZM180-180h160v-160H180v160Zm440 0h160v-160H620v160Z\"/>\n",
       "  </svg>\n",
       "    </button>\n",
       "\n",
       "  <style>\n",
       "    .colab-df-container {\n",
       "      display:flex;\n",
       "      gap: 12px;\n",
       "    }\n",
       "\n",
       "    .colab-df-convert {\n",
       "      background-color: #E8F0FE;\n",
       "      border: none;\n",
       "      border-radius: 50%;\n",
       "      cursor: pointer;\n",
       "      display: none;\n",
       "      fill: #1967D2;\n",
       "      height: 32px;\n",
       "      padding: 0 0 0 0;\n",
       "      width: 32px;\n",
       "    }\n",
       "\n",
       "    .colab-df-convert:hover {\n",
       "      background-color: #E2EBFA;\n",
       "      box-shadow: 0px 1px 2px rgba(60, 64, 67, 0.3), 0px 1px 3px 1px rgba(60, 64, 67, 0.15);\n",
       "      fill: #174EA6;\n",
       "    }\n",
       "\n",
       "    .colab-df-buttons div {\n",
       "      margin-bottom: 4px;\n",
       "    }\n",
       "\n",
       "    [theme=dark] .colab-df-convert {\n",
       "      background-color: #3B4455;\n",
       "      fill: #D2E3FC;\n",
       "    }\n",
       "\n",
       "    [theme=dark] .colab-df-convert:hover {\n",
       "      background-color: #434B5C;\n",
       "      box-shadow: 0px 1px 3px 1px rgba(0, 0, 0, 0.15);\n",
       "      filter: drop-shadow(0px 1px 2px rgba(0, 0, 0, 0.3));\n",
       "      fill: #FFFFFF;\n",
       "    }\n",
       "  </style>\n",
       "\n",
       "    <script>\n",
       "      const buttonEl =\n",
       "        document.querySelector('#df-9fa7a3e0-598e-4913-a640-f2b16a213fa1 button.colab-df-convert');\n",
       "      buttonEl.style.display =\n",
       "        google.colab.kernel.accessAllowed ? 'block' : 'none';\n",
       "\n",
       "      async function convertToInteractive(key) {\n",
       "        const element = document.querySelector('#df-9fa7a3e0-598e-4913-a640-f2b16a213fa1');\n",
       "        const dataTable =\n",
       "          await google.colab.kernel.invokeFunction('convertToInteractive',\n",
       "                                                    [key], {});\n",
       "        if (!dataTable) return;\n",
       "\n",
       "        const docLinkHtml = 'Like what you see? Visit the ' +\n",
       "          '<a target=\"_blank\" href=https://colab.research.google.com/notebooks/data_table.ipynb>data table notebook</a>'\n",
       "          + ' to learn more about interactive tables.';\n",
       "        element.innerHTML = '';\n",
       "        dataTable['output_type'] = 'display_data';\n",
       "        await google.colab.output.renderOutput(dataTable, element);\n",
       "        const docLink = document.createElement('div');\n",
       "        docLink.innerHTML = docLinkHtml;\n",
       "        element.appendChild(docLink);\n",
       "      }\n",
       "    </script>\n",
       "  </div>\n",
       "\n",
       "\n",
       "<div id=\"df-e95518b2-3142-4451-989b-893c6aaadf14\">\n",
       "  <button class=\"colab-df-quickchart\" onclick=\"quickchart('df-e95518b2-3142-4451-989b-893c6aaadf14')\"\n",
       "            title=\"Suggest charts\"\n",
       "            style=\"display:none;\">\n",
       "\n",
       "<svg xmlns=\"http://www.w3.org/2000/svg\" height=\"24px\"viewBox=\"0 0 24 24\"\n",
       "     width=\"24px\">\n",
       "    <g>\n",
       "        <path d=\"M19 3H5c-1.1 0-2 .9-2 2v14c0 1.1.9 2 2 2h14c1.1 0 2-.9 2-2V5c0-1.1-.9-2-2-2zM9 17H7v-7h2v7zm4 0h-2V7h2v10zm4 0h-2v-4h2v4z\"/>\n",
       "    </g>\n",
       "</svg>\n",
       "  </button>\n",
       "\n",
       "<style>\n",
       "  .colab-df-quickchart {\n",
       "      --bg-color: #E8F0FE;\n",
       "      --fill-color: #1967D2;\n",
       "      --hover-bg-color: #E2EBFA;\n",
       "      --hover-fill-color: #174EA6;\n",
       "      --disabled-fill-color: #AAA;\n",
       "      --disabled-bg-color: #DDD;\n",
       "  }\n",
       "\n",
       "  [theme=dark] .colab-df-quickchart {\n",
       "      --bg-color: #3B4455;\n",
       "      --fill-color: #D2E3FC;\n",
       "      --hover-bg-color: #434B5C;\n",
       "      --hover-fill-color: #FFFFFF;\n",
       "      --disabled-bg-color: #3B4455;\n",
       "      --disabled-fill-color: #666;\n",
       "  }\n",
       "\n",
       "  .colab-df-quickchart {\n",
       "    background-color: var(--bg-color);\n",
       "    border: none;\n",
       "    border-radius: 50%;\n",
       "    cursor: pointer;\n",
       "    display: none;\n",
       "    fill: var(--fill-color);\n",
       "    height: 32px;\n",
       "    padding: 0;\n",
       "    width: 32px;\n",
       "  }\n",
       "\n",
       "  .colab-df-quickchart:hover {\n",
       "    background-color: var(--hover-bg-color);\n",
       "    box-shadow: 0 1px 2px rgba(60, 64, 67, 0.3), 0 1px 3px 1px rgba(60, 64, 67, 0.15);\n",
       "    fill: var(--button-hover-fill-color);\n",
       "  }\n",
       "\n",
       "  .colab-df-quickchart-complete:disabled,\n",
       "  .colab-df-quickchart-complete:disabled:hover {\n",
       "    background-color: var(--disabled-bg-color);\n",
       "    fill: var(--disabled-fill-color);\n",
       "    box-shadow: none;\n",
       "  }\n",
       "\n",
       "  .colab-df-spinner {\n",
       "    border: 2px solid var(--fill-color);\n",
       "    border-color: transparent;\n",
       "    border-bottom-color: var(--fill-color);\n",
       "    animation:\n",
       "      spin 1s steps(1) infinite;\n",
       "  }\n",
       "\n",
       "  @keyframes spin {\n",
       "    0% {\n",
       "      border-color: transparent;\n",
       "      border-bottom-color: var(--fill-color);\n",
       "      border-left-color: var(--fill-color);\n",
       "    }\n",
       "    20% {\n",
       "      border-color: transparent;\n",
       "      border-left-color: var(--fill-color);\n",
       "      border-top-color: var(--fill-color);\n",
       "    }\n",
       "    30% {\n",
       "      border-color: transparent;\n",
       "      border-left-color: var(--fill-color);\n",
       "      border-top-color: var(--fill-color);\n",
       "      border-right-color: var(--fill-color);\n",
       "    }\n",
       "    40% {\n",
       "      border-color: transparent;\n",
       "      border-right-color: var(--fill-color);\n",
       "      border-top-color: var(--fill-color);\n",
       "    }\n",
       "    60% {\n",
       "      border-color: transparent;\n",
       "      border-right-color: var(--fill-color);\n",
       "    }\n",
       "    80% {\n",
       "      border-color: transparent;\n",
       "      border-right-color: var(--fill-color);\n",
       "      border-bottom-color: var(--fill-color);\n",
       "    }\n",
       "    90% {\n",
       "      border-color: transparent;\n",
       "      border-bottom-color: var(--fill-color);\n",
       "    }\n",
       "  }\n",
       "</style>\n",
       "\n",
       "  <script>\n",
       "    async function quickchart(key) {\n",
       "      const quickchartButtonEl =\n",
       "        document.querySelector('#' + key + ' button');\n",
       "      quickchartButtonEl.disabled = true;  // To prevent multiple clicks.\n",
       "      quickchartButtonEl.classList.add('colab-df-spinner');\n",
       "      try {\n",
       "        const charts = await google.colab.kernel.invokeFunction(\n",
       "            'suggestCharts', [key], {});\n",
       "      } catch (error) {\n",
       "        console.error('Error during call to suggestCharts:', error);\n",
       "      }\n",
       "      quickchartButtonEl.classList.remove('colab-df-spinner');\n",
       "      quickchartButtonEl.classList.add('colab-df-quickchart-complete');\n",
       "    }\n",
       "    (() => {\n",
       "      let quickchartButtonEl =\n",
       "        document.querySelector('#df-e95518b2-3142-4451-989b-893c6aaadf14 button');\n",
       "      quickchartButtonEl.style.display =\n",
       "        google.colab.kernel.accessAllowed ? 'block' : 'none';\n",
       "    })();\n",
       "  </script>\n",
       "</div>\n",
       "\n",
       "    </div>\n",
       "  </div>\n"
      ],
      "text/plain": [
       "                                            question  \\\n",
       "0  What is the main cause of HIV-1 infection in c...   \n",
       "1  What plays the crucial role in the Mother to C...   \n",
       "2  How many children were infected by HIV-1 in 20...   \n",
       "3  What is the role of C-C Motif Chemokine Ligand...   \n",
       "4        What is DC-GENR and where is  it expressed?   \n",
       "\n",
       "                                              answer  \\\n",
       "0  Mother-to-child transmission (MTCT) is the mai...   \n",
       "1  DC-SIGNR plays a crucial role in MTCT of HIV-1...   \n",
       "2  more than 400,000 children were infected world...   \n",
       "3  High copy numbers of CCL3L1, a potent HIV-1 su...   \n",
       "4  Dendritic cell-specific ICAM-grabbing non-inte...   \n",
       "\n",
       "                                             context  answer_start  \\\n",
       "0  Functional Genetic Variants in DC-SIGNR Are As...           370   \n",
       "1  Functional Genetic Variants in DC-SIGNR Are As...          2003   \n",
       "2  Functional Genetic Variants in DC-SIGNR Are As...          2291   \n",
       "3  Functional Genetic Variants in DC-SIGNR Are As...         28143   \n",
       "4  Functional Genetic Variants in DC-SIGNR Are As...          3207   \n",
       "\n",
       "   answer_end    id  \n",
       "0         466  1239  \n",
       "1        2129  1471  \n",
       "2        2408   248  \n",
       "3       28323  1314  \n",
       "4        3479   926  "
      ]
     },
     "execution_count": 7,
     "metadata": {},
     "output_type": "execute_result"
    }
   ],
   "source": [
    "with open(os.path.join(data_dh.loc, \"COVID-QA.json\"), \"r\") as f:\n",
    "  data = json.load(f)\n",
    "\n",
    "\n",
    "questions = []\n",
    "answers = []\n",
    "contexts = []\n",
    "\n",
    "for entry in data['data']:\n",
    "  for paragraph in entry['paragraphs']:\n",
    "    context = paragraph['context']\n",
    "    for qa in paragraph['qas']:\n",
    "      questions.append(qa['question'])\n",
    "      answers.append(qa['answers'][0]['text'])\n",
    "      contexts.append(context)\n",
    "\n",
    "\n",
    "all_data = pd.DataFrame({\n",
    "  'question': questions,\n",
    "  'answer': answers,\n",
    "  'context': contexts\n",
    "})\n",
    "\n",
    "#all_data = pd.read_csv(os.path.join(data_dh.loc, 'medquad.csv'))\n",
    "all_data[\"answer\"] = all_data[\"answer\"].astype(str)\n",
    "print(all_data.shape)\n",
    "all_data = all_data.drop_duplicates()\n",
    "print(all_data.shape)\n",
    "\n",
    "_ids = all_data.groupby(by=[\"question\"], as_index=False).size()\n",
    "_ids[\"size\"] = _ids[\"size\"].cumsum()\n",
    "\n",
    "# Define the index where the answers begins in the query\n",
    "all_data[\"answer_start\"] = all_data.apply(\n",
    "    lambda x: x[\"context\"].find(x[\"answer\"]),\n",
    "    axis=1\n",
    "    )\n",
    "# Define the index where the answers ends in the query\n",
    "all_data[\"answer_end\"] = all_data.apply(\n",
    "    lambda x: x[\"answer_start\"]+len(x[\"answer\"]),\n",
    "    axis=1\n",
    ")\n",
    "\n",
    "all_data = all_data.merge(\n",
    "    _ids,\n",
    "    left_on=\"question\",\n",
    "    right_on=\"question\",\n",
    "    how=\"left\"\n",
    "    )\n",
    "\n",
    "all_data = all_data.rename(columns={\"size\":\"id\"})\n",
    "all_data.head()"
   ]
  },
  {
   "cell_type": "markdown",
   "metadata": {
    "id": "k0I292fXmXBS"
   },
   "source": [
    "The data we are using consists of a set of question and answers relating to healthcare queries. Since we are performing extractive question and answering, we'll create a mock context defined by all of the answers related to a given condition. Additionally, we'll add some helper variables which will be useful later."
   ]
  },
  {
   "cell_type": "code",
   "execution_count": 8,
   "metadata": {
    "colab": {
     "base_uri": "https://localhost:8080/"
    },
    "executionInfo": {
     "elapsed": 460,
     "status": "ok",
     "timestamp": 1734071279688,
     "user": {
      "displayName": "Joshua Spear",
      "userId": "05726166776749736519"
     },
     "user_tz": 0
    },
    "id": "y-PkNlQIcE3H",
    "outputId": "e6657d53-663d-462d-c3e0-59b5cba740ca"
   },
   "outputs": [
    {
     "name": "stdout",
     "output_type": "stream",
     "text": [
      "96\n",
      "96\n"
     ]
    }
   ],
   "source": [
    "# Check we've created these indices properly!\n",
    "print(len(all_data.iloc[0][\"answer\"]))\n",
    "print(len(all_data.iloc[0][\"context\"][all_data.iloc[0][\"answer_start\"]:all_data.iloc[0][\"answer_end\"]]))"
   ]
  },
  {
   "cell_type": "code",
   "execution_count": 9,
   "metadata": {
    "colab": {
     "base_uri": "https://localhost:8080/"
    },
    "executionInfo": {
     "elapsed": 370,
     "status": "ok",
     "timestamp": 1734071282043,
     "user": {
      "displayName": "Joshua Spear",
      "userId": "05726166776749736519"
     },
     "user_tz": 0
    },
    "id": "FKBJAO5EpRPa",
    "outputId": "b3219cd1-a78b-41d5-ed94-0b6dc9b91e2e"
   },
   "outputs": [
    {
     "name": "stdout",
     "output_type": "stream",
     "text": [
      "Train size: 1635\n",
      "Validation size: 182\n",
      "Validation size: 202\n"
     ]
    }
   ],
   "source": [
    "# Load data\n",
    "\n",
    "_train_idx, test_idx = train_test_split(\n",
    "    all_data.index,\n",
    "    test_size=0.1,\n",
    "    random_state=42,\n",
    "    shuffle=True\n",
    "    )\n",
    "train_idx, val_idx = train_test_split(\n",
    "    _train_idx,\n",
    "    test_size=0.1,\n",
    "    random_state=42,\n",
    "    shuffle=True\n",
    "    )\n",
    "\n",
    "\n",
    "SUBSET = False\n",
    "if SUBSET:\n",
    "    train_idx = train_idx[0:min(500, len(train_idx))]\n",
    "    val_idx = val_idx[0:min(100, len(val_idx))]\n",
    "    test_idx = test_idx[0:min(100, len(test_idx))]\n",
    "\n",
    "print(f\"Train size: {len(train_idx)}\")\n",
    "print(f\"Validation size: {len(val_idx)}\")\n",
    "print(f\"Validation size: {len(test_idx)}\")\n",
    "\n",
    "train = Dataset.from_pandas(\n",
    "    all_data.loc[train_idx].reset_index(drop=True)\n",
    "    )\n",
    "\n",
    "validation = Dataset.from_pandas(\n",
    "    all_data.loc[val_idx].reset_index(drop=True)\n",
    "    )\n",
    "\n",
    "test = Dataset.from_pandas(\n",
    "    all_data.loc[test_idx].reset_index(drop=True)\n",
    "    )"
   ]
  },
  {
   "cell_type": "markdown",
   "metadata": {
    "id": "BZBM6ltccU_E"
   },
   "source": [
    "## Model training\n",
    "\n",
    "We will use BERT as a base model"
   ]
  },
  {
   "cell_type": "code",
   "execution_count": 10,
   "metadata": {
    "executionInfo": {
     "elapsed": 358,
     "status": "ok",
     "timestamp": 1734071285882,
     "user": {
      "displayName": "Joshua Spear",
      "userId": "05726166776749736519"
     },
     "user_tz": 0
    },
    "id": "QGUspz_luECq"
   },
   "outputs": [],
   "source": [
    "#model_checkpoint = \"bigscience/bloom-560m\"\n",
    "model_checkpoint = \"bert-base-cased\""
   ]
  },
  {
   "cell_type": "code",
   "execution_count": 11,
   "metadata": {
    "colab": {
     "base_uri": "https://localhost:8080/",
     "height": 163,
     "referenced_widgets": [
      "4eb265dec327412e9dd1d2e6e851b93e",
      "54701f1a6b5d49afafdd0039d3232b7d",
      "10c921b8e1c2427b94054746cdcca2cc",
      "f30d8749259042d9b29fdf4c694f0aff",
      "fbbce57e4c944c9db7162ced6a2050b5",
      "8cf4daafc63d4a4abd36e2d8f54414be",
      "ad76fe30f61b4ed2995eccff6539ec5c",
      "548e64154a19418382c066679699abc1",
      "b1f4b2feb75e4ca282459f918c0e2286",
      "8924ec200436414697c6ce420c4105e6",
      "acb06e99981c47e6b6fa62da3a6d3593",
      "b845f864fc064b84be3da9654e4da177",
      "df4dbc8db295488da11a8c2a19f1925a",
      "8fcf5139c320400583a1a96a753c76d3",
      "afbf223ea89b4a4ca1bcdc9939d5cb2e",
      "f4e27c73f0244e1b99a4616280c469a5",
      "05e28bc046b645e1a55221da18d91d52",
      "c47b17b20fa84c8e8ed7333d4d7de033",
      "779c14db2fcc4587aa122b794586d6ff",
      "711d9166d3704cb09ab47b10eb01f901",
      "de2b250eb84f4aca9074b6526a39605a",
      "61ce7386c07741c7b18fb8e28262f72c",
      "ffc5cbca5b20451a90c894bc6b213b08",
      "f3ebcd59fa4544e5afd3d0f6d73aebd1",
      "64a7a17b011b48e9b799d0ef3e32b0dd",
      "a7dc8f41939e4df8a1c1a482f872d86b",
      "d767dcf5e22f4b8e93e2b0125d1cbb75",
      "46b826e7ae9b4da1a62d2d938613f9cd",
      "77578a39bed04d6baf70952f3603cc38",
      "a0b6b337c88d48b9814719748a21b26e",
      "7e38578a99cd43218653f57b4e5eaec2",
      "2c69bf9171c94f36a18e87b56ff1caf0",
      "3b60d044a79242bc9aac6fd693aed05b",
      "ec3cded4f30e41c089c3e1a4629666fd",
      "2c97aa6ee0264906a9eeafa2c5ce5d53",
      "3916119706d54ee884d54b65ac4bc3e6",
      "995eb19c6106447c9e660f312b84b0c3",
      "1a6e6eb17892481ebe4ba015cfbc3f89",
      "69ebbcdbba5d47299b98a1322a665a8d",
      "b7ca7a1f107044b5a37bcce72c0d8ddc",
      "631fbc5198a546b8b503902f4b80eeb9",
      "d5c2389f70674fed9c6ec3fda169743d",
      "d5a644182bdc4ac1a701fc33bfbced82",
      "88041a40bee1431fa0c744765b4f6b05"
     ]
    },
    "executionInfo": {
     "elapsed": 4613,
     "status": "ok",
     "timestamp": 1734071290854,
     "user": {
      "displayName": "Joshua Spear",
      "userId": "05726166776749736519"
     },
     "user_tz": 0
    },
    "id": "k1sapD9EupG4",
    "outputId": "69b5ee4c-35d4-4c37-bfa5-2610935f7819"
   },
   "outputs": [
    {
     "data": {
      "application/vnd.jupyter.widget-view+json": {
       "model_id": "4eb265dec327412e9dd1d2e6e851b93e",
       "version_major": 2,
       "version_minor": 0
      },
      "text/plain": [
       "tokenizer_config.json:   0%|          | 0.00/49.0 [00:00<?, ?B/s]"
      ]
     },
     "metadata": {},
     "output_type": "display_data"
    },
    {
     "data": {
      "application/vnd.jupyter.widget-view+json": {
       "model_id": "b845f864fc064b84be3da9654e4da177",
       "version_major": 2,
       "version_minor": 0
      },
      "text/plain": [
       "config.json:   0%|          | 0.00/570 [00:00<?, ?B/s]"
      ]
     },
     "metadata": {},
     "output_type": "display_data"
    },
    {
     "data": {
      "application/vnd.jupyter.widget-view+json": {
       "model_id": "ffc5cbca5b20451a90c894bc6b213b08",
       "version_major": 2,
       "version_minor": 0
      },
      "text/plain": [
       "vocab.txt:   0%|          | 0.00/213k [00:00<?, ?B/s]"
      ]
     },
     "metadata": {},
     "output_type": "display_data"
    },
    {
     "data": {
      "application/vnd.jupyter.widget-view+json": {
       "model_id": "ec3cded4f30e41c089c3e1a4629666fd",
       "version_major": 2,
       "version_minor": 0
      },
      "text/plain": [
       "tokenizer.json:   0%|          | 0.00/436k [00:00<?, ?B/s]"
      ]
     },
     "metadata": {},
     "output_type": "display_data"
    },
    {
     "name": "stdout",
     "output_type": "stream",
     "text": [
      "<class 'transformers.models.bert.tokenization_bert_fast.BertTokenizerFast'>\n"
     ]
    }
   ],
   "source": [
    "tokenizer = AutoTokenizer.from_pretrained(model_checkpoint)\n",
    "print(type(tokenizer))"
   ]
  },
  {
   "cell_type": "code",
   "execution_count": 12,
   "metadata": {
    "colab": {
     "base_uri": "https://localhost:8080/"
    },
    "executionInfo": {
     "elapsed": 4,
     "status": "ok",
     "timestamp": 1734071290854,
     "user": {
      "displayName": "Joshua Spear",
      "userId": "05726166776749736519"
     },
     "user_tz": 0
    },
    "id": "M71gP6zoXpqG",
    "outputId": "5e524d32-e771-435b-bcfb-e2094314bbd9"
   },
   "outputs": [
    {
     "data": {
      "text/plain": [
       "{'unk_token': '[UNK]',\n",
       " 'sep_token': '[SEP]',\n",
       " 'pad_token': '[PAD]',\n",
       " 'cls_token': '[CLS]',\n",
       " 'mask_token': '[MASK]'}"
      ]
     },
     "execution_count": 12,
     "metadata": {},
     "output_type": "execute_result"
    }
   ],
   "source": [
    "tokenizer.special_tokens_map"
   ]
  },
  {
   "cell_type": "code",
   "execution_count": 13,
   "metadata": {
    "executionInfo": {
     "elapsed": 3,
     "status": "ok",
     "timestamp": 1734071290854,
     "user": {
      "displayName": "Joshua Spear",
      "userId": "05726166776749736519"
     },
     "user_tz": 0
    },
    "id": "97Bmu6oTu0iw"
   },
   "outputs": [],
   "source": [
    "def print_trainable_parameters(model):\n",
    "    trainable_params = 0\n",
    "    all_param = 0\n",
    "    for _, param in model.named_parameters():\n",
    "        all_param += param.numel()\n",
    "        if param.requires_grad:\n",
    "            trainable_params += param.numel()\n",
    "    print(\n",
    "        f\"trainable params: {trainable_params} || all params: {all_param} || trainable%: {100 * trainable_params / all_param:.2f}\"\n",
    "    )"
   ]
  },
  {
   "cell_type": "code",
   "execution_count": 36,
   "metadata": {
    "colab": {
     "base_uri": "https://localhost:8080/"
    },
    "executionInfo": {
     "elapsed": 1948,
     "status": "ok",
     "timestamp": 1734073921109,
     "user": {
      "displayName": "Joshua Spear",
      "userId": "05726166776749736519"
     },
     "user_tz": 0
    },
    "id": "XhTKgMHavJ95",
    "outputId": "d179d5ce-8a57-45f1-fac2-725d04f40a7b"
   },
   "outputs": [
    {
     "name": "stderr",
     "output_type": "stream",
     "text": [
      "Some weights of BertForQuestionAnswering were not initialized from the model checkpoint at bert-base-cased and are newly initialized: ['qa_outputs.bias', 'qa_outputs.weight']\n",
      "You should probably TRAIN this model on a down-stream task to be able to use it for predictions and inference.\n"
     ]
    }
   ],
   "source": [
    "model = AutoModelForQuestionAnswering.from_pretrained(\n",
    "    model_checkpoint,\n",
    "    ignore_mismatched_sizes=True,  # provide this in case you're planning to fine-tune an already fine-tuned checkpoint\n",
    ")"
   ]
  },
  {
   "cell_type": "code",
   "execution_count": 37,
   "metadata": {
    "colab": {
     "base_uri": "https://localhost:8080/"
    },
    "executionInfo": {
     "elapsed": 969,
     "status": "ok",
     "timestamp": 1734073924347,
     "user": {
      "displayName": "Joshua Spear",
      "userId": "05726166776749736519"
     },
     "user_tz": 0
    },
    "id": "Htc20kHMvZWM",
    "outputId": "969383d6-48f7-420c-a447-2856959dad3b"
   },
   "outputs": [
    {
     "name": "stdout",
     "output_type": "stream",
     "text": [
      "trainable params: 107721218 || all params: 107721218 || trainable%: 100.00\n"
     ]
    }
   ],
   "source": [
    "print_trainable_parameters(model)"
   ]
  },
  {
   "cell_type": "code",
   "execution_count": 38,
   "metadata": {
    "colab": {
     "base_uri": "https://localhost:8080/"
    },
    "executionInfo": {
     "elapsed": 368,
     "status": "ok",
     "timestamp": 1734073926102,
     "user": {
      "displayName": "Joshua Spear",
      "userId": "05726166776749736519"
     },
     "user_tz": 0
    },
    "id": "Qwt-JlM7lYuD",
    "outputId": "d68c1079-7c39-41ee-d637-7ed35cbb61f0"
   },
   "outputs": [
    {
     "data": {
      "text/plain": [
       "BertForQuestionAnswering(\n",
       "  (bert): BertModel(\n",
       "    (embeddings): BertEmbeddings(\n",
       "      (word_embeddings): Embedding(28996, 768, padding_idx=0)\n",
       "      (position_embeddings): Embedding(512, 768)\n",
       "      (token_type_embeddings): Embedding(2, 768)\n",
       "      (LayerNorm): LayerNorm((768,), eps=1e-12, elementwise_affine=True)\n",
       "      (dropout): Dropout(p=0.1, inplace=False)\n",
       "    )\n",
       "    (encoder): BertEncoder(\n",
       "      (layer): ModuleList(\n",
       "        (0-11): 12 x BertLayer(\n",
       "          (attention): BertAttention(\n",
       "            (self): BertSdpaSelfAttention(\n",
       "              (query): Linear(in_features=768, out_features=768, bias=True)\n",
       "              (key): Linear(in_features=768, out_features=768, bias=True)\n",
       "              (value): Linear(in_features=768, out_features=768, bias=True)\n",
       "              (dropout): Dropout(p=0.1, inplace=False)\n",
       "            )\n",
       "            (output): BertSelfOutput(\n",
       "              (dense): Linear(in_features=768, out_features=768, bias=True)\n",
       "              (LayerNorm): LayerNorm((768,), eps=1e-12, elementwise_affine=True)\n",
       "              (dropout): Dropout(p=0.1, inplace=False)\n",
       "            )\n",
       "          )\n",
       "          (intermediate): BertIntermediate(\n",
       "            (dense): Linear(in_features=768, out_features=3072, bias=True)\n",
       "            (intermediate_act_fn): GELUActivation()\n",
       "          )\n",
       "          (output): BertOutput(\n",
       "            (dense): Linear(in_features=3072, out_features=768, bias=True)\n",
       "            (LayerNorm): LayerNorm((768,), eps=1e-12, elementwise_affine=True)\n",
       "            (dropout): Dropout(p=0.1, inplace=False)\n",
       "          )\n",
       "        )\n",
       "      )\n",
       "    )\n",
       "  )\n",
       "  (qa_outputs): Linear(in_features=768, out_features=2, bias=True)\n",
       ")"
      ]
     },
     "execution_count": 38,
     "metadata": {},
     "output_type": "execute_result"
    }
   ],
   "source": [
    "model"
   ]
  },
  {
   "cell_type": "code",
   "execution_count": 39,
   "metadata": {
    "executionInfo": {
     "elapsed": 2082,
     "status": "ok",
     "timestamp": 1734073930464,
     "user": {
      "displayName": "Joshua Spear",
      "userId": "05726166776749736519"
     },
     "user_tz": 0
    },
    "id": "_qWbpWPrlc3q"
   },
   "outputs": [],
   "source": [
    "metric = evaluate.load(\"squad\")"
   ]
  },
  {
   "cell_type": "markdown",
   "metadata": {
    "id": "hAhS7PKa3TEK"
   },
   "source": [
    "Prior to fine tuning, we'll evaluate how well the model performs using both an exact match and f1 score metric where:\n",
    "* Exact match: Boolean defining whether the identified answer equals the ground truth answer\n",
    "* F1 Score: F1 score defined on a token level i.e., true positives are those that appear in the predicted answer and the ground truth answer.\n",
    "\n",
    "These metrics however, are far from ideal thus, as with LLM training now, we'll use a \"vibes\" test. Examine the answers for the first 2 training examples, how \"reasonable\" are they?"
   ]
  },
  {
   "cell_type": "code",
   "execution_count": 40,
   "metadata": {
    "executionInfo": {
     "elapsed": 340,
     "status": "ok",
     "timestamp": 1734073932562,
     "user": {
      "displayName": "Joshua Spear",
      "userId": "05726166776749736519"
     },
     "user_tz": 0
    },
    "id": "8elWDDmkMKPB"
   },
   "outputs": [],
   "source": [
    "@overload\n",
    "def pipeline_to_squad(pred:List[Dict], true:List[Dict])->Dict: ...\n",
    "\n",
    "@overload\n",
    "def pipeline_to_squad(pred:Dict, true:Dict)->Dict: ...\n",
    "\n",
    "def pipeline_to_squad(pred, true)->Dict:\n",
    "    assert type(pred) == type(true)\n",
    "    if isinstance(pred, Dict):\n",
    "        pred = [pred]\n",
    "        true = [true]\n",
    "    predictions = []\n",
    "    references = []\n",
    "    for p,t in zip(pred, true):\n",
    "        predictions.append(\n",
    "            {\n",
    "                \"id\": str(t[\"id\"]),\n",
    "                \"prediction_text\": p[\"answer\"]\n",
    "            }\n",
    "        )\n",
    "        references.append(\n",
    "            {\n",
    "                \"id\": str(t[\"id\"]),\n",
    "                \"answers\": [{\n",
    "                    \"text\": t[\"answer\"],\n",
    "                    \"answer_start\": t[\"answer_start\"]\n",
    "                    }],\n",
    "                }\n",
    "            )\n",
    "    return metric.compute(predictions=predictions, references=references)"
   ]
  },
  {
   "cell_type": "code",
   "execution_count": 20,
   "metadata": {
    "colab": {
     "base_uri": "https://localhost:8080/",
     "height": 1000
    },
    "executionInfo": {
     "elapsed": 810780,
     "status": "ok",
     "timestamp": 1734035375769,
     "user": {
      "displayName": "Joshua Spear",
      "userId": "05726166776749736519"
     },
     "user_tz": 0
    },
    "id": "J0dl0Ae5rXbu",
    "outputId": "1f710962-dd64-4f17-b055-03518f337f7c"
   },
   "outputs": [
    {
     "name": "stderr",
     "output_type": "stream",
     "text": [
      "Device set to use cuda:0\n",
      "/usr/local/lib/python3.10/dist-packages/transformers/pipelines/question_answering.py:391: FutureWarning: Passing a list of SQuAD examples to the pipeline is deprecated and will be removed in v5. Inputs should be passed using the `question` and `context` keyword arguments instead.\n",
      "  warnings.warn(\n",
      "100%|██████████| 1000/1000 [13:19<00:00,  1.25it/s]\n"
     ]
    },
    {
     "name": "stdout",
     "output_type": "stream",
     "text": [
      "Train exact mean: 0.0\n",
      "Train exact std: 0.0\n",
      "Train f1 mean: 2.45071836027608\n",
      "Train f1 std: 6.074779812217074\n"
     ]
    },
    {
     "name": "stderr",
     "output_type": "stream",
     "text": [
      "0it [00:00, ?it/s]You seem to be using the pipelines sequentially on GPU. In order to maximize efficiency please use a dataset\n",
      "1000it [00:10, 99.43it/s]\n"
     ]
    },
    {
     "data": {
      "image/png": "[encoded data removed]",
      "text/plain": [
       "<Figure size 640x480 with 1 Axes>"
      ]
     },
     "metadata": {},
     "output_type": "display_data"
    },
    {
     "name": "stderr",
     "output_type": "stream",
     "text": [
      "/usr/local/lib/python3.10/dist-packages/pandas/core/arraylike.py:399: RuntimeWarning: divide by zero encountered in log\n",
      "  result = getattr(ufunc, method)(*inputs, **kwargs)\n"
     ]
    },
    {
     "data": {
      "image/png": "[encoded data removed]",
      "text/plain": [
       "<Figure size 640x480 with 1 Axes>"
      ]
     },
     "metadata": {},
     "output_type": "display_data"
    },
    {
     "data": {
      "image/png": "[encoded data removed]",
      "text/plain": [
       "<Figure size 640x480 with 1 Axes>"
      ]
     },
     "metadata": {},
     "output_type": "display_data"
    }
   ],
   "source": [
    "ASSESS_PIPELINE = True\n",
    "random.seed(42)\n",
    "idxs = random.sample(range(len(train)), 1_000)\n",
    "_train = train.select(idxs)\n",
    "if ASSESS_PIPELINE:\n",
    "    question_answerer = pipeline(\"question-answering\", model=model, tokenizer=tokenizer)\n",
    "\n",
    "    train_exact = []\n",
    "    train_f1 = []\n",
    "    for i_v,p_v in tqdm(\n",
    "        zip(\n",
    "            iter(_train),\n",
    "            question_answerer(iter(_train.select_columns([\"question\", \"context\"])))\n",
    "            ),\n",
    "        total=_train.shape[0]\n",
    "        ):\n",
    "        _out = pipeline_to_squad(pred=p_v, true=i_v)\n",
    "        train_exact.append(_out[\"exact_match\"])\n",
    "        train_f1.append(_out[\"f1\"])\n",
    "\n",
    "    print(f\"Train exact mean: {np.mean(train_exact)}\")\n",
    "    print(f\"Train exact std: {np.std(train_exact)}\")\n",
    "    print(f\"Train f1 mean: {np.mean(train_f1)}\")\n",
    "    print(f\"Train f1 std: {np.std(train_f1)}\")\n",
    "\n",
    "    train_df = pd.DataFrame({\n",
    "        \"train_f1\": train_f1,\n",
    "        \"train_idx\": idxs\n",
    "        }\n",
    "    )\n",
    "    train_df = train_df.sort_values(by=\"train_f1\", ascending=False)\n",
    "\n",
    "    answer_len = []\n",
    "    pred_ans_strt = []\n",
    "    question = []\n",
    "    answer = []\n",
    "    pred_answer = []\n",
    "    for i,f1 in tqdm(zip(train_df[\"train_idx\"], train_df[\"train_f1\"])):\n",
    "      question.append(train[i][\"question\"])\n",
    "      _pred_ans = question_answerer(train[i][\"question\"], train[i][\"answer\"])[\"answer\"]\n",
    "      pred_answer.append(_pred_ans)\n",
    "      _true_ans = train[i][\"answer\"]\n",
    "      answer.append(_true_ans)\n",
    "      answer_len.append(len(_true_ans))\n",
    "      _pred_ans_start = _true_ans.find(_pred_ans)\n",
    "      pred_ans_strt.append(_pred_ans_start)\n",
    "    train_df[\"answer_len\"] = answer_len\n",
    "    train_df[\"pred_ans_strt\"] = pred_ans_strt\n",
    "    train_df[\"question\"] = question\n",
    "    train_df[\"answer\"] = answer\n",
    "    train_df[\"pred_answer\"] = pred_answer\n",
    "\n",
    "    plt.scatter(train_df[\"answer_len\"], train_df[\"train_f1\"])\n",
    "    plt.xlabel(\"Answer length\")\n",
    "    plt.ylabel(\"F1 score\")\n",
    "    plt.show()\n",
    "\n",
    "    plt.scatter(np.log(train_df[\"answer_len\"]), np.log(train_df[\"train_f1\"]))\n",
    "    plt.xlabel(\"Answer length\")\n",
    "    plt.ylabel(\"F1 score\")\n",
    "    plt.show()\n",
    "\n",
    "    plt.scatter(np.log(train_df[\"pred_ans_strt\"]), np.log(train_df[\"train_f1\"]))\n",
    "    plt.xlabel(\"Answer length\")\n",
    "    plt.ylabel(\"F1 score\")\n",
    "    plt.show()"
   ]
  },
  {
   "cell_type": "code",
   "execution_count": 41,
   "metadata": {
    "colab": {
     "base_uri": "https://localhost:8080/",
     "height": 1000
    },
    "executionInfo": {
     "elapsed": 79724,
     "status": "ok",
     "timestamp": 1734074022391,
     "user": {
      "displayName": "Joshua Spear",
      "userId": "05726166776749736519"
     },
     "user_tz": 0
    },
    "id": "e6ItTxltye90",
    "outputId": "11374560-2c45-4f11-be16-fa41ae1a90df"
   },
   "outputs": [
    {
     "name": "stderr",
     "output_type": "stream",
     "text": [
      "Device set to use cuda:0\n",
      "100%|██████████| 182/182 [01:16<00:00,  2.37it/s]\n"
     ]
    },
    {
     "name": "stdout",
     "output_type": "stream",
     "text": [
      "Train exact mean: 0.0\n",
      "Train exact std: 0.0\n",
      "Train f1 mean: 1.4799457734407264\n",
      "Train f1 std: 4.282072610893255\n",
      "103\n",
      "25.0\n",
      "25.0\n",
      "Predicted answer: {'score': 0.010815577581524849, 'start': 9, 'end': 10, 'answer': '-'}\n",
      "True answer: reased 21-fold (95% CI: 18\n"
     ]
    },
    {
     "name": "stderr",
     "output_type": "stream",
     "text": [
      "\r0it [00:00, ?it/s]/usr/local/lib/python3.10/dist-packages/transformers/pipelines/question_answering.py:391: FutureWarning: Passing a list of SQuAD examples to the pipeline is deprecated and will be removed in v5. Inputs should be passed using the `question` and `context` keyword arguments instead.\n",
      "  warnings.warn(\n",
      "You seem to be using the pipelines sequentially on GPU. In order to maximize efficiency please use a dataset\n",
      "182it [00:02, 90.47it/s]\n"
     ]
    },
    {
     "data": {
      "image/png": "[encoded data removed]",
      "text/plain": [
       "<Figure size 640x480 with 1 Axes>"
      ]
     },
     "metadata": {},
     "output_type": "display_data"
    },
    {
     "name": "stderr",
     "output_type": "stream",
     "text": [
      "/usr/local/lib/python3.10/dist-packages/pandas/core/arraylike.py:399: RuntimeWarning: divide by zero encountered in log\n",
      "  result = getattr(ufunc, method)(*inputs, **kwargs)\n"
     ]
    },
    {
     "data": {
      "image/png": "[encoded data removed]",
      "text/plain": [
       "<Figure size 640x480 with 1 Axes>"
      ]
     },
     "metadata": {},
     "output_type": "display_data"
    },
    {
     "data": {
      "image/png": "[encoded data removed]",
      "text/plain": [
       "<Figure size 640x480 with 1 Axes>"
      ]
     },
     "metadata": {},
     "output_type": "display_data"
    }
   ],
   "source": [
    "ASSESS_PIPELINE = True\n",
    "if ASSESS_PIPELINE:\n",
    "    question_answerer = pipeline(\"question-answering\", model=model, tokenizer=tokenizer)\n",
    "    val_exact = []\n",
    "    val_f1 = []\n",
    "    for i_v,p_v in tqdm(\n",
    "        zip(\n",
    "            iter(validation),\n",
    "            question_answerer(iter(validation.select_columns([\"question\", \"context\"])))\n",
    "            ),\n",
    "        total=validation.shape[0]\n",
    "        ):\n",
    "        _out = pipeline_to_squad(pred=p_v, true=i_v)\n",
    "        val_exact.append(_out[\"exact_match\"])\n",
    "        val_f1.append(_out[\"f1\"])\n",
    "\n",
    "    print(f\"Train exact mean: {np.mean(val_exact)}\")\n",
    "    print(f\"Train exact std: {np.std(val_exact)}\")\n",
    "    print(f\"Train f1 mean: {np.mean(val_f1)}\")\n",
    "    print(f\"Train f1 std: {np.std(val_f1)}\")\n",
    "\n",
    "    print(val_f1.index(max(val_f1)))\n",
    "    _best_idx = val_f1.index(max(val_f1))\n",
    "    print(max(val_f1))\n",
    "    print(val_f1[_best_idx])\n",
    "    print(f'Predicted answer: {question_answerer(validation[_best_idx][\"question\"], validation[_best_idx][\"answer\"])}')\n",
    "    print(f'True answer: {validation[_best_idx][\"answer\"]}')\n",
    "\n",
    "    val_df = pd.DataFrame(\n",
    "        {\"val_f1\": val_f1}\n",
    "    )\n",
    "    val_df = val_df.reset_index(drop=False).rename(columns={\"index\":\"val_idx\"})\n",
    "    val_df = val_df.sort_values(by=\"val_f1\", ascending=False)\n",
    "\n",
    "    answer_len = []\n",
    "    pred_ans_strt = []\n",
    "    question = []\n",
    "    answer = []\n",
    "    pred_answer = []\n",
    "    for i,f1 in tqdm(zip(val_df[\"val_idx\"], val_df[\"val_f1\"])):\n",
    "      question.append(validation[i][\"question\"])\n",
    "      _pred_ans = question_answerer(validation[i][\"question\"], validation[i][\"answer\"])[\"answer\"]\n",
    "      pred_answer.append(_pred_ans)\n",
    "      _true_ans = validation[i][\"answer\"]\n",
    "      answer.append(_true_ans)\n",
    "      answer_len.append(len(_true_ans))\n",
    "      _pred_ans_start = _true_ans.find(_pred_ans)\n",
    "      pred_ans_strt.append(_pred_ans_start)\n",
    "    val_df[\"answer_len\"] = answer_len\n",
    "    val_df[\"pred_ans_strt\"] = pred_ans_strt\n",
    "    val_df[\"question\"] = question\n",
    "    val_df[\"answer\"] = answer\n",
    "    val_df[\"pred_answer\"] = pred_answer\n",
    "\n",
    "    plt.scatter(val_df[\"answer_len\"], val_df[\"val_f1\"])\n",
    "    plt.xlabel(\"Answer length\")\n",
    "    plt.ylabel(\"F1 score\")\n",
    "    plt.show()\n",
    "\n",
    "    plt.scatter(np.log(val_df[\"answer_len\"]), np.log(val_df[\"val_f1\"]))\n",
    "    plt.xlabel(\"Answer length\")\n",
    "    plt.ylabel(\"F1 score\")\n",
    "    plt.show()\n",
    "\n",
    "    plt.scatter(np.log(val_df[\"pred_ans_strt\"]), np.log(val_df[\"val_f1\"]))\n",
    "    plt.xlabel(\"Answer length\")\n",
    "    plt.ylabel(\"F1 score\")\n",
    "    plt.show()"
   ]
  },
  {
   "cell_type": "code",
   "execution_count": 22,
   "metadata": {
    "colab": {
     "base_uri": "https://localhost:8080/",
     "height": 591
    },
    "executionInfo": {
     "elapsed": 3,
     "status": "ok",
     "timestamp": 1734036281721,
     "user": {
      "displayName": "Joshua Spear",
      "userId": "05726166776749736519"
     },
     "user_tz": 0
    },
    "id": "sABL8_W0etAm",
    "outputId": "3e941e0f-4740-464c-d05d-1bd60e53f2e5"
   },
   "outputs": [
    {
     "name": "stderr",
     "output_type": "stream",
     "text": [
      "1635it [00:00, 11879.84it/s]\n"
     ]
    },
    {
     "name": "stdout",
     "output_type": "stream",
     "text": [
      "0.00      1.0\n",
      "0.05      5.0\n",
      "0.25     22.0\n",
      "0.50     63.0\n",
      "0.75    129.0\n",
      "0.95    297.6\n",
      "1.00    934.0\n",
      "dtype: float64\n"
     ]
    },
    {
     "data": {
      "image/png": "[encoded data removed]",
      "text/plain": [
       "<Figure size 640x480 with 1 Axes>"
      ]
     },
     "metadata": {},
     "output_type": "display_data"
    }
   ],
   "source": [
    "train_ans_len = []\n",
    "for i in tqdm(iter(train)):\n",
    "  train_ans_len.append(len(i[\"answer\"]))\n",
    "train_ans_len = pd.Series(train_ans_len)\n",
    "print(train_ans_len.quantile([0,.05,.25,.5,.75,.95,1]))\n",
    "plt.hist(train_ans_len, bins=25)\n",
    "plt.show()"
   ]
  },
  {
   "cell_type": "code",
   "execution_count": 19,
   "metadata": {
    "colab": {
     "base_uri": "https://localhost:8080/"
    },
    "executionInfo": {
     "elapsed": 371,
     "status": "ok",
     "timestamp": 1734071336159,
     "user": {
      "displayName": "Joshua Spear",
      "userId": "05726166776749736519"
     },
     "user_tz": 0
    },
    "id": "upLXyeT6vic1",
    "outputId": "c286fd5f-743f-49d8-b393-9289c22c0393"
   },
   "outputs": [
    {
     "name": "stdout",
     "output_type": "stream",
     "text": [
      "trainable params: 4718592 || all params: 112439810 || trainable%: 4.20\n"
     ]
    }
   ],
   "source": [
    "config = LoraConfig(\n",
    "    r=128,\n",
    "    lora_alpha=128,\n",
    "    target_modules=[\"query\",\"value\"],\n",
    "    lora_dropout=0.1,\n",
    "    bias=\"none\",\n",
    "    modules_to_save=['qa_outputs.bias', 'qa_outputs.weight'],\n",
    ")\n",
    "lora_model = get_peft_model(model, config)\n",
    "print_trainable_parameters(lora_model)"
   ]
  },
  {
   "cell_type": "markdown",
   "metadata": {
    "id": "BFOEMv4RUIoO"
   },
   "source": [
    "### Data preprocessing\n",
    "\n",
    "For the Q&A task, we'll need to do a little bit of preprocessing. Firstly, the question+context lengths overflow the  maximum context of BERT (and will overflow to a greater extent if we reduce the max sequence length to enable single GPU training (as performed below)). To handle this, we'll split large contexts across multiple new observations. Additionally, rather than niavely splitting which could result in observations where the context contains only the answer, we'll pad instances with surrounding context. We set:\n",
    "* max_length to define the maximum input length;\n",
    "* stride to define the context padding;\n",
    "* return_overflowing_tokens to help us identify which splits corrospond to which answers in the orignal input data;\n",
    "* return_offsets_mapping to help to identify where the inputs have been split;\n",
    "\n",
    "Using this approach, we may still have inputs where an answer is not present/incomplete."
   ]
  },
  {
   "cell_type": "code",
   "execution_count": 20,
   "metadata": {
    "colab": {
     "base_uri": "https://localhost:8080/"
    },
    "executionInfo": {
     "elapsed": 343,
     "status": "ok",
     "timestamp": 1734071342700,
     "user": {
      "displayName": "Joshua Spear",
      "userId": "05726166776749736519"
     },
     "user_tz": 0
    },
    "id": "ETnDZfFO5tHH",
    "outputId": "b7cc3c0a-b9a9-4299-985a-809e57ae1979"
   },
   "outputs": [
    {
     "name": "stdout",
     "output_type": "stream",
     "text": [
      "dict_keys(['input_ids', 'token_type_ids', 'attention_mask', 'offset_mapping', 'overflow_to_sample_mapping'])\n",
      "London is the capital of England.\n",
      "[CLS] What is the capital of England? [SEP] London is a very popular city with lots to do. London is the capital of England. [SEP] [PAD] [PAD] [PAD] [PAD] [PAD] [PAD] [PAD] [PAD] [PAD] [PAD] [PAD] [PAD] [PAD] [PAD] [PAD] [PAD] [PAD] [PAD] [PAD] [PAD] [PAD] [PAD] [PAD] [PAD] [PAD] [PAD] [PAD] [PAD] [PAD] [PAD] [PAD] [PAD] [PAD] [PAD] [PAD] [PAD] [PAD] [PAD] [PAD] [PAD] [PAD] [PAD] [PAD] [PAD] [PAD] [PAD] [PAD] [PAD] [PAD] [PAD] [PAD] [PAD] [PAD] [PAD] [PAD] [PAD] [PAD] [PAD] [PAD] [PAD] [PAD] [PAD] [PAD] [PAD] [PAD] [PAD] [PAD] [PAD] [PAD] [PAD] [PAD] [PAD] [PAD] [PAD] [PAD] [PAD] [PAD] [PAD] [PAD] [PAD] [PAD] [PAD] [PAD] [PAD] [PAD] [PAD] [PAD] [PAD] [PAD] [PAD] [PAD] [PAD] [PAD] [PAD] [PAD] [PAD] [PAD] [PAD] [PAD] [PAD]\n",
      "tensor([0, 1])\n"
     ]
    }
   ],
   "source": [
    "context =[\n",
    "    \"London is a very popular city with lots to do. London is the capital of England.\",\n",
    "    \"The most popular type of beans are baked\"\n",
    "    ]\n",
    "_token_input = tokenizer(\n",
    "    [\"What is the capital of England?\", \"What are the most popular type of beans?\"],\n",
    "    context,\n",
    "    max_length=128,\n",
    "    truncation=\"only_second\",\n",
    "    return_offsets_mapping=True,\n",
    "    padding=\"max_length\",\n",
    "    stride=64,\n",
    "    return_overflowing_tokens=True,\n",
    "    return_tensors=\"pt\",\n",
    "    add_special_tokens = True,\n",
    "    )\n",
    "answer = [\"London is the capital of England.\",\"Kidney\"]\n",
    "print(_token_input.keys())\n",
    "answer_start = [c.find(a) for c,a in zip(context,answer)]\n",
    "answer_end = [a_s+len(a) if a_s!=-1 else a_s for  a_s,a in zip(answer_start,answer)]\n",
    "print(context[0][answer_start[0]:answer_end[0]])\n",
    "print(tokenizer.decode(_token_input[\"input_ids\"][0]))\n",
    "# Offset mapping has dimensions: (sample, trajectory length, start/end)\n",
    "offset_mapping = _token_input.pop(\"offset_mapping\")\n",
    "# overflow_to_sample_mapping defines the original input to which the sample belongs\n",
    "sample_map = _token_input.pop(\"overflow_to_sample_mapping\")\n",
    "print(sample_map)"
   ]
  },
  {
   "cell_type": "code",
   "execution_count": 21,
   "metadata": {
    "colab": {
     "base_uri": "https://localhost:8080/"
    },
    "executionInfo": {
     "elapsed": 412,
     "status": "ok",
     "timestamp": 1734071346456,
     "user": {
      "displayName": "Joshua Spear",
      "userId": "05726166776749736519"
     },
     "user_tz": 0
    },
    "id": "UjdhXiE7Y759",
    "outputId": "b34e7f36-26ea-44b2-b95c-83e1849b1582"
   },
   "outputs": [
    {
     "name": "stdout",
     "output_type": "stream",
     "text": [
      "tensor([1, 1, 1, 1, 1, 1, 1, 1, 1, 1, 1, 1, 1, 1, 1, 1, 1, 1, 1, 1, 0, 0, 0, 0,\n",
      "        0, 0, 0, 0, 0, 0, 0, 0, 0, 0, 0, 0, 0, 0, 0, 0, 0, 0, 0, 0, 0, 0, 0, 0,\n",
      "        0, 0, 0, 0, 0, 0, 0, 0, 0, 0, 0, 0, 0, 0, 0, 0, 0, 0, 0, 0, 0, 0, 0, 0,\n",
      "        0, 0, 0, 0, 0, 0, 0, 0, 0, 0, 0, 0, 0, 0, 0, 0, 0, 0, 0, 0, 0, 0, 0, 0,\n",
      "        0, 0, 0, 0, 0, 0, 0, 0, 0, 0, 0, 0, 0, 0, 0, 0, 0, 0, 0, 0, 0, 0, 0, 0,\n",
      "        0, 0, 0, 0, 0, 0, 0, 0])\n",
      "tensor([  101,  1327,  1132,  1103,  1211,  1927,  2076,  1104, 15154,   136,\n",
      "          102,  1109,  1211,  1927,  2076,  1104, 15154,  1132, 19983,   102,\n",
      "            0,     0,     0,     0,     0,     0,     0,     0,     0,     0,\n",
      "            0,     0,     0,     0,     0,     0,     0,     0,     0,     0,\n",
      "            0,     0,     0,     0,     0,     0,     0,     0,     0,     0,\n",
      "            0,     0,     0,     0,     0,     0,     0,     0,     0,     0,\n",
      "            0,     0,     0,     0,     0,     0,     0,     0,     0,     0,\n",
      "            0,     0,     0,     0,     0,     0,     0,     0,     0,     0,\n",
      "            0,     0,     0,     0,     0,     0,     0,     0,     0,     0,\n",
      "            0,     0,     0,     0,     0,     0,     0,     0,     0,     0,\n",
      "            0,     0,     0,     0,     0,     0,     0,     0,     0,     0,\n",
      "            0,     0,     0,     0,     0,     0,     0,     0,     0,     0,\n",
      "            0,     0,     0,     0,     0,     0,     0,     0])\n",
      "[CLS] What are the most popular type of beans? [SEP] The most popular type of beans are baked [SEP] [PAD] [PAD] [PAD] [PAD] [PAD] [PAD] [PAD] [PAD] [PAD] [PAD] [PAD] [PAD] [PAD] [PAD] [PAD] [PAD] [PAD] [PAD] [PAD] [PAD] [PAD] [PAD] [PAD] [PAD] [PAD] [PAD] [PAD] [PAD] [PAD] [PAD] [PAD] [PAD] [PAD] [PAD] [PAD] [PAD] [PAD] [PAD] [PAD] [PAD] [PAD] [PAD] [PAD] [PAD] [PAD] [PAD] [PAD] [PAD] [PAD] [PAD] [PAD] [PAD] [PAD] [PAD] [PAD] [PAD] [PAD] [PAD] [PAD] [PAD] [PAD] [PAD] [PAD] [PAD] [PAD] [PAD] [PAD] [PAD] [PAD] [PAD] [PAD] [PAD] [PAD] [PAD] [PAD] [PAD] [PAD] [PAD] [PAD] [PAD] [PAD] [PAD] [PAD] [PAD] [PAD] [PAD] [PAD] [PAD] [PAD] [PAD] [PAD] [PAD] [PAD] [PAD] [PAD] [PAD] [PAD] [PAD] [PAD] [PAD] [PAD] [PAD] [PAD] [PAD] [PAD] [PAD] [PAD] [PAD]\n"
     ]
    }
   ],
   "source": [
    "print(_token_input[\"attention_mask\"][1,:])\n",
    "print(_token_input[\"input_ids\"][1,:])\n",
    "print(tokenizer.decode(_token_input[\"input_ids\"][1,:]))"
   ]
  },
  {
   "cell_type": "code",
   "execution_count": 22,
   "metadata": {
    "executionInfo": {
     "elapsed": 389,
     "status": "ok",
     "timestamp": 1734071355976,
     "user": {
      "displayName": "Joshua Spear",
      "userId": "05726166776749736519"
     },
     "user_tz": 0
    },
    "id": "yOup5HRR7XPD"
   },
   "outputs": [],
   "source": [
    "def find_labels(offset, answer_start, answer_end, sequence_ids):\n",
    "    idx = 0\n",
    "    # The context is defined by 1\n",
    "    question_start = idx\n",
    "    while sequence_ids[idx] is None:\n",
    "        if idx < len(sequence_ids)-1:\n",
    "          idx += 1\n",
    "    question_start = idx\n",
    "    while sequence_ids[idx] != 1:\n",
    "        if idx < len(sequence_ids)-1:\n",
    "          idx += 1\n",
    "        else:\n",
    "          break\n",
    "    context_start = idx\n",
    "    while sequence_ids[idx] == 1:\n",
    "        if idx < len(sequence_ids)-1:\n",
    "          idx += 1\n",
    "        else:\n",
    "          break\n",
    "    context_end = idx - 1\n",
    "    # If the answer is not fully inside the context, label it (0, 0)\n",
    "    if offset[context_start][0] > answer_end or offset[context_end][1] < answer_start:\n",
    "        start_positions = question_start\n",
    "        end_positions = question_start\n",
    "    else:\n",
    "        # Otherwise it's the start and end token positions\n",
    "        idx = context_start\n",
    "        while idx <= context_end and offset[idx][0] <= answer_start:\n",
    "            idx += 1\n",
    "        start_positions = idx - 1\n",
    "\n",
    "        idx = context_end\n",
    "        while idx >= context_start and offset[idx][1] >= answer_end:\n",
    "            idx -= 1\n",
    "        end_positions = idx + 1\n",
    "    return start_positions, end_positions"
   ]
  },
  {
   "cell_type": "code",
   "execution_count": 23,
   "metadata": {
    "executionInfo": {
     "elapsed": 372,
     "status": "ok",
     "timestamp": 1734071357753,
     "user": {
      "displayName": "Joshua Spear",
      "userId": "05726166776749736519"
     },
     "user_tz": 0
    },
    "id": "khFWJOyEZNh0"
   },
   "outputs": [],
   "source": [
    "def preprocess_function(\n",
    "    tokenised_dataset:transformers.tokenization_utils_base.BatchEncoding,\n",
    "    answer_start,\n",
    "    answer_end\n",
    "    ):\n",
    "    # Offset mapping has dimensions: (sample, trajectory length, start/end)\n",
    "    offset_mapping = tokenised_dataset.pop(\"offset_mapping\")\n",
    "    # overflow_to_sample_mapping defines the original input to which the sample belongs\n",
    "    sample_map = tokenised_dataset.pop(\"overflow_to_sample_mapping\")\n",
    "    start_positions = []\n",
    "    end_positions = []\n",
    "    for i in tqdm(\n",
    "        range(tokenised_dataset[\"input_ids\"].shape[0]),\n",
    "        total=tokenised_dataset[\"input_ids\"].shape[0]\n",
    "        ):\n",
    "          _seq_ids = tokenised_dataset.sequence_ids(i)\n",
    "          _ans_id = sample_map[i].item()\n",
    "          _lab = find_labels(\n",
    "              offset=offset_mapping[i,:],\n",
    "              answer_start=answer_start[_ans_id],\n",
    "              answer_end=answer_end[_ans_id],\n",
    "              sequence_ids=_seq_ids\n",
    "          )\n",
    "          start_positions.append(_lab[0])\n",
    "          end_positions.append(_lab[1])\n",
    "\n",
    "    tokenised_dataset[\"start_positions\"] = torch.tensor(start_positions).reshape(-1,1)\n",
    "    tokenised_dataset[\"end_positions\"] = torch.tensor(end_positions).reshape(-1,1)\n",
    "    return tokenised_dataset"
   ]
  },
  {
   "cell_type": "code",
   "execution_count": 24,
   "metadata": {
    "executionInfo": {
     "elapsed": 1035,
     "status": "ok",
     "timestamp": 1734071359881,
     "user": {
      "displayName": "Joshua Spear",
      "userId": "05726166776749736519"
     },
     "user_tz": 0
    },
    "id": "yG733oW4PKMV"
   },
   "outputs": [],
   "source": [
    "start_positions = []\n",
    "end_positions = []\n",
    "for i in range(_token_input[\"input_ids\"].shape[0]):\n",
    "  _seq_ids = _token_input.sequence_ids(i)\n",
    "  _ans_id = sample_map[i].item()\n",
    "  _lab = find_labels(\n",
    "      offset=offset_mapping[i,:],\n",
    "      answer_start=answer_start[_ans_id],\n",
    "      answer_end=answer_end[_ans_id],\n",
    "      sequence_ids=_seq_ids\n",
    "  )\n",
    "  start_positions.append(_lab[0])\n",
    "  end_positions.append(_lab[1])\n"
   ]
  },
  {
   "cell_type": "markdown",
   "metadata": {
    "id": "CS6TM11fUPy0"
   },
   "source": [
    "### Modelling"
   ]
  },
  {
   "cell_type": "code",
   "execution_count": 25,
   "metadata": {
    "executionInfo": {
     "elapsed": 360,
     "status": "ok",
     "timestamp": 1734071367606,
     "user": {
      "displayName": "Joshua Spear",
      "userId": "05726166776749736519"
     },
     "user_tz": 0
    },
    "id": "bym3PhCpUSxs"
   },
   "outputs": [],
   "source": [
    "max_length = 512\n",
    "stride = 128"
   ]
  },
  {
   "cell_type": "code",
   "execution_count": 26,
   "metadata": {
    "colab": {
     "base_uri": "https://localhost:8080/"
    },
    "executionInfo": {
     "elapsed": 79313,
     "status": "ok",
     "timestamp": 1734071453363,
     "user": {
      "displayName": "Joshua Spear",
      "userId": "05726166776749736519"
     },
     "user_tz": 0
    },
    "id": "UXMUqpIuSSpj",
    "outputId": "1de4a732-4700-4a90-b49b-9fc7506b97cf"
   },
   "outputs": [
    {
     "name": "stderr",
     "output_type": "stream",
     "text": [
      "100%|██████████| 34688/34688 [00:14<00:00, 2330.79it/s]\n"
     ]
    }
   ],
   "source": [
    "questions = [q.strip() for q in train[\"question\"]]\n",
    "tokenised_dataset = tokenizer(\n",
    "    questions,\n",
    "    train[\"context\"],\n",
    "    max_length=max_length,\n",
    "    truncation=\"only_second\",\n",
    "    return_offsets_mapping=True,\n",
    "    padding=\"max_length\",\n",
    "    stride=stride,\n",
    "    return_overflowing_tokens=True,\n",
    "    return_tensors=\"pt\",\n",
    "    add_special_tokens = True\n",
    "    )\n",
    "tokenized_train = preprocess_function(\n",
    "    tokenised_dataset=tokenised_dataset,\n",
    "    answer_start=train[\"answer_start\"],\n",
    "    answer_end=train[\"answer_end\"]\n",
    "    )\n",
    "tokenized_train = Dataset.from_dict(tokenized_train)"
   ]
  },
  {
   "cell_type": "code",
   "execution_count": 27,
   "metadata": {
    "colab": {
     "base_uri": "https://localhost:8080/"
    },
    "executionInfo": {
     "elapsed": 10526,
     "status": "ok",
     "timestamp": 1734071463885,
     "user": {
      "displayName": "Joshua Spear",
      "userId": "05726166776749736519"
     },
     "user_tz": 0
    },
    "id": "q4IxZ6S2St4H",
    "outputId": "3f639c67-0dd8-4c88-d92f-c12d8f2dfc25"
   },
   "outputs": [
    {
     "name": "stderr",
     "output_type": "stream",
     "text": [
      "100%|██████████| 4044/4044 [00:02<00:00, 1355.50it/s]\n"
     ]
    }
   ],
   "source": [
    "questions = [q.strip() for q in validation[\"question\"]]\n",
    "tokenised_dataset = tokenizer(\n",
    "    questions,\n",
    "    validation[\"context\"],\n",
    "    max_length=max_length,\n",
    "    truncation=\"only_second\",\n",
    "    return_offsets_mapping=True, # Tokens corrospond to multiple input characters\n",
    "    padding=\"max_length\",\n",
    "    stride=stride,\n",
    "    return_overflowing_tokens=True,\n",
    "    return_tensors=\"pt\",\n",
    "    add_special_tokens = True\n",
    "    )\n",
    "tokenized_val = preprocess_function(\n",
    "    tokenised_dataset=tokenised_dataset,\n",
    "    answer_start=validation[\"answer_start\"],\n",
    "    answer_end=validation[\"answer_end\"]\n",
    "    )\n",
    "tokenized_val = Dataset.from_dict(tokenized_val)"
   ]
  },
  {
   "cell_type": "code",
   "execution_count": 28,
   "metadata": {
    "executionInfo": {
     "elapsed": 6,
     "status": "ok",
     "timestamp": 1734071463885,
     "user": {
      "displayName": "Joshua Spear",
      "userId": "05726166776749736519"
     },
     "user_tz": 0
    },
    "id": "QtEbK6rPdsOQ"
   },
   "outputs": [],
   "source": [
    "from transformers import DefaultDataCollator\n",
    "data_collator = DefaultDataCollator()"
   ]
  },
  {
   "cell_type": "code",
   "execution_count": 29,
   "metadata": {
    "executionInfo": {
     "elapsed": 5,
     "status": "ok",
     "timestamp": 1734071463885,
     "user": {
      "displayName": "Joshua Spear",
      "userId": "05726166776749736519"
     },
     "user_tz": 0
    },
    "id": "VQCE7EzCJxBj"
   },
   "outputs": [],
   "source": [
    "model_name = model_checkpoint.split(\"/\")[-1]"
   ]
  },
  {
   "cell_type": "code",
   "execution_count": 30,
   "metadata": {
    "executionInfo": {
     "elapsed": 5,
     "status": "ok",
     "timestamp": 1734071463885,
     "user": {
      "displayName": "Joshua Spear",
      "userId": "05726166776749736519"
     },
     "user_tz": 0
    },
    "id": "5LZYqky0wF0X"
   },
   "outputs": [],
   "source": [
    "batch_size = 32\n",
    "grad_accum = 32\n",
    "\n",
    "args = TrainingArguments(\n",
    "    f\"{model_name}-finetuned-health-qa\",\n",
    "    remove_unused_columns=False,\n",
    "    eval_strategy=\"epoch\", # How often to evaluate the model on the validation set i.e., after every epoch\n",
    "    save_strategy=\"epoch\", # How often to save model checkpoints i.e., after every epoch\n",
    "    learning_rate=1e-3,\n",
    "    per_device_train_batch_size=batch_size, # Effective batch size (equals the actual batch size when using a single GPU)\n",
    "    gradient_accumulation_steps=min([batch_size, grad_accum]), #How many forward passes to perform before performing backprop and caching gradients\n",
    "    per_device_eval_batch_size=batch_size, # Effective batch size (equals the actual batch size when using a single GPU)\n",
    "    fp16=True, # Train with floating point 16, reducing the memory requirements\n",
    "    num_train_epochs=15,\n",
    "    logging_steps=10,\n",
    "    #load_best_model_at_end=True,\n",
    "    #metric_for_best_model=\"accuracy\",\n",
    "    push_to_hub=True,\n",
    "    report_to=\"wandb\",\n",
    "    label_names = [\"start_positions\",\"end_positions\"]\n",
    ")"
   ]
  },
  {
   "cell_type": "code",
   "execution_count": 31,
   "metadata": {
    "executionInfo": {
     "elapsed": 357,
     "status": "ok",
     "timestamp": 1734071467489,
     "user": {
      "displayName": "Joshua Spear",
      "userId": "05726166776749736519"
     },
     "user_tz": 0
    },
    "id": "UWkpBxcrAIpK"
   },
   "outputs": [],
   "source": [
    "trainer = Trainer(\n",
    "    lora_model,\n",
    "    args,\n",
    "    train_dataset=tokenized_train,\n",
    "    eval_dataset=tokenized_val,\n",
    "    data_collator=data_collator\n",
    ")"
   ]
  },
  {
   "cell_type": "code",
   "execution_count": 32,
   "metadata": {
    "colab": {
     "base_uri": "https://localhost:8080/",
     "height": 1000,
     "referenced_widgets": [
      "0ed0549e1161403cb7778dbdab7da42a",
      "492d8d7fb4e047ddbac4b70cddb8c877",
      "3c99a321c9c54fac99d4b1e2424f0509",
      "ef470c00c78f43c492b4dd4ae7e61e01",
      "f0009c57d8af4150ad9b055b0b0f9d4c",
      "27bcc89697c34f7dbdaa4044b119d089",
      "50869f0cb5e740929219860d788e4081",
      "b644a47d109a4818ab0ce16042c94ad1"
     ]
    },
    "executionInfo": {
     "elapsed": 2248093,
     "status": "ok",
     "timestamp": 1734073718155,
     "user": {
      "displayName": "Joshua Spear",
      "userId": "05726166776749736519"
     },
     "user_tz": 0
    },
    "id": "_N408q8K45OO",
    "outputId": "7001e52f-51c8-43fe-d50a-34970aa1fb9c"
   },
   "outputs": [
    {
     "name": "stderr",
     "output_type": "stream",
     "text": [
      "\u001b[34m\u001b[1mwandb\u001b[0m: \u001b[33mWARNING\u001b[0m The `run_name` is currently set to the same value as `TrainingArguments.output_dir`. If this was not intended, please specify a different run name by setting the `TrainingArguments.run_name` parameter.\n",
      "\u001b[34m\u001b[1mwandb\u001b[0m: Using wandb-core as the SDK backend.  Please refer to https://wandb.me/wandb-core for more information.\n"
     ]
    },
    {
     "data": {
      "application/javascript": "\n        window._wandbApiKey = new Promise((resolve, reject) => {\n            function loadScript(url) {\n            return new Promise(function(resolve, reject) {\n                let newScript = document.createElement(\"script\");\n                newScript.onerror = reject;\n                newScript.onload = resolve;\n                document.body.appendChild(newScript);\n                newScript.src = url;\n            });\n            }\n            loadScript(\"https://cdn.jsdelivr.net/npm/postmate/build/postmate.min.js\").then(() => {\n            const iframe = document.createElement('iframe')\n            iframe.style.cssText = \"width:0;height:0;border:none\"\n            document.body.appendChild(iframe)\n            const handshake = new Postmate({\n                container: iframe,\n                url: 'https://wandb.ai/authorize'\n            });\n            const timeout = setTimeout(() => reject(\"Couldn't auto authenticate\"), 5000)\n            handshake.then(function(child) {\n                child.on('authorize', data => {\n                    clearTimeout(timeout)\n                    resolve(data)\n                });\n            });\n            })\n        });\n    ",
      "text/plain": [
       "<IPython.core.display.Javascript object>"
      ]
     },
     "metadata": {},
     "output_type": "display_data"
    },
    {
     "name": "stderr",
     "output_type": "stream",
     "text": [
      "\u001b[34m\u001b[1mwandb\u001b[0m: Appending key for api.wandb.ai to your netrc file: /root/.netrc\n"
     ]
    },
    {
     "data": {
      "text/html": [
       "Tracking run with wandb version 0.18.7"
      ],
      "text/plain": [
       "<IPython.core.display.HTML object>"
      ]
     },
     "metadata": {},
     "output_type": "display_data"
    },
    {
     "data": {
      "text/html": [
       "Run data is saved locally in <code>/content/wandb/run-20241213_063115-4kj1jsfu</code>"
      ],
      "text/plain": [
       "<IPython.core.display.HTML object>"
      ]
     },
     "metadata": {},
     "output_type": "display_data"
    },
    {
     "data": {
      "text/html": [
       "Syncing run <strong><a href='https://wandb.ai/jsphd/week10_tutorial_llm_BERT/runs/4kj1jsfu' target=\"_blank\">bert-base-cased-finetuned-health-qa</a></strong> to <a href='https://wandb.ai/jsphd/week10_tutorial_llm_BERT' target=\"_blank\">Weights & Biases</a> (<a href='https://wandb.me/developer-guide' target=\"_blank\">docs</a>)<br/>"
      ],
      "text/plain": [
       "<IPython.core.display.HTML object>"
      ]
     },
     "metadata": {},
     "output_type": "display_data"
    },
    {
     "data": {
      "text/html": [
       " View project at <a href='https://wandb.ai/jsphd/week10_tutorial_llm_BERT' target=\"_blank\">https://wandb.ai/jsphd/week10_tutorial_llm_BERT</a>"
      ],
      "text/plain": [
       "<IPython.core.display.HTML object>"
      ]
     },
     "metadata": {},
     "output_type": "display_data"
    },
    {
     "data": {
      "text/html": [
       " View run at <a href='https://wandb.ai/jsphd/week10_tutorial_llm_BERT/runs/4kj1jsfu' target=\"_blank\">https://wandb.ai/jsphd/week10_tutorial_llm_BERT/runs/4kj1jsfu</a>"
      ],
      "text/plain": [
       "<IPython.core.display.HTML object>"
      ]
     },
     "metadata": {},
     "output_type": "display_data"
    },
    {
     "data": {
      "text/html": [
       "\n",
       "    <div>\n",
       "      \n",
       "      <progress value='495' max='495' style='width:300px; height:20px; vertical-align: middle;'></progress>\n",
       "      [495/495 37:08, Epoch 14/15]\n",
       "    </div>\n",
       "    <table border=\"1\" class=\"dataframe\">\n",
       "  <thead>\n",
       " <tr style=\"text-align: left;\">\n",
       "      <th>Epoch</th>\n",
       "      <th>Training Loss</th>\n",
       "      <th>Validation Loss</th>\n",
       "    </tr>\n",
       "  </thead>\n",
       "  <tbody>\n",
       "    <tr>\n",
       "      <td>1</td>\n",
       "      <td>0.657700</td>\n",
       "      <td>0.625178</td>\n",
       "    </tr>\n",
       "    <tr>\n",
       "      <td>2</td>\n",
       "      <td>0.621400</td>\n",
       "      <td>0.587709</td>\n",
       "    </tr>\n",
       "    <tr>\n",
       "      <td>3</td>\n",
       "      <td>0.568300</td>\n",
       "      <td>0.569229</td>\n",
       "    </tr>\n",
       "    <tr>\n",
       "      <td>4</td>\n",
       "      <td>0.461500</td>\n",
       "      <td>0.457902</td>\n",
       "    </tr>\n",
       "    <tr>\n",
       "      <td>5</td>\n",
       "      <td>0.413100</td>\n",
       "      <td>0.407633</td>\n",
       "    </tr>\n",
       "    <tr>\n",
       "      <td>6</td>\n",
       "      <td>0.381100</td>\n",
       "      <td>0.378930</td>\n",
       "    </tr>\n",
       "    <tr>\n",
       "      <td>7</td>\n",
       "      <td>0.344100</td>\n",
       "      <td>0.365492</td>\n",
       "    </tr>\n",
       "    <tr>\n",
       "      <td>8</td>\n",
       "      <td>0.304200</td>\n",
       "      <td>0.378612</td>\n",
       "    </tr>\n",
       "    <tr>\n",
       "      <td>9</td>\n",
       "      <td>0.296000</td>\n",
       "      <td>0.348103</td>\n",
       "    </tr>\n",
       "    <tr>\n",
       "      <td>10</td>\n",
       "      <td>0.276400</td>\n",
       "      <td>0.365460</td>\n",
       "    </tr>\n",
       "    <tr>\n",
       "      <td>11</td>\n",
       "      <td>0.276400</td>\n",
       "      <td>0.357326</td>\n",
       "    </tr>\n",
       "    <tr>\n",
       "      <td>12</td>\n",
       "      <td>0.253600</td>\n",
       "      <td>0.363794</td>\n",
       "    </tr>\n",
       "    <tr>\n",
       "      <td>13</td>\n",
       "      <td>0.225300</td>\n",
       "      <td>0.368673</td>\n",
       "    </tr>\n",
       "    <tr>\n",
       "      <td>14</td>\n",
       "      <td>0.227300</td>\n",
       "      <td>0.373890</td>\n",
       "    </tr>\n",
       "  </tbody>\n",
       "</table><p>"
      ],
      "text/plain": [
       "<IPython.core.display.HTML object>"
      ]
     },
     "metadata": {},
     "output_type": "display_data"
    },
    {
     "name": "stderr",
     "output_type": "stream",
     "text": [
      "\u001b[34m\u001b[1mwandb\u001b[0m: Adding directory to artifact (./bert-base-cased-finetuned-health-qa/checkpoint-34)... Done. 0.1s\n",
      "\u001b[34m\u001b[1mwandb\u001b[0m: Adding directory to artifact (./bert-base-cased-finetuned-health-qa/checkpoint-68)... Done. 0.1s\n",
      "\u001b[34m\u001b[1mwandb\u001b[0m: Adding directory to artifact (./bert-base-cased-finetuned-health-qa/checkpoint-102)... Done. 0.1s\n",
      "\u001b[34m\u001b[1mwandb\u001b[0m: Adding directory to artifact (./bert-base-cased-finetuned-health-qa/checkpoint-136)... Done. 0.2s\n",
      "\u001b[34m\u001b[1mwandb\u001b[0m: Adding directory to artifact (./bert-base-cased-finetuned-health-qa/checkpoint-170)... Done. 0.2s\n",
      "\u001b[34m\u001b[1mwandb\u001b[0m: Adding directory to artifact (./bert-base-cased-finetuned-health-qa/checkpoint-204)... Done. 0.1s\n",
      "\u001b[34m\u001b[1mwandb\u001b[0m: Adding directory to artifact (./bert-base-cased-finetuned-health-qa/checkpoint-238)... Done. 0.1s\n",
      "\u001b[34m\u001b[1mwandb\u001b[0m: Adding directory to artifact (./bert-base-cased-finetuned-health-qa/checkpoint-272)... Done. 0.1s\n",
      "\u001b[34m\u001b[1mwandb\u001b[0m: Adding directory to artifact (./bert-base-cased-finetuned-health-qa/checkpoint-306)... Done. 0.2s\n",
      "\u001b[34m\u001b[1mwandb\u001b[0m: Adding directory to artifact (./bert-base-cased-finetuned-health-qa/checkpoint-340)... Done. 0.1s\n",
      "\u001b[34m\u001b[1mwandb\u001b[0m: Adding directory to artifact (./bert-base-cased-finetuned-health-qa/checkpoint-374)... Done. 0.1s\n",
      "\u001b[34m\u001b[1mwandb\u001b[0m: Adding directory to artifact (./bert-base-cased-finetuned-health-qa/checkpoint-408)... Done. 0.1s\n",
      "\u001b[34m\u001b[1mwandb\u001b[0m: Adding directory to artifact (./bert-base-cased-finetuned-health-qa/checkpoint-442)... Done. 0.1s\n",
      "\u001b[34m\u001b[1mwandb\u001b[0m: Adding directory to artifact (./bert-base-cased-finetuned-health-qa/checkpoint-476)... Done. 0.1s\n",
      "\u001b[34m\u001b[1mwandb\u001b[0m: Adding directory to artifact (./bert-base-cased-finetuned-health-qa/checkpoint-495)... Done. 0.1s\n",
      "\u001b[34m\u001b[1mwandb\u001b[0m: Adding directory to artifact (./bert-base-cased-finetuned-health-qa/checkpoint-495)... Done. 0.1s\n",
      "No files have been modified since last commit. Skipping to prevent empty commit.\n",
      "WARNING:huggingface_hub.hf_api:No files have been modified since last commit. Skipping to prevent empty commit.\n"
     ]
    },
    {
     "data": {
      "application/vnd.jupyter.widget-view+json": {
       "model_id": "0ed0549e1161403cb7778dbdab7da42a",
       "version_major": 2,
       "version_minor": 0
      },
      "text/plain": [
       "VBox(children=(Label(value='811.091 MB of 811.091 MB uploaded\\r'), FloatProgress(value=1.0, max=1.0)))"
      ]
     },
     "metadata": {},
     "output_type": "display_data"
    },
    {
     "data": {
      "text/html": [
       "\n",
       "    <style>\n",
       "        .wandb-row {\n",
       "            display: flex;\n",
       "            flex-direction: row;\n",
       "            flex-wrap: wrap;\n",
       "            justify-content: flex-start;\n",
       "            width: 100%;\n",
       "        }\n",
       "        .wandb-col {\n",
       "            display: flex;\n",
       "            flex-direction: column;\n",
       "            flex-basis: 100%;\n",
       "            flex: 1;\n",
       "            padding: 10px;\n",
       "        }\n",
       "    </style>\n",
       "<div class=\"wandb-row\"><div class=\"wandb-col\"><h3>Run history:</h3><br/><table class=\"wandb\"><tr><td>eval/loss</td><td>█▇▇▄▃▂▁▂▁▁▁▁▂▂▂</td></tr><tr><td>eval/runtime</td><td>▄▂▅▁▂▂▂▁▄▃▁▂▂▆█</td></tr><tr><td>eval/samples_per_second</td><td>▅▇▄█▇▇▇█▅▆█▇▇▃▁</td></tr><tr><td>eval/steps_per_second</td><td>▅▇▄█▇▇▇█▅▆█▇▇▃▁</td></tr><tr><td>train/epoch</td><td>▁▁▁▁▂▂▂▂▂▃▃▃▃▃▃▄▄▄▄▅▅▅▅▅▅▆▆▆▆▆▆▇▇▇▇▇▇███</td></tr><tr><td>train/global_step</td><td>▁▁▁▂▂▂▂▃▃▃▃▃▃▃▃▄▄▄▄▄▅▅▅▅▅▅▆▆▆▆▆▇▇▇▇▇████</td></tr><tr><td>train/grad_norm</td><td>█▁ ▂▁▃▃▂▂▂▃▂▂▃▃▂▃▂▂▂▃▂▄▂▃▂▂▂▃▂▃▂▂▂▂▂▂▂▂▂</td></tr><tr><td>train/learning_rate</td><td>████▇▇▇▇▇▇▆▆▆▆▆▅▅▅▅▅▅▄▄▄▄▃▃▃▃▃▃▂▂▂▂▂▂▁▁▁</td></tr><tr><td>train/loss</td><td>█▂▂▂▂▂▂▂▂▂▂▂▁▁▁▁▁▁▁▁▁▁▁▁▁▁▁▁▁▁▁▁▁▁▁▁▁▁▁▁</td></tr></table><br/></div><div class=\"wandb-col\"><h3>Run summary:</h3><br/><table class=\"wandb\"><tr><td>eval/loss</td><td>0.37389</td></tr><tr><td>eval/runtime</td><td>8.5404</td></tr><tr><td>eval/samples_per_second</td><td>473.513</td></tr><tr><td>eval/steps_per_second</td><td>14.87</td></tr><tr><td>total_flos</td><td>1.3929936675667968e+17</td></tr><tr><td>train/epoch</td><td>14.56089</td></tr><tr><td>train/global_step</td><td>495</td></tr><tr><td>train/grad_norm</td><td>7.2092</td></tr><tr><td>train/learning_rate</td><td>1e-05</td></tr><tr><td>train/loss</td><td>0.2273</td></tr><tr><td>train_loss</td><td>0.43705</td></tr><tr><td>train_runtime</td><td>2239.6081</td></tr><tr><td>train_samples_per_second</td><td>232.326</td></tr><tr><td>train_steps_per_second</td><td>0.221</td></tr></table><br/></div></div>"
      ],
      "text/plain": [
       "<IPython.core.display.HTML object>"
      ]
     },
     "metadata": {},
     "output_type": "display_data"
    },
    {
     "data": {
      "text/html": [
       " View run <strong style=\"color:#cdcd00\">bert-base-cased-finetuned-health-qa</strong> at: <a href='https://wandb.ai/jsphd/week10_tutorial_llm_BERT/runs/4kj1jsfu' target=\"_blank\">https://wandb.ai/jsphd/week10_tutorial_llm_BERT/runs/4kj1jsfu</a><br/> View project at: <a href='https://wandb.ai/jsphd/week10_tutorial_llm_BERT' target=\"_blank\">https://wandb.ai/jsphd/week10_tutorial_llm_BERT</a><br/>Synced 5 W&B file(s), 0 media file(s), 100 artifact file(s) and 0 other file(s)"
      ],
      "text/plain": [
       "<IPython.core.display.HTML object>"
      ]
     },
     "metadata": {},
     "output_type": "display_data"
    },
    {
     "data": {
      "text/html": [
       "Find logs at: <code>./wandb/run-20241213_063115-4kj1jsfu/logs</code>"
      ],
      "text/plain": [
       "<IPython.core.display.HTML object>"
      ]
     },
     "metadata": {},
     "output_type": "display_data"
    }
   ],
   "source": [
    "train_results = trainer.train()\n",
    "wandb.finish()"
   ]
  },
  {
   "cell_type": "code",
   "execution_count": 33,
   "metadata": {
    "executionInfo": {
     "elapsed": 3,
     "status": "ok",
     "timestamp": 1734073718155,
     "user": {
      "displayName": "Joshua Spear",
      "userId": "05726166776749736519"
     },
     "user_tz": 0
    },
    "id": "hnjHzhClNwmz"
   },
   "outputs": [],
   "source": [
    "repo_name = f\"joshuaspear/{model_name}-finetuned-health-qa\""
   ]
  },
  {
   "cell_type": "code",
   "execution_count": 34,
   "metadata": {
    "colab": {
     "base_uri": "https://localhost:8080/",
     "height": 105,
     "referenced_widgets": [
      "cfd0c5fb55014535a1e556f191d6a164",
      "7bbcafc9ec31409e857f76f1def750cc",
      "d6a9084952f1470d8302d687c3cee818",
      "7723fad412a34d209657d6e01cf9624f",
      "bd1dd3916d37498fbd56523a3c9c1ee9",
      "23929b5167a54da2824592e3d0b329ba",
      "feade4b91d7d4ed99d174900c121548c",
      "23d7451d957c4a2abb3d855b306039b7",
      "19cb6e2654114a98b76645fc04b6bcea",
      "68f1323a37f0402f96ce4fbb3d9e66be",
      "463065855bd849f68e5eedf50c2e258c"
     ]
    },
    "executionInfo": {
     "elapsed": 2102,
     "status": "ok",
     "timestamp": 1734073729616,
     "user": {
      "displayName": "Joshua Spear",
      "userId": "05726166776749736519"
     },
     "user_tz": 0
    },
    "id": "3nRw_l1z79bS",
    "outputId": "9af9e445-b26f-49fa-ad43-36a1ec7aa524"
   },
   "outputs": [
    {
     "data": {
      "application/vnd.jupyter.widget-view+json": {
       "model_id": "cfd0c5fb55014535a1e556f191d6a164",
       "version_major": 2,
       "version_minor": 0
      },
      "text/plain": [
       "adapter_config.json:   0%|          | 0.00/797 [00:00<?, ?B/s]"
      ]
     },
     "metadata": {},
     "output_type": "display_data"
    },
    {
     "name": "stderr",
     "output_type": "stream",
     "text": [
      "Some weights of BertForQuestionAnswering were not initialized from the model checkpoint at bert-base-cased and are newly initialized: ['qa_outputs.bias', 'qa_outputs.weight']\n",
      "You should probably TRAIN this model on a down-stream task to be able to use it for predictions and inference.\n"
     ]
    }
   ],
   "source": [
    "from peft import PeftConfig, PeftModel\n",
    "\n",
    "\n",
    "config = PeftConfig.from_pretrained(repo_name)\n",
    "model = AutoModelForQuestionAnswering.from_pretrained(\n",
    "    config.base_model_name_or_path,\n",
    "    ignore_mismatched_sizes=True,  # provide this in case you're planning to fine-tune an already fine-tuned checkpoint\n",
    ")\n"
   ]
  },
  {
   "cell_type": "code",
   "execution_count": 35,
   "metadata": {
    "colab": {
     "base_uri": "https://localhost:8080/"
    },
    "executionInfo": {
     "elapsed": 103336,
     "status": "ok",
     "timestamp": 1734073870425,
     "user": {
      "displayName": "Joshua Spear",
      "userId": "05726166776749736519"
     },
     "user_tz": 0
    },
    "id": "YkGqiWVw0kUc",
    "outputId": "bc002069-90ab-43a7-ead9-57dc8b32c6f9"
   },
   "outputs": [
    {
     "name": "stderr",
     "output_type": "stream",
     "text": [
      "/usr/local/lib/python3.10/dist-packages/transformers/pipelines/question_answering.py:391: FutureWarning: Passing a list of SQuAD examples to the pipeline is deprecated and will be removed in v5. Inputs should be passed using the `question` and `context` keyword arguments instead.\n",
      "  warnings.warn(\n",
      "100%|██████████| 182/182 [01:42<00:00,  1.77it/s]"
     ]
    },
    {
     "name": "stdout",
     "output_type": "stream",
     "text": [
      "4.945054945054945\n",
      "21.68068094170204\n",
      "17.826946535999653\n",
      "28.83600504614835\n"
     ]
    },
    {
     "name": "stderr",
     "output_type": "stream",
     "text": [
      "\n"
     ]
    }
   ],
   "source": [
    "ASSESS_PIPELINE = True\n",
    "if ASSESS_PIPELINE:\n",
    "    val_exact = []\n",
    "    val_f1 = []\n",
    "    for i_v,p_v in tqdm(\n",
    "        zip(\n",
    "            iter(validation),\n",
    "            question_answerer(iter(validation.select_columns([\"question\", \"context\"])))\n",
    "            ),\n",
    "        total=validation.shape[0]\n",
    "        ):\n",
    "        _out = pipeline_to_squad(pred=p_v, true=i_v)\n",
    "        val_exact.append(_out[\"exact_match\"])\n",
    "        val_f1.append(_out[\"f1\"])\n",
    "\n",
    "    print(np.mean(val_exact))\n",
    "    print(np.std(val_exact))\n",
    "    print(np.mean(val_f1))\n",
    "    print(np.std(val_f1))"
   ]
  }
 ],
 "metadata": {
  "accelerator": "GPU",
  "colab": {
   "authorship_tag": "ABX9TyPL0RkfjDbRNDHI5AxhIFtf",
   "gpuType": "A100",
   "machine_shape": "hm",
   "provenance": []
  },
  "kernelspec": {
   "display_name": "Python 3",
   "name": "python3"
  },
  "language_info": {
   "name": "python"
  },
  "widgets": {
   "application/vnd.jupyter.widget-state+json": {
    "01153b3f11584263b6a28bca7269f562": {
     "model_module": "@jupyter-widgets/controls",
     "model_module_version": "1.5.0",
     "model_name": "ButtonModel",
     "state": {
      "_dom_classes": [],
      "_model_module": "@jupyter-widgets/controls",
      "_model_module_version": "1.5.0",
      "_model_name": "ButtonModel",
      "_view_count": null,
      "_view_module": "@jupyter-widgets/controls",
      "_view_module_version": "1.5.0",
      "_view_name": "ButtonView",
      "button_style": "",
      "description": "Login",
      "disabled": false,
      "icon": "",
      "layout": "IPY_MODEL_8b4dec01bbfb4444ab7315bfdbd05af3",
      "style": "IPY_MODEL_8b92afa4eae94f87ace55f99b3ca42b3",
      "tooltip": ""
     }
    },
    "05e28bc046b645e1a55221da18d91d52": {
     "model_module": "@jupyter-widgets/base",
     "model_module_version": "1.2.0",
     "model_name": "LayoutModel",
     "state": {
      "_model_module": "@jupyter-widgets/base",
      "_model_module_version": "1.2.0",
      "_model_name": "LayoutModel",
      "_view_count": null,
      "_view_module": "@jupyter-widgets/base",
      "_view_module_version": "1.2.0",
      "_view_name": "LayoutView",
      "align_content": null,
      "align_items": null,
      "align_self": null,
      "border": null,
      "bottom": null,
      "display": null,
      "flex": null,
      "flex_flow": null,
      "grid_area": null,
      "grid_auto_columns": null,
      "grid_auto_flow": null,
      "grid_auto_rows": null,
      "grid_column": null,
      "grid_gap": null,
      "grid_row": null,
      "grid_template_areas": null,
      "grid_template_columns": null,
      "grid_template_rows": null,
      "height": null,
      "justify_content": null,
      "justify_items": null,
      "left": null,
      "margin": null,
      "max_height": null,
      "max_width": null,
      "min_height": null,
      "min_width": null,
      "object_fit": null,
      "object_position": null,
      "order": null,
      "overflow": null,
      "overflow_x": null,
      "overflow_y": null,
      "padding": null,
      "right": null,
      "top": null,
      "visibility": null,
      "width": null
     }
    },
    "0894fc19ccb44ea68c0f67b548c7d298": {
     "model_module": "@jupyter-widgets/controls",
     "model_module_version": "1.5.0",
     "model_name": "VBoxModel",
     "state": {
      "_dom_classes": [],
      "_model_module": "@jupyter-widgets/controls",
      "_model_module_version": "1.5.0",
      "_model_name": "VBoxModel",
      "_view_count": null,
      "_view_module": "@jupyter-widgets/controls",
      "_view_module_version": "1.5.0",
      "_view_name": "VBoxView",
      "box_style": "",
      "children": [],
      "layout": "IPY_MODEL_66b6bdcbf9f74a118db75bc8f42889b6"
     }
    },
    "0ed0549e1161403cb7778dbdab7da42a": {
     "model_module": "@jupyter-widgets/controls",
     "model_module_version": "1.5.0",
     "model_name": "VBoxModel",
     "state": {
      "_dom_classes": [],
      "_model_module": "@jupyter-widgets/controls",
      "_model_module_version": "1.5.0",
      "_model_name": "VBoxModel",
      "_view_count": null,
      "_view_module": "@jupyter-widgets/controls",
      "_view_module_version": "1.5.0",
      "_view_name": "VBoxView",
      "box_style": "",
      "children": [
       "IPY_MODEL_492d8d7fb4e047ddbac4b70cddb8c877",
       "IPY_MODEL_3c99a321c9c54fac99d4b1e2424f0509"
      ],
      "layout": "IPY_MODEL_ef470c00c78f43c492b4dd4ae7e61e01"
     }
    },
    "10c921b8e1c2427b94054746cdcca2cc": {
     "model_module": "@jupyter-widgets/controls",
     "model_module_version": "1.5.0",
     "model_name": "FloatProgressModel",
     "state": {
      "_dom_classes": [],
      "_model_module": "@jupyter-widgets/controls",
      "_model_module_version": "1.5.0",
      "_model_name": "FloatProgressModel",
      "_view_count": null,
      "_view_module": "@jupyter-widgets/controls",
      "_view_module_version": "1.5.0",
      "_view_name": "ProgressView",
      "bar_style": "success",
      "description": "",
      "description_tooltip": null,
      "layout": "IPY_MODEL_548e64154a19418382c066679699abc1",
      "max": 49,
      "min": 0,
      "orientation": "horizontal",
      "style": "IPY_MODEL_b1f4b2feb75e4ca282459f918c0e2286",
      "value": 49
     }
    },
    "17a93a6d849544e58a2ea58ddb9d1a16": {
     "model_module": "@jupyter-widgets/controls",
     "model_module_version": "1.5.0",
     "model_name": "DescriptionStyleModel",
     "state": {
      "_model_module": "@jupyter-widgets/controls",
      "_model_module_version": "1.5.0",
      "_model_name": "DescriptionStyleModel",
      "_view_count": null,
      "_view_module": "@jupyter-widgets/base",
      "_view_module_version": "1.2.0",
      "_view_name": "StyleView",
      "description_width": ""
     }
    },
    "19cb6e2654114a98b76645fc04b6bcea": {
     "model_module": "@jupyter-widgets/controls",
     "model_module_version": "1.5.0",
     "model_name": "ProgressStyleModel",
     "state": {
      "_model_module": "@jupyter-widgets/controls",
      "_model_module_version": "1.5.0",
      "_model_name": "ProgressStyleModel",
      "_view_count": null,
      "_view_module": "@jupyter-widgets/base",
      "_view_module_version": "1.2.0",
      "_view_name": "StyleView",
      "bar_color": null,
      "description_width": ""
     }
    },
    "1a6e6eb17892481ebe4ba015cfbc3f89": {
     "model_module": "@jupyter-widgets/base",
     "model_module_version": "1.2.0",
     "model_name": "LayoutModel",
     "state": {
      "_model_module": "@jupyter-widgets/base",
      "_model_module_version": "1.2.0",
      "_model_name": "LayoutModel",
      "_view_count": null,
      "_view_module": "@jupyter-widgets/base",
      "_view_module_version": "1.2.0",
      "_view_name": "LayoutView",
      "align_content": null,
      "align_items": null,
      "align_self": null,
      "border": null,
      "bottom": null,
      "display": null,
      "flex": null,
      "flex_flow": null,
      "grid_area": null,
      "grid_auto_columns": null,
      "grid_auto_flow": null,
      "grid_auto_rows": null,
      "grid_column": null,
      "grid_gap": null,
      "grid_row": null,
      "grid_template_areas": null,
      "grid_template_columns": null,
      "grid_template_rows": null,
      "height": null,
      "justify_content": null,
      "justify_items": null,
      "left": null,
      "margin": null,
      "max_height": null,
      "max_width": null,
      "min_height": null,
      "min_width": null,
      "object_fit": null,
      "object_position": null,
      "order": null,
      "overflow": null,
      "overflow_x": null,
      "overflow_y": null,
      "padding": null,
      "right": null,
      "top": null,
      "visibility": null,
      "width": null
     }
    },
    "23929b5167a54da2824592e3d0b329ba": {
     "model_module": "@jupyter-widgets/base",
     "model_module_version": "1.2.0",
     "model_name": "LayoutModel",
     "state": {
      "_model_module": "@jupyter-widgets/base",
      "_model_module_version": "1.2.0",
      "_model_name": "LayoutModel",
      "_view_count": null,
      "_view_module": "@jupyter-widgets/base",
      "_view_module_version": "1.2.0",
      "_view_name": "LayoutView",
      "align_content": null,
      "align_items": null,
      "align_self": null,
      "border": null,
      "bottom": null,
      "display": null,
      "flex": null,
      "flex_flow": null,
      "grid_area": null,
      "grid_auto_columns": null,
      "grid_auto_flow": null,
      "grid_auto_rows": null,
      "grid_column": null,
      "grid_gap": null,
      "grid_row": null,
      "grid_template_areas": null,
      "grid_template_columns": null,
      "grid_template_rows": null,
      "height": null,
      "justify_content": null,
      "justify_items": null,
      "left": null,
      "margin": null,
      "max_height": null,
      "max_width": null,
      "min_height": null,
      "min_width": null,
      "object_fit": null,
      "object_position": null,
      "order": null,
      "overflow": null,
      "overflow_x": null,
      "overflow_y": null,
      "padding": null,
      "right": null,
      "top": null,
      "visibility": null,
      "width": null
     }
    },
    "23d7451d957c4a2abb3d855b306039b7": {
     "model_module": "@jupyter-widgets/base",
     "model_module_version": "1.2.0",
     "model_name": "LayoutModel",
     "state": {
      "_model_module": "@jupyter-widgets/base",
      "_model_module_version": "1.2.0",
      "_model_name": "LayoutModel",
      "_view_count": null,
      "_view_module": "@jupyter-widgets/base",
      "_view_module_version": "1.2.0",
      "_view_name": "LayoutView",
      "align_content": null,
      "align_items": null,
      "align_self": null,
      "border": null,
      "bottom": null,
      "display": null,
      "flex": null,
      "flex_flow": null,
      "grid_area": null,
      "grid_auto_columns": null,
      "grid_auto_flow": null,
      "grid_auto_rows": null,
      "grid_column": null,
      "grid_gap": null,
      "grid_row": null,
      "grid_template_areas": null,
      "grid_template_columns": null,
      "grid_template_rows": null,
      "height": null,
      "justify_content": null,
      "justify_items": null,
      "left": null,
      "margin": null,
      "max_height": null,
      "max_width": null,
      "min_height": null,
      "min_width": null,
      "object_fit": null,
      "object_position": null,
      "order": null,
      "overflow": null,
      "overflow_x": null,
      "overflow_y": null,
      "padding": null,
      "right": null,
      "top": null,
      "visibility": null,
      "width": null
     }
    },
    "27bcc89697c34f7dbdaa4044b119d089": {
     "model_module": "@jupyter-widgets/controls",
     "model_module_version": "1.5.0",
     "model_name": "DescriptionStyleModel",
     "state": {
      "_model_module": "@jupyter-widgets/controls",
      "_model_module_version": "1.5.0",
      "_model_name": "DescriptionStyleModel",
      "_view_count": null,
      "_view_module": "@jupyter-widgets/base",
      "_view_module_version": "1.2.0",
      "_view_name": "StyleView",
      "description_width": ""
     }
    },
    "2c69bf9171c94f36a18e87b56ff1caf0": {
     "model_module": "@jupyter-widgets/base",
     "model_module_version": "1.2.0",
     "model_name": "LayoutModel",
     "state": {
      "_model_module": "@jupyter-widgets/base",
      "_model_module_version": "1.2.0",
      "_model_name": "LayoutModel",
      "_view_count": null,
      "_view_module": "@jupyter-widgets/base",
      "_view_module_version": "1.2.0",
      "_view_name": "LayoutView",
      "align_content": null,
      "align_items": null,
      "align_self": null,
      "border": null,
      "bottom": null,
      "display": null,
      "flex": null,
      "flex_flow": null,
      "grid_area": null,
      "grid_auto_columns": null,
      "grid_auto_flow": null,
      "grid_auto_rows": null,
      "grid_column": null,
      "grid_gap": null,
      "grid_row": null,
      "grid_template_areas": null,
      "grid_template_columns": null,
      "grid_template_rows": null,
      "height": null,
      "justify_content": null,
      "justify_items": null,
      "left": null,
      "margin": null,
      "max_height": null,
      "max_width": null,
      "min_height": null,
      "min_width": null,
      "object_fit": null,
      "object_position": null,
      "order": null,
      "overflow": null,
      "overflow_x": null,
      "overflow_y": null,
      "padding": null,
      "right": null,
      "top": null,
      "visibility": null,
      "width": null
     }
    },
    "2c97aa6ee0264906a9eeafa2c5ce5d53": {
     "model_module": "@jupyter-widgets/controls",
     "model_module_version": "1.5.0",
     "model_name": "HTMLModel",
     "state": {
      "_dom_classes": [],
      "_model_module": "@jupyter-widgets/controls",
      "_model_module_version": "1.5.0",
      "_model_name": "HTMLModel",
      "_view_count": null,
      "_view_module": "@jupyter-widgets/controls",
      "_view_module_version": "1.5.0",
      "_view_name": "HTMLView",
      "description": "",
      "description_tooltip": null,
      "layout": "IPY_MODEL_69ebbcdbba5d47299b98a1322a665a8d",
      "placeholder": "​",
      "style": "IPY_MODEL_b7ca7a1f107044b5a37bcce72c0d8ddc",
      "value": "tokenizer.json: 100%"
     }
    },
    "3916119706d54ee884d54b65ac4bc3e6": {
     "model_module": "@jupyter-widgets/controls",
     "model_module_version": "1.5.0",
     "model_name": "FloatProgressModel",
     "state": {
      "_dom_classes": [],
      "_model_module": "@jupyter-widgets/controls",
      "_model_module_version": "1.5.0",
      "_model_name": "FloatProgressModel",
      "_view_count": null,
      "_view_module": "@jupyter-widgets/controls",
      "_view_module_version": "1.5.0",
      "_view_name": "ProgressView",
      "bar_style": "success",
      "description": "",
      "description_tooltip": null,
      "layout": "IPY_MODEL_631fbc5198a546b8b503902f4b80eeb9",
      "max": 435797,
      "min": 0,
      "orientation": "horizontal",
      "style": "IPY_MODEL_d5c2389f70674fed9c6ec3fda169743d",
      "value": 435797
     }
    },
    "3b60d044a79242bc9aac6fd693aed05b": {
     "model_module": "@jupyter-widgets/controls",
     "model_module_version": "1.5.0",
     "model_name": "DescriptionStyleModel",
     "state": {
      "_model_module": "@jupyter-widgets/controls",
      "_model_module_version": "1.5.0",
      "_model_name": "DescriptionStyleModel",
      "_view_count": null,
      "_view_module": "@jupyter-widgets/base",
      "_view_module_version": "1.2.0",
      "_view_name": "StyleView",
      "description_width": ""
     }
    },
    "3c99a321c9c54fac99d4b1e2424f0509": {
     "model_module": "@jupyter-widgets/controls",
     "model_module_version": "1.5.0",
     "model_name": "FloatProgressModel",
     "state": {
      "_dom_classes": [],
      "_model_module": "@jupyter-widgets/controls",
      "_model_module_version": "1.5.0",
      "_model_name": "FloatProgressModel",
      "_view_count": null,
      "_view_module": "@jupyter-widgets/controls",
      "_view_module_version": "1.5.0",
      "_view_name": "ProgressView",
      "bar_style": "",
      "description": "",
      "description_tooltip": null,
      "layout": "IPY_MODEL_50869f0cb5e740929219860d788e4081",
      "max": 1,
      "min": 0,
      "orientation": "horizontal",
      "style": "IPY_MODEL_b644a47d109a4818ab0ce16042c94ad1",
      "value": 1
     }
    },
    "40ff7110a3e14a19a36da7c56ac58db6": {
     "model_module": "@jupyter-widgets/controls",
     "model_module_version": "1.5.0",
     "model_name": "HTMLModel",
     "state": {
      "_dom_classes": [],
      "_model_module": "@jupyter-widgets/controls",
      "_model_module_version": "1.5.0",
      "_model_name": "HTMLModel",
      "_view_count": null,
      "_view_module": "@jupyter-widgets/controls",
      "_view_module_version": "1.5.0",
      "_view_name": "HTMLView",
      "description": "",
      "description_tooltip": null,
      "layout": "IPY_MODEL_4c478d8a265748fab729f6076775d53e",
      "placeholder": "​",
      "style": "IPY_MODEL_a6e75ef27a114e91828dddfa631b770b",
      "value": "\n<b>Pro Tip:</b> If you don't already have one, you can create a dedicated\n'notebooks' token with 'write' access, that you can then easily reuse for all\nnotebooks. </center>"
     }
    },
    "463065855bd849f68e5eedf50c2e258c": {
     "model_module": "@jupyter-widgets/controls",
     "model_module_version": "1.5.0",
     "model_name": "DescriptionStyleModel",
     "state": {
      "_model_module": "@jupyter-widgets/controls",
      "_model_module_version": "1.5.0",
      "_model_name": "DescriptionStyleModel",
      "_view_count": null,
      "_view_module": "@jupyter-widgets/base",
      "_view_module_version": "1.2.0",
      "_view_name": "StyleView",
      "description_width": ""
     }
    },
    "46b826e7ae9b4da1a62d2d938613f9cd": {
     "model_module": "@jupyter-widgets/base",
     "model_module_version": "1.2.0",
     "model_name": "LayoutModel",
     "state": {
      "_model_module": "@jupyter-widgets/base",
      "_model_module_version": "1.2.0",
      "_model_name": "LayoutModel",
      "_view_count": null,
      "_view_module": "@jupyter-widgets/base",
      "_view_module_version": "1.2.0",
      "_view_name": "LayoutView",
      "align_content": null,
      "align_items": null,
      "align_self": null,
      "border": null,
      "bottom": null,
      "display": null,
      "flex": null,
      "flex_flow": null,
      "grid_area": null,
      "grid_auto_columns": null,
      "grid_auto_flow": null,
      "grid_auto_rows": null,
      "grid_column": null,
      "grid_gap": null,
      "grid_row": null,
      "grid_template_areas": null,
      "grid_template_columns": null,
      "grid_template_rows": null,
      "height": null,
      "justify_content": null,
      "justify_items": null,
      "left": null,
      "margin": null,
      "max_height": null,
      "max_width": null,
      "min_height": null,
      "min_width": null,
      "object_fit": null,
      "object_position": null,
      "order": null,
      "overflow": null,
      "overflow_x": null,
      "overflow_y": null,
      "padding": null,
      "right": null,
      "top": null,
      "visibility": null,
      "width": null
     }
    },
    "492d8d7fb4e047ddbac4b70cddb8c877": {
     "model_module": "@jupyter-widgets/controls",
     "model_module_version": "1.5.0",
     "model_name": "LabelModel",
     "state": {
      "_dom_classes": [],
      "_model_module": "@jupyter-widgets/controls",
      "_model_module_version": "1.5.0",
      "_model_name": "LabelModel",
      "_view_count": null,
      "_view_module": "@jupyter-widgets/controls",
      "_view_module_version": "1.5.0",
      "_view_name": "LabelView",
      "description": "",
      "description_tooltip": null,
      "layout": "IPY_MODEL_f0009c57d8af4150ad9b055b0b0f9d4c",
      "placeholder": "​",
      "style": "IPY_MODEL_27bcc89697c34f7dbdaa4044b119d089",
      "value": "811.091 MB of 811.091 MB uploaded\r"
     }
    },
    "4c478d8a265748fab729f6076775d53e": {
     "model_module": "@jupyter-widgets/base",
     "model_module_version": "1.2.0",
     "model_name": "LayoutModel",
     "state": {
      "_model_module": "@jupyter-widgets/base",
      "_model_module_version": "1.2.0",
      "_model_name": "LayoutModel",
      "_view_count": null,
      "_view_module": "@jupyter-widgets/base",
      "_view_module_version": "1.2.0",
      "_view_name": "LayoutView",
      "align_content": null,
      "align_items": null,
      "align_self": null,
      "border": null,
      "bottom": null,
      "display": null,
      "flex": null,
      "flex_flow": null,
      "grid_area": null,
      "grid_auto_columns": null,
      "grid_auto_flow": null,
      "grid_auto_rows": null,
      "grid_column": null,
      "grid_gap": null,
      "grid_row": null,
      "grid_template_areas": null,
      "grid_template_columns": null,
      "grid_template_rows": null,
      "height": null,
      "justify_content": null,
      "justify_items": null,
      "left": null,
      "margin": null,
      "max_height": null,
      "max_width": null,
      "min_height": null,
      "min_width": null,
      "object_fit": null,
      "object_position": null,
      "order": null,
      "overflow": null,
      "overflow_x": null,
      "overflow_y": null,
      "padding": null,
      "right": null,
      "top": null,
      "visibility": null,
      "width": null
     }
    },
    "4eb265dec327412e9dd1d2e6e851b93e": {
     "model_module": "@jupyter-widgets/controls",
     "model_module_version": "1.5.0",
     "model_name": "HBoxModel",
     "state": {
      "_dom_classes": [],
      "_model_module": "@jupyter-widgets/controls",
      "_model_module_version": "1.5.0",
      "_model_name": "HBoxModel",
      "_view_count": null,
      "_view_module": "@jupyter-widgets/controls",
      "_view_module_version": "1.5.0",
      "_view_name": "HBoxView",
      "box_style": "",
      "children": [
       "IPY_MODEL_54701f1a6b5d49afafdd0039d3232b7d",
       "IPY_MODEL_10c921b8e1c2427b94054746cdcca2cc",
       "IPY_MODEL_f30d8749259042d9b29fdf4c694f0aff"
      ],
      "layout": "IPY_MODEL_fbbce57e4c944c9db7162ced6a2050b5"
     }
    },
    "50869f0cb5e740929219860d788e4081": {
     "model_module": "@jupyter-widgets/base",
     "model_module_version": "1.2.0",
     "model_name": "LayoutModel",
     "state": {
      "_model_module": "@jupyter-widgets/base",
      "_model_module_version": "1.2.0",
      "_model_name": "LayoutModel",
      "_view_count": null,
      "_view_module": "@jupyter-widgets/base",
      "_view_module_version": "1.2.0",
      "_view_name": "LayoutView",
      "align_content": null,
      "align_items": null,
      "align_self": null,
      "border": null,
      "bottom": null,
      "display": null,
      "flex": null,
      "flex_flow": null,
      "grid_area": null,
      "grid_auto_columns": null,
      "grid_auto_flow": null,
      "grid_auto_rows": null,
      "grid_column": null,
      "grid_gap": null,
      "grid_row": null,
      "grid_template_areas": null,
      "grid_template_columns": null,
      "grid_template_rows": null,
      "height": null,
      "justify_content": null,
      "justify_items": null,
      "left": null,
      "margin": null,
      "max_height": null,
      "max_width": null,
      "min_height": null,
      "min_width": null,
      "object_fit": null,
      "object_position": null,
      "order": null,
      "overflow": null,
      "overflow_x": null,
      "overflow_y": null,
      "padding": null,
      "right": null,
      "top": null,
      "visibility": null,
      "width": null
     }
    },
    "54701f1a6b5d49afafdd0039d3232b7d": {
     "model_module": "@jupyter-widgets/controls",
     "model_module_version": "1.5.0",
     "model_name": "HTMLModel",
     "state": {
      "_dom_classes": [],
      "_model_module": "@jupyter-widgets/controls",
      "_model_module_version": "1.5.0",
      "_model_name": "HTMLModel",
      "_view_count": null,
      "_view_module": "@jupyter-widgets/controls",
      "_view_module_version": "1.5.0",
      "_view_name": "HTMLView",
      "description": "",
      "description_tooltip": null,
      "layout": "IPY_MODEL_8cf4daafc63d4a4abd36e2d8f54414be",
      "placeholder": "​",
      "style": "IPY_MODEL_ad76fe30f61b4ed2995eccff6539ec5c",
      "value": "tokenizer_config.json: 100%"
     }
    },
    "548e64154a19418382c066679699abc1": {
     "model_module": "@jupyter-widgets/base",
     "model_module_version": "1.2.0",
     "model_name": "LayoutModel",
     "state": {
      "_model_module": "@jupyter-widgets/base",
      "_model_module_version": "1.2.0",
      "_model_name": "LayoutModel",
      "_view_count": null,
      "_view_module": "@jupyter-widgets/base",
      "_view_module_version": "1.2.0",
      "_view_name": "LayoutView",
      "align_content": null,
      "align_items": null,
      "align_self": null,
      "border": null,
      "bottom": null,
      "display": null,
      "flex": null,
      "flex_flow": null,
      "grid_area": null,
      "grid_auto_columns": null,
      "grid_auto_flow": null,
      "grid_auto_rows": null,
      "grid_column": null,
      "grid_gap": null,
      "grid_row": null,
      "grid_template_areas": null,
      "grid_template_columns": null,
      "grid_template_rows": null,
      "height": null,
      "justify_content": null,
      "justify_items": null,
      "left": null,
      "margin": null,
      "max_height": null,
      "max_width": null,
      "min_height": null,
      "min_width": null,
      "object_fit": null,
      "object_position": null,
      "order": null,
      "overflow": null,
      "overflow_x": null,
      "overflow_y": null,
      "padding": null,
      "right": null,
      "top": null,
      "visibility": null,
      "width": null
     }
    },
    "5801553410cd44cdbf2176ef90e0833b": {
     "model_module": "@jupyter-widgets/controls",
     "model_module_version": "1.5.0",
     "model_name": "HTMLModel",
     "state": {
      "_dom_classes": [],
      "_model_module": "@jupyter-widgets/controls",
      "_model_module_version": "1.5.0",
      "_model_name": "HTMLModel",
      "_view_count": null,
      "_view_module": "@jupyter-widgets/controls",
      "_view_module_version": "1.5.0",
      "_view_name": "HTMLView",
      "description": "",
      "description_tooltip": null,
      "layout": "IPY_MODEL_ad715d468c82449997890dec6b8a5624",
      "placeholder": "​",
      "style": "IPY_MODEL_b8b00391067248dfbd9b0fae79ebf8aa",
      "value": "<center> <img\nsrc=https://huggingface.co/front/assets/huggingface_logo-noborder.svg\nalt='Hugging Face'> <br> Copy a token from <a\nhref=\"https://huggingface.co/settings/tokens\" target=\"_blank\">your Hugging Face\ntokens page</a> and paste it below. <br> Immediately click login after copying\nyour token or it might be stored in plain text in this notebook file. </center>"
     }
    },
    "59870fcdde98454b9de2d4f84ed14990": {
     "model_module": "@jupyter-widgets/base",
     "model_module_version": "1.2.0",
     "model_name": "LayoutModel",
     "state": {
      "_model_module": "@jupyter-widgets/base",
      "_model_module_version": "1.2.0",
      "_model_name": "LayoutModel",
      "_view_count": null,
      "_view_module": "@jupyter-widgets/base",
      "_view_module_version": "1.2.0",
      "_view_name": "LayoutView",
      "align_content": null,
      "align_items": null,
      "align_self": null,
      "border": null,
      "bottom": null,
      "display": null,
      "flex": null,
      "flex_flow": null,
      "grid_area": null,
      "grid_auto_columns": null,
      "grid_auto_flow": null,
      "grid_auto_rows": null,
      "grid_column": null,
      "grid_gap": null,
      "grid_row": null,
      "grid_template_areas": null,
      "grid_template_columns": null,
      "grid_template_rows": null,
      "height": null,
      "justify_content": null,
      "justify_items": null,
      "left": null,
      "margin": null,
      "max_height": null,
      "max_width": null,
      "min_height": null,
      "min_width": null,
      "object_fit": null,
      "object_position": null,
      "order": null,
      "overflow": null,
      "overflow_x": null,
      "overflow_y": null,
      "padding": null,
      "right": null,
      "top": null,
      "visibility": null,
      "width": null
     }
    },
    "59f64dac49384d6fbd2bf99e95327c10": {
     "model_module": "@jupyter-widgets/controls",
     "model_module_version": "1.5.0",
     "model_name": "CheckboxModel",
     "state": {
      "_dom_classes": [],
      "_model_module": "@jupyter-widgets/controls",
      "_model_module_version": "1.5.0",
      "_model_name": "CheckboxModel",
      "_view_count": null,
      "_view_module": "@jupyter-widgets/controls",
      "_view_module_version": "1.5.0",
      "_view_name": "CheckboxView",
      "description": "Add token as git credential?",
      "description_tooltip": null,
      "disabled": false,
      "indent": true,
      "layout": "IPY_MODEL_73227299340a493599b32d5bda5eeda3",
      "style": "IPY_MODEL_17a93a6d849544e58a2ea58ddb9d1a16",
      "value": true
     }
    },
    "5db814815d72440c8a9fabc65080a493": {
     "model_module": "@jupyter-widgets/controls",
     "model_module_version": "1.5.0",
     "model_name": "LabelModel",
     "state": {
      "_dom_classes": [],
      "_model_module": "@jupyter-widgets/controls",
      "_model_module_version": "1.5.0",
      "_model_name": "LabelModel",
      "_view_count": null,
      "_view_module": "@jupyter-widgets/controls",
      "_view_module_version": "1.5.0",
      "_view_name": "LabelView",
      "description": "",
      "description_tooltip": null,
      "layout": "IPY_MODEL_7442295d2e6647799818fd789f404f7a",
      "placeholder": "​",
      "style": "IPY_MODEL_a72ce6745d1742059a9434ca1badc66f",
      "value": "Connecting..."
     }
    },
    "61ce7386c07741c7b18fb8e28262f72c": {
     "model_module": "@jupyter-widgets/controls",
     "model_module_version": "1.5.0",
     "model_name": "DescriptionStyleModel",
     "state": {
      "_model_module": "@jupyter-widgets/controls",
      "_model_module_version": "1.5.0",
      "_model_name": "DescriptionStyleModel",
      "_view_count": null,
      "_view_module": "@jupyter-widgets/base",
      "_view_module_version": "1.2.0",
      "_view_name": "StyleView",
      "description_width": ""
     }
    },
    "631fbc5198a546b8b503902f4b80eeb9": {
     "model_module": "@jupyter-widgets/base",
     "model_module_version": "1.2.0",
     "model_name": "LayoutModel",
     "state": {
      "_model_module": "@jupyter-widgets/base",
      "_model_module_version": "1.2.0",
      "_model_name": "LayoutModel",
      "_view_count": null,
      "_view_module": "@jupyter-widgets/base",
      "_view_module_version": "1.2.0",
      "_view_name": "LayoutView",
      "align_content": null,
      "align_items": null,
      "align_self": null,
      "border": null,
      "bottom": null,
      "display": null,
      "flex": null,
      "flex_flow": null,
      "grid_area": null,
      "grid_auto_columns": null,
      "grid_auto_flow": null,
      "grid_auto_rows": null,
      "grid_column": null,
      "grid_gap": null,
      "grid_row": null,
      "grid_template_areas": null,
      "grid_template_columns": null,
      "grid_template_rows": null,
      "height": null,
      "justify_content": null,
      "justify_items": null,
      "left": null,
      "margin": null,
      "max_height": null,
      "max_width": null,
      "min_height": null,
      "min_width": null,
      "object_fit": null,
      "object_position": null,
      "order": null,
      "overflow": null,
      "overflow_x": null,
      "overflow_y": null,
      "padding": null,
      "right": null,
      "top": null,
      "visibility": null,
      "width": null
     }
    },
    "64a7a17b011b48e9b799d0ef3e32b0dd": {
     "model_module": "@jupyter-widgets/controls",
     "model_module_version": "1.5.0",
     "model_name": "FloatProgressModel",
     "state": {
      "_dom_classes": [],
      "_model_module": "@jupyter-widgets/controls",
      "_model_module_version": "1.5.0",
      "_model_name": "FloatProgressModel",
      "_view_count": null,
      "_view_module": "@jupyter-widgets/controls",
      "_view_module_version": "1.5.0",
      "_view_name": "ProgressView",
      "bar_style": "success",
      "description": "",
      "description_tooltip": null,
      "layout": "IPY_MODEL_a0b6b337c88d48b9814719748a21b26e",
      "max": 213450,
      "min": 0,
      "orientation": "horizontal",
      "style": "IPY_MODEL_7e38578a99cd43218653f57b4e5eaec2",
      "value": 213450
     }
    },
    "66b6bdcbf9f74a118db75bc8f42889b6": {
     "model_module": "@jupyter-widgets/base",
     "model_module_version": "1.2.0",
     "model_name": "LayoutModel",
     "state": {
      "_model_module": "@jupyter-widgets/base",
      "_model_module_version": "1.2.0",
      "_model_name": "LayoutModel",
      "_view_count": null,
      "_view_module": "@jupyter-widgets/base",
      "_view_module_version": "1.2.0",
      "_view_name": "LayoutView",
      "align_content": null,
      "align_items": "center",
      "align_self": null,
      "border": null,
      "bottom": null,
      "display": "flex",
      "flex": null,
      "flex_flow": "column",
      "grid_area": null,
      "grid_auto_columns": null,
      "grid_auto_flow": null,
      "grid_auto_rows": null,
      "grid_column": null,
      "grid_gap": null,
      "grid_row": null,
      "grid_template_areas": null,
      "grid_template_columns": null,
      "grid_template_rows": null,
      "height": null,
      "justify_content": null,
      "justify_items": null,
      "left": null,
      "margin": null,
      "max_height": null,
      "max_width": null,
      "min_height": null,
      "min_width": null,
      "object_fit": null,
      "object_position": null,
      "order": null,
      "overflow": null,
      "overflow_x": null,
      "overflow_y": null,
      "padding": null,
      "right": null,
      "top": null,
      "visibility": null,
      "width": "50%"
     }
    },
    "68f1323a37f0402f96ce4fbb3d9e66be": {
     "model_module": "@jupyter-widgets/base",
     "model_module_version": "1.2.0",
     "model_name": "LayoutModel",
     "state": {
      "_model_module": "@jupyter-widgets/base",
      "_model_module_version": "1.2.0",
      "_model_name": "LayoutModel",
      "_view_count": null,
      "_view_module": "@jupyter-widgets/base",
      "_view_module_version": "1.2.0",
      "_view_name": "LayoutView",
      "align_content": null,
      "align_items": null,
      "align_self": null,
      "border": null,
      "bottom": null,
      "display": null,
      "flex": null,
      "flex_flow": null,
      "grid_area": null,
      "grid_auto_columns": null,
      "grid_auto_flow": null,
      "grid_auto_rows": null,
      "grid_column": null,
      "grid_gap": null,
      "grid_row": null,
      "grid_template_areas": null,
      "grid_template_columns": null,
      "grid_template_rows": null,
      "height": null,
      "justify_content": null,
      "justify_items": null,
      "left": null,
      "margin": null,
      "max_height": null,
      "max_width": null,
      "min_height": null,
      "min_width": null,
      "object_fit": null,
      "object_position": null,
      "order": null,
      "overflow": null,
      "overflow_x": null,
      "overflow_y": null,
      "padding": null,
      "right": null,
      "top": null,
      "visibility": null,
      "width": null
     }
    },
    "69ebbcdbba5d47299b98a1322a665a8d": {
     "model_module": "@jupyter-widgets/base",
     "model_module_version": "1.2.0",
     "model_name": "LayoutModel",
     "state": {
      "_model_module": "@jupyter-widgets/base",
      "_model_module_version": "1.2.0",
      "_model_name": "LayoutModel",
      "_view_count": null,
      "_view_module": "@jupyter-widgets/base",
      "_view_module_version": "1.2.0",
      "_view_name": "LayoutView",
      "align_content": null,
      "align_items": null,
      "align_self": null,
      "border": null,
      "bottom": null,
      "display": null,
      "flex": null,
      "flex_flow": null,
      "grid_area": null,
      "grid_auto_columns": null,
      "grid_auto_flow": null,
      "grid_auto_rows": null,
      "grid_column": null,
      "grid_gap": null,
      "grid_row": null,
      "grid_template_areas": null,
      "grid_template_columns": null,
      "grid_template_rows": null,
      "height": null,
      "justify_content": null,
      "justify_items": null,
      "left": null,
      "margin": null,
      "max_height": null,
      "max_width": null,
      "min_height": null,
      "min_width": null,
      "object_fit": null,
      "object_position": null,
      "order": null,
      "overflow": null,
      "overflow_x": null,
      "overflow_y": null,
      "padding": null,
      "right": null,
      "top": null,
      "visibility": null,
      "width": null
     }
    },
    "711d9166d3704cb09ab47b10eb01f901": {
     "model_module": "@jupyter-widgets/controls",
     "model_module_version": "1.5.0",
     "model_name": "ProgressStyleModel",
     "state": {
      "_model_module": "@jupyter-widgets/controls",
      "_model_module_version": "1.5.0",
      "_model_name": "ProgressStyleModel",
      "_view_count": null,
      "_view_module": "@jupyter-widgets/base",
      "_view_module_version": "1.2.0",
      "_view_name": "StyleView",
      "bar_color": null,
      "description_width": ""
     }
    },
    "73227299340a493599b32d5bda5eeda3": {
     "model_module": "@jupyter-widgets/base",
     "model_module_version": "1.2.0",
     "model_name": "LayoutModel",
     "state": {
      "_model_module": "@jupyter-widgets/base",
      "_model_module_version": "1.2.0",
      "_model_name": "LayoutModel",
      "_view_count": null,
      "_view_module": "@jupyter-widgets/base",
      "_view_module_version": "1.2.0",
      "_view_name": "LayoutView",
      "align_content": null,
      "align_items": null,
      "align_self": null,
      "border": null,
      "bottom": null,
      "display": null,
      "flex": null,
      "flex_flow": null,
      "grid_area": null,
      "grid_auto_columns": null,
      "grid_auto_flow": null,
      "grid_auto_rows": null,
      "grid_column": null,
      "grid_gap": null,
      "grid_row": null,
      "grid_template_areas": null,
      "grid_template_columns": null,
      "grid_template_rows": null,
      "height": null,
      "justify_content": null,
      "justify_items": null,
      "left": null,
      "margin": null,
      "max_height": null,
      "max_width": null,
      "min_height": null,
      "min_width": null,
      "object_fit": null,
      "object_position": null,
      "order": null,
      "overflow": null,
      "overflow_x": null,
      "overflow_y": null,
      "padding": null,
      "right": null,
      "top": null,
      "visibility": null,
      "width": null
     }
    },
    "7442295d2e6647799818fd789f404f7a": {
     "model_module": "@jupyter-widgets/base",
     "model_module_version": "1.2.0",
     "model_name": "LayoutModel",
     "state": {
      "_model_module": "@jupyter-widgets/base",
      "_model_module_version": "1.2.0",
      "_model_name": "LayoutModel",
      "_view_count": null,
      "_view_module": "@jupyter-widgets/base",
      "_view_module_version": "1.2.0",
      "_view_name": "LayoutView",
      "align_content": null,
      "align_items": null,
      "align_self": null,
      "border": null,
      "bottom": null,
      "display": null,
      "flex": null,
      "flex_flow": null,
      "grid_area": null,
      "grid_auto_columns": null,
      "grid_auto_flow": null,
      "grid_auto_rows": null,
      "grid_column": null,
      "grid_gap": null,
      "grid_row": null,
      "grid_template_areas": null,
      "grid_template_columns": null,
      "grid_template_rows": null,
      "height": null,
      "justify_content": null,
      "justify_items": null,
      "left": null,
      "margin": null,
      "max_height": null,
      "max_width": null,
      "min_height": null,
      "min_width": null,
      "object_fit": null,
      "object_position": null,
      "order": null,
      "overflow": null,
      "overflow_x": null,
      "overflow_y": null,
      "padding": null,
      "right": null,
      "top": null,
      "visibility": null,
      "width": null
     }
    },
    "7723fad412a34d209657d6e01cf9624f": {
     "model_module": "@jupyter-widgets/controls",
     "model_module_version": "1.5.0",
     "model_name": "HTMLModel",
     "state": {
      "_dom_classes": [],
      "_model_module": "@jupyter-widgets/controls",
      "_model_module_version": "1.5.0",
      "_model_name": "HTMLModel",
      "_view_count": null,
      "_view_module": "@jupyter-widgets/controls",
      "_view_module_version": "1.5.0",
      "_view_name": "HTMLView",
      "description": "",
      "description_tooltip": null,
      "layout": "IPY_MODEL_68f1323a37f0402f96ce4fbb3d9e66be",
      "placeholder": "​",
      "style": "IPY_MODEL_463065855bd849f68e5eedf50c2e258c",
      "value": " 797/797 [00:00&lt;00:00, 70.0kB/s]"
     }
    },
    "77578a39bed04d6baf70952f3603cc38": {
     "model_module": "@jupyter-widgets/controls",
     "model_module_version": "1.5.0",
     "model_name": "DescriptionStyleModel",
     "state": {
      "_model_module": "@jupyter-widgets/controls",
      "_model_module_version": "1.5.0",
      "_model_name": "DescriptionStyleModel",
      "_view_count": null,
      "_view_module": "@jupyter-widgets/base",
      "_view_module_version": "1.2.0",
      "_view_name": "StyleView",
      "description_width": ""
     }
    },
    "779c14db2fcc4587aa122b794586d6ff": {
     "model_module": "@jupyter-widgets/base",
     "model_module_version": "1.2.0",
     "model_name": "LayoutModel",
     "state": {
      "_model_module": "@jupyter-widgets/base",
      "_model_module_version": "1.2.0",
      "_model_name": "LayoutModel",
      "_view_count": null,
      "_view_module": "@jupyter-widgets/base",
      "_view_module_version": "1.2.0",
      "_view_name": "LayoutView",
      "align_content": null,
      "align_items": null,
      "align_self": null,
      "border": null,
      "bottom": null,
      "display": null,
      "flex": null,
      "flex_flow": null,
      "grid_area": null,
      "grid_auto_columns": null,
      "grid_auto_flow": null,
      "grid_auto_rows": null,
      "grid_column": null,
      "grid_gap": null,
      "grid_row": null,
      "grid_template_areas": null,
      "grid_template_columns": null,
      "grid_template_rows": null,
      "height": null,
      "justify_content": null,
      "justify_items": null,
      "left": null,
      "margin": null,
      "max_height": null,
      "max_width": null,
      "min_height": null,
      "min_width": null,
      "object_fit": null,
      "object_position": null,
      "order": null,
      "overflow": null,
      "overflow_x": null,
      "overflow_y": null,
      "padding": null,
      "right": null,
      "top": null,
      "visibility": null,
      "width": null
     }
    },
    "7bbcafc9ec31409e857f76f1def750cc": {
     "model_module": "@jupyter-widgets/controls",
     "model_module_version": "1.5.0",
     "model_name": "HTMLModel",
     "state": {
      "_dom_classes": [],
      "_model_module": "@jupyter-widgets/controls",
      "_model_module_version": "1.5.0",
      "_model_name": "HTMLModel",
      "_view_count": null,
      "_view_module": "@jupyter-widgets/controls",
      "_view_module_version": "1.5.0",
      "_view_name": "HTMLView",
      "description": "",
      "description_tooltip": null,
      "layout": "IPY_MODEL_23929b5167a54da2824592e3d0b329ba",
      "placeholder": "​",
      "style": "IPY_MODEL_feade4b91d7d4ed99d174900c121548c",
      "value": "adapter_config.json: 100%"
     }
    },
    "7e38578a99cd43218653f57b4e5eaec2": {
     "model_module": "@jupyter-widgets/controls",
     "model_module_version": "1.5.0",
     "model_name": "ProgressStyleModel",
     "state": {
      "_model_module": "@jupyter-widgets/controls",
      "_model_module_version": "1.5.0",
      "_model_name": "ProgressStyleModel",
      "_view_count": null,
      "_view_module": "@jupyter-widgets/base",
      "_view_module_version": "1.2.0",
      "_view_name": "StyleView",
      "bar_color": null,
      "description_width": ""
     }
    },
    "88041a40bee1431fa0c744765b4f6b05": {
     "model_module": "@jupyter-widgets/controls",
     "model_module_version": "1.5.0",
     "model_name": "DescriptionStyleModel",
     "state": {
      "_model_module": "@jupyter-widgets/controls",
      "_model_module_version": "1.5.0",
      "_model_name": "DescriptionStyleModel",
      "_view_count": null,
      "_view_module": "@jupyter-widgets/base",
      "_view_module_version": "1.2.0",
      "_view_name": "StyleView",
      "description_width": ""
     }
    },
    "8924ec200436414697c6ce420c4105e6": {
     "model_module": "@jupyter-widgets/base",
     "model_module_version": "1.2.0",
     "model_name": "LayoutModel",
     "state": {
      "_model_module": "@jupyter-widgets/base",
      "_model_module_version": "1.2.0",
      "_model_name": "LayoutModel",
      "_view_count": null,
      "_view_module": "@jupyter-widgets/base",
      "_view_module_version": "1.2.0",
      "_view_name": "LayoutView",
      "align_content": null,
      "align_items": null,
      "align_self": null,
      "border": null,
      "bottom": null,
      "display": null,
      "flex": null,
      "flex_flow": null,
      "grid_area": null,
      "grid_auto_columns": null,
      "grid_auto_flow": null,
      "grid_auto_rows": null,
      "grid_column": null,
      "grid_gap": null,
      "grid_row": null,
      "grid_template_areas": null,
      "grid_template_columns": null,
      "grid_template_rows": null,
      "height": null,
      "justify_content": null,
      "justify_items": null,
      "left": null,
      "margin": null,
      "max_height": null,
      "max_width": null,
      "min_height": null,
      "min_width": null,
      "object_fit": null,
      "object_position": null,
      "order": null,
      "overflow": null,
      "overflow_x": null,
      "overflow_y": null,
      "padding": null,
      "right": null,
      "top": null,
      "visibility": null,
      "width": null
     }
    },
    "8b4dec01bbfb4444ab7315bfdbd05af3": {
     "model_module": "@jupyter-widgets/base",
     "model_module_version": "1.2.0",
     "model_name": "LayoutModel",
     "state": {
      "_model_module": "@jupyter-widgets/base",
      "_model_module_version": "1.2.0",
      "_model_name": "LayoutModel",
      "_view_count": null,
      "_view_module": "@jupyter-widgets/base",
      "_view_module_version": "1.2.0",
      "_view_name": "LayoutView",
      "align_content": null,
      "align_items": null,
      "align_self": null,
      "border": null,
      "bottom": null,
      "display": null,
      "flex": null,
      "flex_flow": null,
      "grid_area": null,
      "grid_auto_columns": null,
      "grid_auto_flow": null,
      "grid_auto_rows": null,
      "grid_column": null,
      "grid_gap": null,
      "grid_row": null,
      "grid_template_areas": null,
      "grid_template_columns": null,
      "grid_template_rows": null,
      "height": null,
      "justify_content": null,
      "justify_items": null,
      "left": null,
      "margin": null,
      "max_height": null,
      "max_width": null,
      "min_height": null,
      "min_width": null,
      "object_fit": null,
      "object_position": null,
      "order": null,
      "overflow": null,
      "overflow_x": null,
      "overflow_y": null,
      "padding": null,
      "right": null,
      "top": null,
      "visibility": null,
      "width": null
     }
    },
    "8b92afa4eae94f87ace55f99b3ca42b3": {
     "model_module": "@jupyter-widgets/controls",
     "model_module_version": "1.5.0",
     "model_name": "ButtonStyleModel",
     "state": {
      "_model_module": "@jupyter-widgets/controls",
      "_model_module_version": "1.5.0",
      "_model_name": "ButtonStyleModel",
      "_view_count": null,
      "_view_module": "@jupyter-widgets/base",
      "_view_module_version": "1.2.0",
      "_view_name": "StyleView",
      "button_color": null,
      "font_weight": ""
     }
    },
    "8cf4daafc63d4a4abd36e2d8f54414be": {
     "model_module": "@jupyter-widgets/base",
     "model_module_version": "1.2.0",
     "model_name": "LayoutModel",
     "state": {
      "_model_module": "@jupyter-widgets/base",
      "_model_module_version": "1.2.0",
      "_model_name": "LayoutModel",
      "_view_count": null,
      "_view_module": "@jupyter-widgets/base",
      "_view_module_version": "1.2.0",
      "_view_name": "LayoutView",
      "align_content": null,
      "align_items": null,
      "align_self": null,
      "border": null,
      "bottom": null,
      "display": null,
      "flex": null,
      "flex_flow": null,
      "grid_area": null,
      "grid_auto_columns": null,
      "grid_auto_flow": null,
      "grid_auto_rows": null,
      "grid_column": null,
      "grid_gap": null,
      "grid_row": null,
      "grid_template_areas": null,
      "grid_template_columns": null,
      "grid_template_rows": null,
      "height": null,
      "justify_content": null,
      "justify_items": null,
      "left": null,
      "margin": null,
      "max_height": null,
      "max_width": null,
      "min_height": null,
      "min_width": null,
      "object_fit": null,
      "object_position": null,
      "order": null,
      "overflow": null,
      "overflow_x": null,
      "overflow_y": null,
      "padding": null,
      "right": null,
      "top": null,
      "visibility": null,
      "width": null
     }
    },
    "8f4ee136f97149e18b33ef290834e384": {
     "model_module": "@jupyter-widgets/controls",
     "model_module_version": "1.5.0",
     "model_name": "DescriptionStyleModel",
     "state": {
      "_model_module": "@jupyter-widgets/controls",
      "_model_module_version": "1.5.0",
      "_model_name": "DescriptionStyleModel",
      "_view_count": null,
      "_view_module": "@jupyter-widgets/base",
      "_view_module_version": "1.2.0",
      "_view_name": "StyleView",
      "description_width": ""
     }
    },
    "8fcf5139c320400583a1a96a753c76d3": {
     "model_module": "@jupyter-widgets/controls",
     "model_module_version": "1.5.0",
     "model_name": "FloatProgressModel",
     "state": {
      "_dom_classes": [],
      "_model_module": "@jupyter-widgets/controls",
      "_model_module_version": "1.5.0",
      "_model_name": "FloatProgressModel",
      "_view_count": null,
      "_view_module": "@jupyter-widgets/controls",
      "_view_module_version": "1.5.0",
      "_view_name": "ProgressView",
      "bar_style": "success",
      "description": "",
      "description_tooltip": null,
      "layout": "IPY_MODEL_779c14db2fcc4587aa122b794586d6ff",
      "max": 570,
      "min": 0,
      "orientation": "horizontal",
      "style": "IPY_MODEL_711d9166d3704cb09ab47b10eb01f901",
      "value": 570
     }
    },
    "995eb19c6106447c9e660f312b84b0c3": {
     "model_module": "@jupyter-widgets/controls",
     "model_module_version": "1.5.0",
     "model_name": "HTMLModel",
     "state": {
      "_dom_classes": [],
      "_model_module": "@jupyter-widgets/controls",
      "_model_module_version": "1.5.0",
      "_model_name": "HTMLModel",
      "_view_count": null,
      "_view_module": "@jupyter-widgets/controls",
      "_view_module_version": "1.5.0",
      "_view_name": "HTMLView",
      "description": "",
      "description_tooltip": null,
      "layout": "IPY_MODEL_d5a644182bdc4ac1a701fc33bfbced82",
      "placeholder": "​",
      "style": "IPY_MODEL_88041a40bee1431fa0c744765b4f6b05",
      "value": " 436k/436k [00:00&lt;00:00, 945kB/s]"
     }
    },
    "a0b6b337c88d48b9814719748a21b26e": {
     "model_module": "@jupyter-widgets/base",
     "model_module_version": "1.2.0",
     "model_name": "LayoutModel",
     "state": {
      "_model_module": "@jupyter-widgets/base",
      "_model_module_version": "1.2.0",
      "_model_name": "LayoutModel",
      "_view_count": null,
      "_view_module": "@jupyter-widgets/base",
      "_view_module_version": "1.2.0",
      "_view_name": "LayoutView",
      "align_content": null,
      "align_items": null,
      "align_self": null,
      "border": null,
      "bottom": null,
      "display": null,
      "flex": null,
      "flex_flow": null,
      "grid_area": null,
      "grid_auto_columns": null,
      "grid_auto_flow": null,
      "grid_auto_rows": null,
      "grid_column": null,
      "grid_gap": null,
      "grid_row": null,
      "grid_template_areas": null,
      "grid_template_columns": null,
      "grid_template_rows": null,
      "height": null,
      "justify_content": null,
      "justify_items": null,
      "left": null,
      "margin": null,
      "max_height": null,
      "max_width": null,
      "min_height": null,
      "min_width": null,
      "object_fit": null,
      "object_position": null,
      "order": null,
      "overflow": null,
      "overflow_x": null,
      "overflow_y": null,
      "padding": null,
      "right": null,
      "top": null,
      "visibility": null,
      "width": null
     }
    },
    "a6e75ef27a114e91828dddfa631b770b": {
     "model_module": "@jupyter-widgets/controls",
     "model_module_version": "1.5.0",
     "model_name": "DescriptionStyleModel",
     "state": {
      "_model_module": "@jupyter-widgets/controls",
      "_model_module_version": "1.5.0",
      "_model_name": "DescriptionStyleModel",
      "_view_count": null,
      "_view_module": "@jupyter-widgets/base",
      "_view_module_version": "1.2.0",
      "_view_name": "StyleView",
      "description_width": ""
     }
    },
    "a72ce6745d1742059a9434ca1badc66f": {
     "model_module": "@jupyter-widgets/controls",
     "model_module_version": "1.5.0",
     "model_name": "DescriptionStyleModel",
     "state": {
      "_model_module": "@jupyter-widgets/controls",
      "_model_module_version": "1.5.0",
      "_model_name": "DescriptionStyleModel",
      "_view_count": null,
      "_view_module": "@jupyter-widgets/base",
      "_view_module_version": "1.2.0",
      "_view_name": "StyleView",
      "description_width": ""
     }
    },
    "a7dc8f41939e4df8a1c1a482f872d86b": {
     "model_module": "@jupyter-widgets/controls",
     "model_module_version": "1.5.0",
     "model_name": "HTMLModel",
     "state": {
      "_dom_classes": [],
      "_model_module": "@jupyter-widgets/controls",
      "_model_module_version": "1.5.0",
      "_model_name": "HTMLModel",
      "_view_count": null,
      "_view_module": "@jupyter-widgets/controls",
      "_view_module_version": "1.5.0",
      "_view_name": "HTMLView",
      "description": "",
      "description_tooltip": null,
      "layout": "IPY_MODEL_2c69bf9171c94f36a18e87b56ff1caf0",
      "placeholder": "​",
      "style": "IPY_MODEL_3b60d044a79242bc9aac6fd693aed05b",
      "value": " 213k/213k [00:00&lt;00:00, 12.6MB/s]"
     }
    },
    "acb06e99981c47e6b6fa62da3a6d3593": {
     "model_module": "@jupyter-widgets/controls",
     "model_module_version": "1.5.0",
     "model_name": "DescriptionStyleModel",
     "state": {
      "_model_module": "@jupyter-widgets/controls",
      "_model_module_version": "1.5.0",
      "_model_name": "DescriptionStyleModel",
      "_view_count": null,
      "_view_module": "@jupyter-widgets/base",
      "_view_module_version": "1.2.0",
      "_view_name": "StyleView",
      "description_width": ""
     }
    },
    "ad715d468c82449997890dec6b8a5624": {
     "model_module": "@jupyter-widgets/base",
     "model_module_version": "1.2.0",
     "model_name": "LayoutModel",
     "state": {
      "_model_module": "@jupyter-widgets/base",
      "_model_module_version": "1.2.0",
      "_model_name": "LayoutModel",
      "_view_count": null,
      "_view_module": "@jupyter-widgets/base",
      "_view_module_version": "1.2.0",
      "_view_name": "LayoutView",
      "align_content": null,
      "align_items": null,
      "align_self": null,
      "border": null,
      "bottom": null,
      "display": null,
      "flex": null,
      "flex_flow": null,
      "grid_area": null,
      "grid_auto_columns": null,
      "grid_auto_flow": null,
      "grid_auto_rows": null,
      "grid_column": null,
      "grid_gap": null,
      "grid_row": null,
      "grid_template_areas": null,
      "grid_template_columns": null,
      "grid_template_rows": null,
      "height": null,
      "justify_content": null,
      "justify_items": null,
      "left": null,
      "margin": null,
      "max_height": null,
      "max_width": null,
      "min_height": null,
      "min_width": null,
      "object_fit": null,
      "object_position": null,
      "order": null,
      "overflow": null,
      "overflow_x": null,
      "overflow_y": null,
      "padding": null,
      "right": null,
      "top": null,
      "visibility": null,
      "width": null
     }
    },
    "ad76fe30f61b4ed2995eccff6539ec5c": {
     "model_module": "@jupyter-widgets/controls",
     "model_module_version": "1.5.0",
     "model_name": "DescriptionStyleModel",
     "state": {
      "_model_module": "@jupyter-widgets/controls",
      "_model_module_version": "1.5.0",
      "_model_name": "DescriptionStyleModel",
      "_view_count": null,
      "_view_module": "@jupyter-widgets/base",
      "_view_module_version": "1.2.0",
      "_view_name": "StyleView",
      "description_width": ""
     }
    },
    "afbf223ea89b4a4ca1bcdc9939d5cb2e": {
     "model_module": "@jupyter-widgets/controls",
     "model_module_version": "1.5.0",
     "model_name": "HTMLModel",
     "state": {
      "_dom_classes": [],
      "_model_module": "@jupyter-widgets/controls",
      "_model_module_version": "1.5.0",
      "_model_name": "HTMLModel",
      "_view_count": null,
      "_view_module": "@jupyter-widgets/controls",
      "_view_module_version": "1.5.0",
      "_view_name": "HTMLView",
      "description": "",
      "description_tooltip": null,
      "layout": "IPY_MODEL_de2b250eb84f4aca9074b6526a39605a",
      "placeholder": "​",
      "style": "IPY_MODEL_61ce7386c07741c7b18fb8e28262f72c",
      "value": " 570/570 [00:00&lt;00:00, 50.1kB/s]"
     }
    },
    "b1f4b2feb75e4ca282459f918c0e2286": {
     "model_module": "@jupyter-widgets/controls",
     "model_module_version": "1.5.0",
     "model_name": "ProgressStyleModel",
     "state": {
      "_model_module": "@jupyter-widgets/controls",
      "_model_module_version": "1.5.0",
      "_model_name": "ProgressStyleModel",
      "_view_count": null,
      "_view_module": "@jupyter-widgets/base",
      "_view_module_version": "1.2.0",
      "_view_name": "StyleView",
      "bar_color": null,
      "description_width": ""
     }
    },
    "b644a47d109a4818ab0ce16042c94ad1": {
     "model_module": "@jupyter-widgets/controls",
     "model_module_version": "1.5.0",
     "model_name": "ProgressStyleModel",
     "state": {
      "_model_module": "@jupyter-widgets/controls",
      "_model_module_version": "1.5.0",
      "_model_name": "ProgressStyleModel",
      "_view_count": null,
      "_view_module": "@jupyter-widgets/base",
      "_view_module_version": "1.2.0",
      "_view_name": "StyleView",
      "bar_color": null,
      "description_width": ""
     }
    },
    "b7ca7a1f107044b5a37bcce72c0d8ddc": {
     "model_module": "@jupyter-widgets/controls",
     "model_module_version": "1.5.0",
     "model_name": "DescriptionStyleModel",
     "state": {
      "_model_module": "@jupyter-widgets/controls",
      "_model_module_version": "1.5.0",
      "_model_name": "DescriptionStyleModel",
      "_view_count": null,
      "_view_module": "@jupyter-widgets/base",
      "_view_module_version": "1.2.0",
      "_view_name": "StyleView",
      "description_width": ""
     }
    },
    "b845f864fc064b84be3da9654e4da177": {
     "model_module": "@jupyter-widgets/controls",
     "model_module_version": "1.5.0",
     "model_name": "HBoxModel",
     "state": {
      "_dom_classes": [],
      "_model_module": "@jupyter-widgets/controls",
      "_model_module_version": "1.5.0",
      "_model_name": "HBoxModel",
      "_view_count": null,
      "_view_module": "@jupyter-widgets/controls",
      "_view_module_version": "1.5.0",
      "_view_name": "HBoxView",
      "box_style": "",
      "children": [
       "IPY_MODEL_df4dbc8db295488da11a8c2a19f1925a",
       "IPY_MODEL_8fcf5139c320400583a1a96a753c76d3",
       "IPY_MODEL_afbf223ea89b4a4ca1bcdc9939d5cb2e"
      ],
      "layout": "IPY_MODEL_f4e27c73f0244e1b99a4616280c469a5"
     }
    },
    "b8b00391067248dfbd9b0fae79ebf8aa": {
     "model_module": "@jupyter-widgets/controls",
     "model_module_version": "1.5.0",
     "model_name": "DescriptionStyleModel",
     "state": {
      "_model_module": "@jupyter-widgets/controls",
      "_model_module_version": "1.5.0",
      "_model_name": "DescriptionStyleModel",
      "_view_count": null,
      "_view_module": "@jupyter-widgets/base",
      "_view_module_version": "1.2.0",
      "_view_name": "StyleView",
      "description_width": ""
     }
    },
    "bc2ea656326a42929974c9a01bb929bc": {
     "model_module": "@jupyter-widgets/controls",
     "model_module_version": "1.5.0",
     "model_name": "PasswordModel",
     "state": {
      "_dom_classes": [],
      "_model_module": "@jupyter-widgets/controls",
      "_model_module_version": "1.5.0",
      "_model_name": "PasswordModel",
      "_view_count": null,
      "_view_module": "@jupyter-widgets/controls",
      "_view_module_version": "1.5.0",
      "_view_name": "PasswordView",
      "continuous_update": true,
      "description": "Token:",
      "description_tooltip": null,
      "disabled": false,
      "layout": "IPY_MODEL_59870fcdde98454b9de2d4f84ed14990",
      "placeholder": "​",
      "style": "IPY_MODEL_8f4ee136f97149e18b33ef290834e384",
      "value": ""
     }
    },
    "bd1dd3916d37498fbd56523a3c9c1ee9": {
     "model_module": "@jupyter-widgets/base",
     "model_module_version": "1.2.0",
     "model_name": "LayoutModel",
     "state": {
      "_model_module": "@jupyter-widgets/base",
      "_model_module_version": "1.2.0",
      "_model_name": "LayoutModel",
      "_view_count": null,
      "_view_module": "@jupyter-widgets/base",
      "_view_module_version": "1.2.0",
      "_view_name": "LayoutView",
      "align_content": null,
      "align_items": null,
      "align_self": null,
      "border": null,
      "bottom": null,
      "display": null,
      "flex": null,
      "flex_flow": null,
      "grid_area": null,
      "grid_auto_columns": null,
      "grid_auto_flow": null,
      "grid_auto_rows": null,
      "grid_column": null,
      "grid_gap": null,
      "grid_row": null,
      "grid_template_areas": null,
      "grid_template_columns": null,
      "grid_template_rows": null,
      "height": null,
      "justify_content": null,
      "justify_items": null,
      "left": null,
      "margin": null,
      "max_height": null,
      "max_width": null,
      "min_height": null,
      "min_width": null,
      "object_fit": null,
      "object_position": null,
      "order": null,
      "overflow": null,
      "overflow_x": null,
      "overflow_y": null,
      "padding": null,
      "right": null,
      "top": null,
      "visibility": null,
      "width": null
     }
    },
    "c47b17b20fa84c8e8ed7333d4d7de033": {
     "model_module": "@jupyter-widgets/controls",
     "model_module_version": "1.5.0",
     "model_name": "DescriptionStyleModel",
     "state": {
      "_model_module": "@jupyter-widgets/controls",
      "_model_module_version": "1.5.0",
      "_model_name": "DescriptionStyleModel",
      "_view_count": null,
      "_view_module": "@jupyter-widgets/base",
      "_view_module_version": "1.2.0",
      "_view_name": "StyleView",
      "description_width": ""
     }
    },
    "cfd0c5fb55014535a1e556f191d6a164": {
     "model_module": "@jupyter-widgets/controls",
     "model_module_version": "1.5.0",
     "model_name": "HBoxModel",
     "state": {
      "_dom_classes": [],
      "_model_module": "@jupyter-widgets/controls",
      "_model_module_version": "1.5.0",
      "_model_name": "HBoxModel",
      "_view_count": null,
      "_view_module": "@jupyter-widgets/controls",
      "_view_module_version": "1.5.0",
      "_view_name": "HBoxView",
      "box_style": "",
      "children": [
       "IPY_MODEL_7bbcafc9ec31409e857f76f1def750cc",
       "IPY_MODEL_d6a9084952f1470d8302d687c3cee818",
       "IPY_MODEL_7723fad412a34d209657d6e01cf9624f"
      ],
      "layout": "IPY_MODEL_bd1dd3916d37498fbd56523a3c9c1ee9"
     }
    },
    "d5a644182bdc4ac1a701fc33bfbced82": {
     "model_module": "@jupyter-widgets/base",
     "model_module_version": "1.2.0",
     "model_name": "LayoutModel",
     "state": {
      "_model_module": "@jupyter-widgets/base",
      "_model_module_version": "1.2.0",
      "_model_name": "LayoutModel",
      "_view_count": null,
      "_view_module": "@jupyter-widgets/base",
      "_view_module_version": "1.2.0",
      "_view_name": "LayoutView",
      "align_content": null,
      "align_items": null,
      "align_self": null,
      "border": null,
      "bottom": null,
      "display": null,
      "flex": null,
      "flex_flow": null,
      "grid_area": null,
      "grid_auto_columns": null,
      "grid_auto_flow": null,
      "grid_auto_rows": null,
      "grid_column": null,
      "grid_gap": null,
      "grid_row": null,
      "grid_template_areas": null,
      "grid_template_columns": null,
      "grid_template_rows": null,
      "height": null,
      "justify_content": null,
      "justify_items": null,
      "left": null,
      "margin": null,
      "max_height": null,
      "max_width": null,
      "min_height": null,
      "min_width": null,
      "object_fit": null,
      "object_position": null,
      "order": null,
      "overflow": null,
      "overflow_x": null,
      "overflow_y": null,
      "padding": null,
      "right": null,
      "top": null,
      "visibility": null,
      "width": null
     }
    },
    "d5c2389f70674fed9c6ec3fda169743d": {
     "model_module": "@jupyter-widgets/controls",
     "model_module_version": "1.5.0",
     "model_name": "ProgressStyleModel",
     "state": {
      "_model_module": "@jupyter-widgets/controls",
      "_model_module_version": "1.5.0",
      "_model_name": "ProgressStyleModel",
      "_view_count": null,
      "_view_module": "@jupyter-widgets/base",
      "_view_module_version": "1.2.0",
      "_view_name": "StyleView",
      "bar_color": null,
      "description_width": ""
     }
    },
    "d6a9084952f1470d8302d687c3cee818": {
     "model_module": "@jupyter-widgets/controls",
     "model_module_version": "1.5.0",
     "model_name": "FloatProgressModel",
     "state": {
      "_dom_classes": [],
      "_model_module": "@jupyter-widgets/controls",
      "_model_module_version": "1.5.0",
      "_model_name": "FloatProgressModel",
      "_view_count": null,
      "_view_module": "@jupyter-widgets/controls",
      "_view_module_version": "1.5.0",
      "_view_name": "ProgressView",
      "bar_style": "success",
      "description": "",
      "description_tooltip": null,
      "layout": "IPY_MODEL_23d7451d957c4a2abb3d855b306039b7",
      "max": 797,
      "min": 0,
      "orientation": "horizontal",
      "style": "IPY_MODEL_19cb6e2654114a98b76645fc04b6bcea",
      "value": 797
     }
    },
    "d767dcf5e22f4b8e93e2b0125d1cbb75": {
     "model_module": "@jupyter-widgets/base",
     "model_module_version": "1.2.0",
     "model_name": "LayoutModel",
     "state": {
      "_model_module": "@jupyter-widgets/base",
      "_model_module_version": "1.2.0",
      "_model_name": "LayoutModel",
      "_view_count": null,
      "_view_module": "@jupyter-widgets/base",
      "_view_module_version": "1.2.0",
      "_view_name": "LayoutView",
      "align_content": null,
      "align_items": null,
      "align_self": null,
      "border": null,
      "bottom": null,
      "display": null,
      "flex": null,
      "flex_flow": null,
      "grid_area": null,
      "grid_auto_columns": null,
      "grid_auto_flow": null,
      "grid_auto_rows": null,
      "grid_column": null,
      "grid_gap": null,
      "grid_row": null,
      "grid_template_areas": null,
      "grid_template_columns": null,
      "grid_template_rows": null,
      "height": null,
      "justify_content": null,
      "justify_items": null,
      "left": null,
      "margin": null,
      "max_height": null,
      "max_width": null,
      "min_height": null,
      "min_width": null,
      "object_fit": null,
      "object_position": null,
      "order": null,
      "overflow": null,
      "overflow_x": null,
      "overflow_y": null,
      "padding": null,
      "right": null,
      "top": null,
      "visibility": null,
      "width": null
     }
    },
    "de2b250eb84f4aca9074b6526a39605a": {
     "model_module": "@jupyter-widgets/base",
     "model_module_version": "1.2.0",
     "model_name": "LayoutModel",
     "state": {
      "_model_module": "@jupyter-widgets/base",
      "_model_module_version": "1.2.0",
      "_model_name": "LayoutModel",
      "_view_count": null,
      "_view_module": "@jupyter-widgets/base",
      "_view_module_version": "1.2.0",
      "_view_name": "LayoutView",
      "align_content": null,
      "align_items": null,
      "align_self": null,
      "border": null,
      "bottom": null,
      "display": null,
      "flex": null,
      "flex_flow": null,
      "grid_area": null,
      "grid_auto_columns": null,
      "grid_auto_flow": null,
      "grid_auto_rows": null,
      "grid_column": null,
      "grid_gap": null,
      "grid_row": null,
      "grid_template_areas": null,
      "grid_template_columns": null,
      "grid_template_rows": null,
      "height": null,
      "justify_content": null,
      "justify_items": null,
      "left": null,
      "margin": null,
      "max_height": null,
      "max_width": null,
      "min_height": null,
      "min_width": null,
      "object_fit": null,
      "object_position": null,
      "order": null,
      "overflow": null,
      "overflow_x": null,
      "overflow_y": null,
      "padding": null,
      "right": null,
      "top": null,
      "visibility": null,
      "width": null
     }
    },
    "df4dbc8db295488da11a8c2a19f1925a": {
     "model_module": "@jupyter-widgets/controls",
     "model_module_version": "1.5.0",
     "model_name": "HTMLModel",
     "state": {
      "_dom_classes": [],
      "_model_module": "@jupyter-widgets/controls",
      "_model_module_version": "1.5.0",
      "_model_name": "HTMLModel",
      "_view_count": null,
      "_view_module": "@jupyter-widgets/controls",
      "_view_module_version": "1.5.0",
      "_view_name": "HTMLView",
      "description": "",
      "description_tooltip": null,
      "layout": "IPY_MODEL_05e28bc046b645e1a55221da18d91d52",
      "placeholder": "​",
      "style": "IPY_MODEL_c47b17b20fa84c8e8ed7333d4d7de033",
      "value": "config.json: 100%"
     }
    },
    "ec3cded4f30e41c089c3e1a4629666fd": {
     "model_module": "@jupyter-widgets/controls",
     "model_module_version": "1.5.0",
     "model_name": "HBoxModel",
     "state": {
      "_dom_classes": [],
      "_model_module": "@jupyter-widgets/controls",
      "_model_module_version": "1.5.0",
      "_model_name": "HBoxModel",
      "_view_count": null,
      "_view_module": "@jupyter-widgets/controls",
      "_view_module_version": "1.5.0",
      "_view_name": "HBoxView",
      "box_style": "",
      "children": [
       "IPY_MODEL_2c97aa6ee0264906a9eeafa2c5ce5d53",
       "IPY_MODEL_3916119706d54ee884d54b65ac4bc3e6",
       "IPY_MODEL_995eb19c6106447c9e660f312b84b0c3"
      ],
      "layout": "IPY_MODEL_1a6e6eb17892481ebe4ba015cfbc3f89"
     }
    },
    "ef470c00c78f43c492b4dd4ae7e61e01": {
     "model_module": "@jupyter-widgets/base",
     "model_module_version": "1.2.0",
     "model_name": "LayoutModel",
     "state": {
      "_model_module": "@jupyter-widgets/base",
      "_model_module_version": "1.2.0",
      "_model_name": "LayoutModel",
      "_view_count": null,
      "_view_module": "@jupyter-widgets/base",
      "_view_module_version": "1.2.0",
      "_view_name": "LayoutView",
      "align_content": null,
      "align_items": null,
      "align_self": null,
      "border": null,
      "bottom": null,
      "display": null,
      "flex": null,
      "flex_flow": null,
      "grid_area": null,
      "grid_auto_columns": null,
      "grid_auto_flow": null,
      "grid_auto_rows": null,
      "grid_column": null,
      "grid_gap": null,
      "grid_row": null,
      "grid_template_areas": null,
      "grid_template_columns": null,
      "grid_template_rows": null,
      "height": null,
      "justify_content": null,
      "justify_items": null,
      "left": null,
      "margin": null,
      "max_height": null,
      "max_width": null,
      "min_height": null,
      "min_width": null,
      "object_fit": null,
      "object_position": null,
      "order": null,
      "overflow": null,
      "overflow_x": null,
      "overflow_y": null,
      "padding": null,
      "right": null,
      "top": null,
      "visibility": null,
      "width": null
     }
    },
    "f0009c57d8af4150ad9b055b0b0f9d4c": {
     "model_module": "@jupyter-widgets/base",
     "model_module_version": "1.2.0",
     "model_name": "LayoutModel",
     "state": {
      "_model_module": "@jupyter-widgets/base",
      "_model_module_version": "1.2.0",
      "_model_name": "LayoutModel",
      "_view_count": null,
      "_view_module": "@jupyter-widgets/base",
      "_view_module_version": "1.2.0",
      "_view_name": "LayoutView",
      "align_content": null,
      "align_items": null,
      "align_self": null,
      "border": null,
      "bottom": null,
      "display": null,
      "flex": null,
      "flex_flow": null,
      "grid_area": null,
      "grid_auto_columns": null,
      "grid_auto_flow": null,
      "grid_auto_rows": null,
      "grid_column": null,
      "grid_gap": null,
      "grid_row": null,
      "grid_template_areas": null,
      "grid_template_columns": null,
      "grid_template_rows": null,
      "height": null,
      "justify_content": null,
      "justify_items": null,
      "left": null,
      "margin": null,
      "max_height": null,
      "max_width": null,
      "min_height": null,
      "min_width": null,
      "object_fit": null,
      "object_position": null,
      "order": null,
      "overflow": null,
      "overflow_x": null,
      "overflow_y": null,
      "padding": null,
      "right": null,
      "top": null,
      "visibility": null,
      "width": null
     }
    },
    "f30d8749259042d9b29fdf4c694f0aff": {
     "model_module": "@jupyter-widgets/controls",
     "model_module_version": "1.5.0",
     "model_name": "HTMLModel",
     "state": {
      "_dom_classes": [],
      "_model_module": "@jupyter-widgets/controls",
      "_model_module_version": "1.5.0",
      "_model_name": "HTMLModel",
      "_view_count": null,
      "_view_module": "@jupyter-widgets/controls",
      "_view_module_version": "1.5.0",
      "_view_name": "HTMLView",
      "description": "",
      "description_tooltip": null,
      "layout": "IPY_MODEL_8924ec200436414697c6ce420c4105e6",
      "placeholder": "​",
      "style": "IPY_MODEL_acb06e99981c47e6b6fa62da3a6d3593",
      "value": " 49.0/49.0 [00:00&lt;00:00, 3.91kB/s]"
     }
    },
    "f3ebcd59fa4544e5afd3d0f6d73aebd1": {
     "model_module": "@jupyter-widgets/controls",
     "model_module_version": "1.5.0",
     "model_name": "HTMLModel",
     "state": {
      "_dom_classes": [],
      "_model_module": "@jupyter-widgets/controls",
      "_model_module_version": "1.5.0",
      "_model_name": "HTMLModel",
      "_view_count": null,
      "_view_module": "@jupyter-widgets/controls",
      "_view_module_version": "1.5.0",
      "_view_name": "HTMLView",
      "description": "",
      "description_tooltip": null,
      "layout": "IPY_MODEL_46b826e7ae9b4da1a62d2d938613f9cd",
      "placeholder": "​",
      "style": "IPY_MODEL_77578a39bed04d6baf70952f3603cc38",
      "value": "vocab.txt: 100%"
     }
    },
    "f4e27c73f0244e1b99a4616280c469a5": {
     "model_module": "@jupyter-widgets/base",
     "model_module_version": "1.2.0",
     "model_name": "LayoutModel",
     "state": {
      "_model_module": "@jupyter-widgets/base",
      "_model_module_version": "1.2.0",
      "_model_name": "LayoutModel",
      "_view_count": null,
      "_view_module": "@jupyter-widgets/base",
      "_view_module_version": "1.2.0",
      "_view_name": "LayoutView",
      "align_content": null,
      "align_items": null,
      "align_self": null,
      "border": null,
      "bottom": null,
      "display": null,
      "flex": null,
      "flex_flow": null,
      "grid_area": null,
      "grid_auto_columns": null,
      "grid_auto_flow": null,
      "grid_auto_rows": null,
      "grid_column": null,
      "grid_gap": null,
      "grid_row": null,
      "grid_template_areas": null,
      "grid_template_columns": null,
      "grid_template_rows": null,
      "height": null,
      "justify_content": null,
      "justify_items": null,
      "left": null,
      "margin": null,
      "max_height": null,
      "max_width": null,
      "min_height": null,
      "min_width": null,
      "object_fit": null,
      "object_position": null,
      "order": null,
      "overflow": null,
      "overflow_x": null,
      "overflow_y": null,
      "padding": null,
      "right": null,
      "top": null,
      "visibility": null,
      "width": null
     }
    },
    "fbbce57e4c944c9db7162ced6a2050b5": {
     "model_module": "@jupyter-widgets/base",
     "model_module_version": "1.2.0",
     "model_name": "LayoutModel",
     "state": {
      "_model_module": "@jupyter-widgets/base",
      "_model_module_version": "1.2.0",
      "_model_name": "LayoutModel",
      "_view_count": null,
      "_view_module": "@jupyter-widgets/base",
      "_view_module_version": "1.2.0",
      "_view_name": "LayoutView",
      "align_content": null,
      "align_items": null,
      "align_self": null,
      "border": null,
      "bottom": null,
      "display": null,
      "flex": null,
      "flex_flow": null,
      "grid_area": null,
      "grid_auto_columns": null,
      "grid_auto_flow": null,
      "grid_auto_rows": null,
      "grid_column": null,
      "grid_gap": null,
      "grid_row": null,
      "grid_template_areas": null,
      "grid_template_columns": null,
      "grid_template_rows": null,
      "height": null,
      "justify_content": null,
      "justify_items": null,
      "left": null,
      "margin": null,
      "max_height": null,
      "max_width": null,
      "min_height": null,
      "min_width": null,
      "object_fit": null,
      "object_position": null,
      "order": null,
      "overflow": null,
      "overflow_x": null,
      "overflow_y": null,
      "padding": null,
      "right": null,
      "top": null,
      "visibility": null,
      "width": null
     }
    },
    "feade4b91d7d4ed99d174900c121548c": {
     "model_module": "@jupyter-widgets/controls",
     "model_module_version": "1.5.0",
     "model_name": "DescriptionStyleModel",
     "state": {
      "_model_module": "@jupyter-widgets/controls",
      "_model_module_version": "1.5.0",
      "_model_name": "DescriptionStyleModel",
      "_view_count": null,
      "_view_module": "@jupyter-widgets/base",
      "_view_module_version": "1.2.0",
      "_view_name": "StyleView",
      "description_width": ""
     }
    },
    "ffc5cbca5b20451a90c894bc6b213b08": {
     "model_module": "@jupyter-widgets/controls",
     "model_module_version": "1.5.0",
     "model_name": "HBoxModel",
     "state": {
      "_dom_classes": [],
      "_model_module": "@jupyter-widgets/controls",
      "_model_module_version": "1.5.0",
      "_model_name": "HBoxModel",
      "_view_count": null,
      "_view_module": "@jupyter-widgets/controls",
      "_view_module_version": "1.5.0",
      "_view_name": "HBoxView",
      "box_style": "",
      "children": [
       "IPY_MODEL_f3ebcd59fa4544e5afd3d0f6d73aebd1",
       "IPY_MODEL_64a7a17b011b48e9b799d0ef3e32b0dd",
       "IPY_MODEL_a7dc8f41939e4df8a1c1a482f872d86b"
      ],
      "layout": "IPY_MODEL_d767dcf5e22f4b8e93e2b0125d1cbb75"
     }
    }
   }
  }
 },
 "nbformat": 4,
 "nbformat_minor": 0
}
